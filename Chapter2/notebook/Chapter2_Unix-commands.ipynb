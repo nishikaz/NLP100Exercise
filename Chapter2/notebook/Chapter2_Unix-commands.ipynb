{
 "cells": [
  {
   "cell_type": "markdown",
   "metadata": {},
   "source": [
    "# 第2章: UNIXコマンド\n",
    "[popular-names.txt](popular-names.txt)は，アメリカで生まれた赤ちゃんの「名前」「性別」「人数」「年」をタブ区切り形式で格納したファイルである．以下の処理を行うプログラムを作成し，popular-names.txtを入力ファイルとして実行せよ．さらに，同様の処理をUNIXコマンドでも実行し，プログラムの実行結果を確認せよ．"
   ]
  },
  {
   "cell_type": "code",
   "execution_count": 1,
   "metadata": {},
   "outputs": [],
   "source": [
    "# 事前準備\n",
    "import pandas as pd\n",
    "df = pd.read_table('../popular-names.txt', header=None)\n",
    "with open('../popular-names.txt') as f:\n",
    "    names = f.read()"
   ]
  },
  {
   "cell_type": "markdown",
   "metadata": {},
   "source": [
    "## 10. 行数のカウント\n",
    "行数をカウントせよ．確認にはwcコマンドを用いよ"
   ]
  },
  {
   "cell_type": "code",
   "execution_count": 2,
   "metadata": {},
   "outputs": [
    {
     "data": {
      "text/plain": [
       "2780"
      ]
     },
     "execution_count": 2,
     "metadata": {},
     "output_type": "execute_result"
    }
   ],
   "source": [
    "names.count('\\n')"
   ]
  },
  {
   "cell_type": "markdown",
   "metadata": {},
   "source": [
    "## 11. タブをスペースに置換\n",
    "タブ1文字につきスペース1文字に置換せよ．確認にはsedコマンド，trコマンド，もしくはexpandコマンドを用いよ．"
   ]
  },
  {
   "cell_type": "code",
   "execution_count": 3,
   "metadata": {},
   "outputs": [
    {
     "data": {
      "text/plain": [
       "'Mary F 7065 1880\\nAnna F 2604 1880\\nEmma F 2003 1880\\nElizabeth F 1939 1880\\nMinnie F 1746 1880\\nMargaret F 1578 1880\\nIda F 1472 1880\\nAlice F 1414 1880\\nBertha F 1320 1880\\nSarah F 1288 1880\\nJohn M 9655 1880\\nWilliam M 9532 1880\\nJames M 5927 1880\\nCharles M 5348 1880\\nGeorge M 5126 1880\\nFrank M 3242 1880\\nJoseph M 2632 1880\\nThomas M 2534 1880\\nHenry M 2444 1880\\nRobert M 2415 1880\\nMary F 6919 1881\\nAnna F 2698 1881\\nEmma F 2034 1881\\nElizabeth F 1852 1881\\nMargaret F 1658 1881\\nMinnie F 1653 1881\\nIda F 1439 1881\\nAnnie F 1326 1881\\nBertha F 1324 1881\\nAlice F 1308 1881\\nJohn M 8769 1881\\nWilliam M 8524 1881\\nJames M 5441 1881\\nGeorge M 4664 1881\\nCharles M 4636 1881\\nFrank M 2834 1881\\nJoseph M 2456 1881\\nHenry M 2339 1881\\nThomas M 2282 1881\\nEdward M 2177 1881\\nMary F 8148 1882\\nAnna F 3143 1882\\nEmma F 2303 1882\\nElizabeth F 2186 1882\\nMinnie F 2004 1882\\nMargaret F 1821 1882\\nIda F 1673 1882\\nAlice F 1542 1882\\nBertha F 1508 1882\\nAnnie F 1492 1882\\nJohn M 9557 1882\\nWilliam M 9298 1882\\nJames M 5892 1882\\nGeorge M 5193 1882\\nCharles M 5091 1882\\nFrank M 3176 1882\\nJoseph M 2670 1882\\nThomas M 2610 1882\\nHenry M 2579 1882\\nRobert M 2500 1882\\nMary F 8012 1883\\nAnna F 3306 1883\\nEmma F 2367 1883\\nElizabeth F 2255 1883\\nMinnie F 2035 1883\\nMargaret F 1881 1883\\nBertha F 1681 1883\\nIda F 1634 1883\\nAnnie F 1589 1883\\nClara F 1548 1883\\nJohn M 8894 1883\\nWilliam M 8387 1883\\nJames M 5223 1883\\nCharles M 4826 1883\\nGeorge M 4736 1883\\nFrank M 2986 1883\\nJoseph M 2515 1883\\nHenry M 2383 1883\\nRobert M 2334 1883\\nThomas M 2316 1883\\nMary F 9217 1884\\nAnna F 3860 1884\\nEmma F 2587 1884\\nElizabeth F 2549 1884\\nMinnie F 2243 1884\\nMargaret F 2142 1884\\nIda F 1882 1884\\nClara F 1852 1884\\nBertha F 1789 1884\\nAnnie F 1739 1884\\nJohn M 9388 1884\\nWilliam M 8897 1884\\nJames M 5693 1884\\nGeorge M 4961 1884\\nCharles M 4802 1884\\nFrank M 3218 1884\\nJoseph M 2707 1884\\nThomas M 2572 1884\\nHenry M 2474 1884\\nRobert M 2468 1884\\nMary F 9128 1885\\nAnna F 3994 1885\\nEmma F 2728 1885\\nElizabeth F 2582 1885\\nMargaret F 2204 1885\\nMinnie F 2178 1885\\nClara F 1910 1885\\nBertha F 1860 1885\\nIda F 1854 1885\\nAnnie F 1703 1885\\nJohn M 8756 1885\\nWilliam M 8044 1885\\nJames M 5175 1885\\nGeorge M 4674 1885\\nCharles M 4599 1885\\nFrank M 3067 1885\\nJoseph M 2540 1885\\nHenry M 2406 1885\\nRobert M 2322 1885\\nThomas M 2266 1885\\nMary F 9889 1886\\nAnna F 4283 1886\\nEmma F 2764 1886\\nElizabeth F 2680 1886\\nMinnie F 2372 1886\\nMargaret F 2275 1886\\nIda F 2049 1886\\nBertha F 2001 1886\\nClara F 1916 1886\\nFlorence F 1860 1886\\nJohn M 9026 1886\\nWilliam M 8252 1886\\nJames M 5355 1886\\nGeorge M 4671 1886\\nCharles M 4533 1886\\nFrank M 3127 1886\\nJoseph M 2594 1886\\nRobert M 2443 1886\\nHenry M 2404 1886\\nThomas M 2337 1886\\nMary F 9888 1887\\nAnna F 4227 1887\\nElizabeth F 2681 1887\\nEmma F 2647 1887\\nMargaret F 2419 1887\\nMinnie F 2215 1887\\nBertha F 2037 1887\\nClara F 1984 1887\\nFlorence F 1964 1887\\nIda F 1929 1887\\nJohn M 8110 1887\\nWilliam M 7470 1887\\nJames M 4768 1887\\nGeorge M 4284 1887\\nCharles M 4031 1887\\nFrank M 2883 1887\\nJoseph M 2456 1887\\nHenry M 2228 1887\\nThomas M 2151 1887\\nEdward M 2125 1887\\nMary F 11754 1888\\nAnna F 4982 1888\\nElizabeth F 3224 1888\\nEmma F 3087 1888\\nMargaret F 2904 1888\\nMinnie F 2654 1888\\nBertha F 2450 1888\\nFlorence F 2444 1888\\nEthel F 2374 1888\\nBessie F 2278 1888\\nJohn M 9247 1888\\nWilliam M 8705 1888\\nJames M 5562 1888\\nGeorge M 4912 1888\\nCharles M 4591 1888\\nFrank M 3459 1888\\nJoseph M 2993 1888\\nRobert M 2814 1888\\nHarry M 2759 1888\\nHenry M 2596 1888\\nMary F 11648 1889\\nAnna F 5062 1889\\nElizabeth F 3058 1889\\nMargaret F 2917 1889\\nEmma F 2884 1889\\nMinnie F 2624 1889\\nFlorence F 2465 1889\\nEthel F 2463 1889\\nBessie F 2343 1889\\nClara F 2319 1889\\nJohn M 8548 1889\\nWilliam M 7772 1889\\nJames M 5020 1889\\nGeorge M 4430 1889\\nCharles M 4199 1889\\nFrank M 2975 1889\\nJoseph M 2729 1889\\nHarry M 2559 1889\\nRobert M 2513 1889\\nEdward M 2299 1889\\nMary F 12078 1890\\nAnna F 5233 1890\\nElizabeth F 3112 1890\\nMargaret F 3100 1890\\nEmma F 2980 1890\\nFlorence F 2744 1890\\nEthel F 2718 1890\\nMinnie F 2650 1890\\nClara F 2496 1890\\nBertha F 2388 1890\\nJohn M 8502 1890\\nWilliam M 7494 1890\\nJames M 5097 1890\\nGeorge M 4458 1890\\nCharles M 4061 1890\\nFrank M 3078 1890\\nJoseph M 2670 1890\\nRobert M 2541 1890\\nHenry M 2349 1890\\nHarry M 2345 1890\\nMary F 11703 1891\\nAnna F 5099 1891\\nMargaret F 3065 1891\\nElizabeth F 3059 1891\\nEmma F 2884 1891\\nFlorence F 2715 1891\\nEthel F 2689 1891\\nMinnie F 2428 1891\\nHelen F 2417 1891\\nBertha F 2372 1891\\nJohn M 7680 1891\\nWilliam M 6763 1891\\nJames M 4516 1891\\nGeorge M 3931 1891\\nCharles M 3640 1891\\nFrank M 2652 1891\\nJoseph M 2572 1891\\nRobert M 2240 1891\\nHarry M 2132 1891\\nHenry M 2049 1891\\nMary F 13172 1892\\nAnna F 5542 1892\\nElizabeth F 3461 1892\\nMargaret F 3435 1892\\nRuth F 3290 1892\\nFlorence F 3154 1892\\nEmma F 3128 1892\\nEthel F 3035 1892\\nHelen F 2936 1892\\nClara F 2661 1892\\nJohn M 9039 1892\\nWilliam M 7782 1892\\nJames M 5398 1892\\nGeorge M 4760 1892\\nCharles M 4319 1892\\nFrank M 3150 1892\\nJoseph M 3064 1892\\nRobert M 2710 1892\\nHarry M 2460 1892\\nHenry M 2452 1892\\nMary F 12784 1893\\nAnna F 5695 1893\\nRuth F 3658 1893\\nMargaret F 3565 1893\\nElizabeth F 3360 1893\\nHelen F 3249 1893\\nFlorence F 3231 1893\\nEthel F 3119 1893\\nEmma F 2968 1893\\nBertha F 2623 1893\\nJohn M 8049 1893\\nWilliam M 7223 1893\\nJames M 5030 1893\\nGeorge M 4320 1893\\nCharles M 3723 1893\\nJoseph M 2997 1893\\nFrank M 2917 1893\\nRobert M 2563 1893\\nEdward M 2309 1893\\nHarry M 2245 1893\\nMary F 13151 1894\\nAnna F 5565 1894\\nMargaret F 3700 1894\\nHelen F 3676 1894\\nElizabeth F 3425 1894\\nRuth F 3372 1894\\nEthel F 3287 1894\\nFlorence F 3233 1894\\nEmma F 2937 1894\\nMarie F 2649 1894\\nJohn M 8238 1894\\nWilliam M 7274 1894\\nJames M 5110 1894\\nGeorge M 4365 1894\\nCharles M 3788 1894\\nJoseph M 2977 1894\\nFrank M 2863 1894\\nRobert M 2497 1894\\nHenry M 2278 1894\\nHarry M 2189 1894\\nMary F 13446 1895\\nAnna F 5950 1895\\nHelen F 4023 1895\\nMargaret F 3931 1895\\nElizabeth F 3603 1895\\nRuth F 3551 1895\\nFlorence F 3471 1895\\nEthel F 3391 1895\\nMarie F 3011 1895\\nEmma F 2952 1895\\nJohn M 8320 1895\\nWilliam M 7277 1895\\nJames M 5335 1895\\nGeorge M 4289 1895\\nCharles M 3633 1895\\nFrank M 3012 1895\\nJoseph M 2992 1895\\nRobert M 2635 1895\\nHenry M 2221 1895\\nEdward M 2203 1895\\nMary F 13811 1896\\nAnna F 5860 1896\\nHelen F 4392 1896\\nMargaret F 4050 1896\\nRuth F 3905 1896\\nEthel F 3502 1896\\nElizabeth F 3471 1896\\nFlorence F 3323 1896\\nMarie F 3087 1896\\nEmma F 2872 1896\\nJohn M 8138 1896\\nWilliam M 7747 1896\\nJames M 5207 1896\\nGeorge M 4286 1896\\nCharles M 3639 1896\\nJoseph M 3051 1896\\nFrank M 2845 1896\\nRobert M 2719 1896\\nEdward M 2296 1896\\nHenry M 2183 1896\\nMary F 13413 1897\\nAnna F 5429 1897\\nHelen F 4519 1897\\nMargaret F 4146 1897\\nRuth F 3878 1897\\nElizabeth F 3442 1897\\nFlorence F 3369 1897\\nEthel F 3182 1897\\nMarie F 3078 1897\\nEmma F 2698 1897\\nJohn M 7550 1897\\nWilliam M 7198 1897\\nJames M 5113 1897\\nGeorge M 4078 1897\\nCharles M 3341 1897\\nJoseph M 2827 1897\\nFrank M 2726 1897\\nRobert M 2701 1897\\nEdward M 2121 1897\\nHenry M 1994 1897\\nMary F 14406 1898\\nAnna F 5773 1898\\nHelen F 5230 1898\\nMargaret F 4696 1898\\nRuth F 4249 1898\\nFlorence F 3790 1898\\nElizabeth F 3659 1898\\nEthel F 3531 1898\\nMarie F 3435 1898\\nLillian F 3061 1898\\nJohn M 8159 1898\\nWilliam M 7400 1898\\nJames M 5321 1898\\nGeorge M 4853 1898\\nCharles M 3557 1898\\nJoseph M 3171 1898\\nRobert M 2932 1898\\nFrank M 2925 1898\\nEdward M 2337 1898\\nThomas M 2161 1898\\nMary F 13172 1899\\nAnna F 5115 1899\\nHelen F 5048 1899\\nMargaret F 4249 1899\\nRuth F 3912 1899\\nFlorence F 3314 1899\\nElizabeth F 3287 1899\\nMarie F 3156 1899\\nEthel F 2999 1899\\nLillian F 2703 1899\\nJohn M 6990 1899\\nWilliam M 6086 1899\\nJames M 4597 1899\\nGeorge M 4018 1899\\nCharles M 3147 1899\\nJoseph M 2679 1899\\nRobert M 2609 1899\\nFrank M 2550 1899\\nEdward M 1901 1899\\nHenry M 1831 1899\\nMary F 16706 1900\\nHelen F 6343 1900\\nAnna F 6114 1900\\nMargaret F 5304 1900\\nRuth F 4765 1900\\nElizabeth F 4096 1900\\nFlorence F 3920 1900\\nEthel F 3896 1900\\nMarie F 3856 1900\\nLillian F 3414 1900\\nJohn M 9829 1900\\nWilliam M 8579 1900\\nJames M 7245 1900\\nGeorge M 5403 1900\\nCharles M 4098 1900\\nRobert M 3821 1900\\nJoseph M 3714 1900\\nFrank M 3477 1900\\nEdward M 2720 1900\\nHenry M 2606 1900\\nMary F 13136 1901\\nHelen F 5247 1901\\nAnna F 4923 1901\\nMargaret F 4424 1901\\nRuth F 3974 1901\\nElizabeth F 3216 1901\\nMarie F 3157 1901\\nFlorence F 3131 1901\\nEthel F 3067 1901\\nLillian F 2681 1901\\nJohn M 6900 1901\\nWilliam M 5990 1901\\nJames M 4735 1901\\nGeorge M 3609 1901\\nCharles M 3049 1901\\nJoseph M 2766 1901\\nRobert M 2543 1901\\nFrank M 2402 1901\\nEdward M 1917 1901\\nHenry M 1870 1901\\nMary F 14486 1902\\nHelen F 5967 1902\\nAnna F 5288 1902\\nMargaret F 5011 1902\\nRuth F 4384 1902\\nElizabeth F 3694 1902\\nFlorence F 3509 1902\\nMarie F 3424 1902\\nEthel F 3295 1902\\nAlice F 3135 1902\\nJohn M 7907 1902\\nWilliam M 6616 1902\\nJames M 5592 1902\\nGeorge M 4223 1902\\nCharles M 3361 1902\\nRobert M 3180 1902\\nJoseph M 3098 1902\\nFrank M 2756 1902\\nEdward M 2294 1902\\nHenry M 2154 1902\\nMary F 14275 1903\\nHelen F 6129 1903\\nAnna F 5098 1903\\nMargaret F 5046 1903\\nRuth F 4518 1903\\nElizabeth F 3723 1903\\nMarie F 3469 1903\\nFlorence F 3468 1903\\nEthel F 3257 1903\\nMildred F 3088 1903\\nJohn M 7608 1903\\nWilliam M 6311 1903\\nJames M 5480 1903\\nGeorge M 3961 1903\\nCharles M 3213 1903\\nJoseph M 3121 1903\\nRobert M 3044 1903\\nFrank M 2644 1903\\nEdward M 2268 1903\\nThomas M 1962 1903\\nMary F 14961 1904\\nHelen F 6488 1904\\nAnna F 5330 1904\\nMargaret F 5302 1904\\nRuth F 4900 1904\\nElizabeth F 3833 1904\\nMarie F 3595 1904\\nFlorence F 3572 1904\\nMildred F 3525 1904\\nDorothy F 3477 1904\\nJohn M 8108 1904\\nWilliam M 6416 1904\\nJames M 5855 1904\\nGeorge M 4219 1904\\nRobert M 3414 1904\\nCharles M 3406 1904\\nJoseph M 3291 1904\\nFrank M 2799 1904\\nEdward M 2334 1904\\nHenry M 2086 1904\\nMary F 16067 1905\\nHelen F 6811 1905\\nMargaret F 5690 1905\\nAnna F 5424 1905\\nRuth F 5068 1905\\nElizabeth F 4121 1905\\nDorothy F 3937 1905\\nMildred F 3758 1905\\nMarie F 3643 1905\\nAlice F 3610 1905\\nJohn M 8060 1905\\nWilliam M 6495 1905\\nJames M 6042 1905\\nGeorge M 4256 1905\\nCharles M 3608 1905\\nRobert M 3410 1905\\nJoseph M 3302 1905\\nFrank M 2837 1905\\nEdward M 2366 1905\\nThomas M 2135 1905\\nMary F 16370 1906\\nHelen F 7176 1906\\nMargaret F 6096 1906\\nAnna F 5502 1906\\nRuth F 5140 1906\\nDorothy F 4326 1906\\nElizabeth F 4321 1906\\nAlice F 4192 1906\\nMildred F 3873 1906\\nFlorence F 3691 1906\\nJohn M 8265 1906\\nWilliam M 6566 1906\\nJames M 5908 1906\\nGeorge M 4201 1906\\nRobert M 3635 1906\\nCharles M 3607 1906\\nJoseph M 3527 1906\\nFrank M 2798 1906\\nEdward M 2398 1906\\nThomas M 2176 1906\\nMary F 17580 1907\\nHelen F 7579 1907\\nMargaret F 6713 1907\\nAnna F 5575 1907\\nRuth F 5573 1907\\nDorothy F 4967 1907\\nElizabeth F 4624 1907\\nMildred F 4277 1907\\nAlice F 4107 1907\\nMarie F 3880 1907\\nJohn M 8983 1907\\nWilliam M 6904 1907\\nJames M 6707 1907\\nGeorge M 4445 1907\\nRobert M 4020 1907\\nCharles M 3884 1907\\nJoseph M 3844 1907\\nFrank M 2943 1907\\nEdward M 2576 1907\\nHenry M 2203 1907\\nMary F 18665 1908\\nHelen F 8439 1908\\nMargaret F 6976 1908\\nRuth F 6180 1908\\nAnna F 5860 1908\\nDorothy F 5703 1908\\nElizabeth F 4904 1908\\nMildred F 4624 1908\\nAlice F 4270 1908\\nMarie F 4076 1908\\nJohn M 9342 1908\\nWilliam M 7528 1908\\nJames M 7012 1908\\nGeorge M 4584 1908\\nRobert M 4219 1908\\nJoseph M 4162 1908\\nCharles M 3929 1908\\nFrank M 3146 1908\\nEdward M 2707 1908\\nThomas M 2301 1908\\nMary F 19259 1909\\nHelen F 9250 1909\\nMargaret F 7359 1909\\nRuth F 6509 1909\\nDorothy F 6253 1909\\nAnna F 5804 1909\\nElizabeth F 5176 1909\\nMildred F 5054 1909\\nMarie F 4301 1909\\nAlice F 4170 1909\\nJohn M 9591 1909\\nWilliam M 7914 1909\\nJames M 7594 1909\\nGeorge M 4688 1909\\nRobert M 4563 1909\\nJoseph M 4348 1909\\nCharles M 4029 1909\\nFrank M 3244 1909\\nEdward M 2935 1909\\nThomas M 2468 1909\\nMary F 22848 1910\\nHelen F 10479 1910\\nMargaret F 8226 1910\\nDorothy F 7318 1910\\nRuth F 7212 1910\\nAnna F 6436 1910\\nElizabeth F 5800 1910\\nMildred F 5692 1910\\nMarie F 4790 1910\\nAlice F 4671 1910\\nJohn M 11450 1910\\nJames M 9195 1910\\nWilliam M 8844 1910\\nRobert M 5609 1910\\nGeorge M 5441 1910\\nJoseph M 5228 1910\\nCharles M 4785 1910\\nFrank M 3768 1910\\nEdward M 3408 1910\\nHenry M 2899 1910\\nMary F 24390 1911\\nHelen F 11801 1911\\nMargaret F 9279 1911\\nDorothy F 8869 1911\\nRuth F 8003 1911\\nAnna F 6753 1911\\nElizabeth F 6298 1911\\nMildred F 6271 1911\\nMarie F 5017 1911\\nFrances F 4967 1911\\nJohn M 13446 1911\\nWilliam M 10593 1911\\nJames M 9951 1911\\nGeorge M 6586 1911\\nRobert M 6526 1911\\nJoseph M 6488 1911\\nCharles M 5725 1911\\nFrank M 4314 1911\\nEdward M 4164 1911\\nThomas M 3292 1911\\nMary F 32304 1912\\nHelen F 16133 1912\\nDorothy F 12645 1912\\nMargaret F 12536 1912\\nRuth F 11280 1912\\nMildred F 8764 1912\\nAnna F 8586 1912\\nElizabeth F 8528 1912\\nFrances F 6680 1912\\nMarie F 6642 1912\\nJohn M 24587 1912\\nWilliam M 19626 1912\\nJames M 17644 1912\\nRobert M 12836 1912\\nJoseph M 12062 1912\\nGeorge M 11734 1912\\nCharles M 11070 1912\\nEdward M 7936 1912\\nFrank M 7912 1912\\nThomas M 6087 1912\\nMary F 36642 1913\\nHelen F 18888 1913\\nDorothy F 14674 1913\\nMargaret F 14486 1913\\nRuth F 12609 1913\\nMildred F 9921 1913\\nAnna F 9687 1913\\nElizabeth F 9505 1913\\nFrances F 7694 1913\\nMarie F 7353 1913\\nJohn M 29329 1913\\nWilliam M 23538 1913\\nJames M 20832 1913\\nRobert M 15684 1913\\nJoseph M 14471 1913\\nGeorge M 13874 1913\\nCharles M 13190 1913\\nEdward M 9474 1913\\nFrank M 9237 1913\\nThomas M 7096 1913\\nMary F 45345 1914\\nHelen F 23221 1914\\nDorothy F 18782 1914\\nMargaret F 17763 1914\\nRuth F 15839 1914\\nAnna F 11865 1914\\nMildred F 11650 1914\\nElizabeth F 11367 1914\\nFrances F 9677 1914\\nMarie F 8829 1914\\nJohn M 37948 1914\\nWilliam M 29753 1914\\nJames M 26263 1914\\nRobert M 21188 1914\\nJoseph M 18829 1914\\nGeorge M 17603 1914\\nCharles M 16937 1914\\nEdward M 12318 1914\\nFrank M 12002 1914\\nWalter M 8962 1914\\nMary F 58187 1915\\nHelen F 30866 1915\\nDorothy F 25154 1915\\nMargaret F 23054 1915\\nRuth F 21878 1915\\nMildred F 15254 1915\\nAnna F 15119 1915\\nElizabeth F 14103 1915\\nFrances F 12787 1915\\nEvelyn F 11595 1915\\nJohn M 47576 1915\\nWilliam M 38564 1915\\nJames M 33775 1915\\nRobert M 28738 1915\\nJoseph M 23052 1915\\nGeorge M 22307 1915\\nCharles M 21960 1915\\nEdward M 15889 1915\\nFrank M 15006 1915\\nThomas M 11490 1915\\nMary F 61438 1916\\nHelen F 32662 1916\\nDorothy F 27417 1916\\nMargaret F 24953 1916\\nRuth F 23190 1916\\nMildred F 15633 1916\\nAnna F 15228 1916\\nElizabeth F 14939 1916\\nFrances F 13746 1916\\nVirginia F 12487 1916\\nJohn M 50043 1916\\nWilliam M 40419 1916\\nJames M 35569 1916\\nRobert M 31741 1916\\nJoseph M 23883 1916\\nCharles M 23611 1916\\nGeorge M 23380 1916\\nEdward M 17005 1916\\nFrank M 15291 1916\\nThomas M 11998 1916\\nMary F 64281 1917\\nHelen F 34251 1917\\nDorothy F 28851 1917\\nMargaret F 25560 1917\\nRuth F 23568 1917\\nMildred F 16257 1917\\nAnna F 15160 1917\\nElizabeth F 15131 1917\\nFrances F 14363 1917\\nVirginia F 14261 1917\\nJohn M 51853 1917\\nWilliam M 42422 1917\\nJames M 37339 1917\\nRobert M 35220 1917\\nJoseph M 24762 1917\\nGeorge M 24196 1917\\nCharles M 24143 1917\\nEdward M 17502 1917\\nFrank M 15769 1917\\nThomas M 12611 1917\\nMary F 67366 1918\\nHelen F 36148 1918\\nDorothy F 32032 1918\\nMargaret F 27139 1918\\nRuth F 25534 1918\\nMildred F 17258 1918\\nVirginia F 16421 1918\\nFrances F 16131 1918\\nElizabeth F 15853 1918\\nAnna F 15666 1918\\nJohn M 56558 1918\\nWilliam M 45290 1918\\nJames M 42118 1918\\nRobert M 40620 1918\\nCharles M 26922 1918\\nGeorge M 26318 1918\\nJoseph M 26263 1918\\nEdward M 19489 1918\\nFrank M 17017 1918\\nThomas M 13910 1918\\nMary F 65838 1919\\nHelen F 33706 1919\\nDorothy F 31734 1919\\nMargaret F 26237 1919\\nRuth F 24565 1919\\nMildred F 17300 1919\\nVirginia F 15636 1919\\nElizabeth F 15287 1919\\nFrances F 15107 1919\\nAnna F 14498 1919\\nJohn M 53528 1919\\nWilliam M 43971 1919\\nJames M 42390 1919\\nRobert M 41027 1919\\nCharles M 25192 1919\\nGeorge M 25172 1919\\nJoseph M 24264 1919\\nEdward M 18535 1919\\nFrank M 15702 1919\\nThomas M 13434 1919\\nMary F 70982 1920\\nDorothy F 36643 1920\\nHelen F 35097 1920\\nMargaret F 27996 1920\\nRuth F 26102 1920\\nMildred F 18059 1920\\nVirginia F 17314 1920\\nElizabeth F 15910 1920\\nFrances F 15883 1920\\nAnna F 14581 1920\\nJohn M 56913 1920\\nWilliam M 50149 1920\\nRobert M 48676 1920\\nJames M 47912 1920\\nCharles M 28308 1920\\nGeorge M 26892 1920\\nJoseph M 25591 1920\\nEdward M 20095 1920\\nFrank M 16430 1920\\nRichard M 15010 1920\\nMary F 73985 1921\\nDorothy F 39087 1921\\nHelen F 34822 1921\\nMargaret F 28467 1921\\nRuth F 25784 1921\\nVirginia F 19033 1921\\nMildred F 17881 1921\\nBetty F 17638 1921\\nFrances F 15993 1921\\nElizabeth F 15800 1921\\nJohn M 58217 1921\\nRobert M 52784 1921\\nWilliam M 51860 1921\\nJames M 49748 1921\\nCharles M 29244 1921\\nGeorge M 27476 1921\\nJoseph M 26179 1921\\nEdward M 20818 1921\\nFrank M 16708 1921\\nRichard M 16376 1921\\nMary F 72173 1922\\nDorothy F 37716 1922\\nHelen F 32508 1922\\nMargaret F 26865 1922\\nRuth F 23630 1922\\nBetty F 20895 1922\\nVirginia F 19146 1922\\nMildred F 16412 1922\\nElizabeth F 15242 1922\\nFrances F 15053 1922\\nJohn M 57277 1922\\nRobert M 53793 1922\\nWilliam M 51116 1922\\nJames M 49801 1922\\nCharles M 28842 1922\\nGeorge M 27351 1922\\nJoseph M 25699 1922\\nEdward M 20419 1922\\nRichard M 17539 1922\\nFrank M 16014 1922\\nMary F 71638 1923\\nDorothy F 39044 1923\\nHelen F 31488 1923\\nMargaret F 26133 1923\\nBetty F 25991 1923\\nRuth F 23638 1923\\nVirginia F 18326 1923\\nMildred F 15990 1923\\nElizabeth F 15461 1923\\nFrances F 14879 1923\\nJohn M 57470 1923\\nRobert M 56117 1923\\nWilliam M 52136 1923\\nJames M 50463 1923\\nCharles M 28962 1923\\nGeorge M 27021 1923\\nJoseph M 25561 1923\\nEdward M 20597 1923\\nRichard M 18884 1923\\nDonald M 16435 1923\\nMary F 73534 1924\\nDorothy F 39999 1924\\nHelen F 31192 1924\\nBetty F 30599 1924\\nMargaret F 26549 1924\\nRuth F 23600 1924\\nVirginia F 18622 1924\\nMildred F 15853 1924\\nDoris F 15785 1924\\nFrances F 15183 1924\\nRobert M 60801 1924\\nJohn M 59055 1924\\nWilliam M 53511 1924\\nJames M 52939 1924\\nCharles M 30461 1924\\nGeorge M 27375 1924\\nJoseph M 25428 1924\\nRichard M 21246 1924\\nEdward M 21128 1924\\nDonald M 17929 1924\\nMary F 70591 1925\\nDorothy F 38570 1925\\nBetty F 32813 1925\\nHelen F 29172 1925\\nMargaret F 24463 1925\\nRuth F 22248 1925\\nVirginia F 17489 1925\\nDoris F 16074 1925\\nMildred F 14451 1925\\nElizabeth F 13935 1925\\nRobert M 60897 1925\\nJohn M 57199 1925\\nWilliam M 53304 1925\\nJames M 52682 1925\\nCharles M 29582 1925\\nGeorge M 26566 1925\\nJoseph M 24613 1925\\nRichard M 23268 1925\\nEdward M 20089 1925\\nDonald M 19191 1925\\nMary F 67832 1926\\nDorothy F 36617 1926\\nBetty F 32964 1926\\nHelen F 26884 1926\\nMargaret F 23070 1926\\nRuth F 20223 1926\\nDoris F 16298 1926\\nVirginia F 16162 1926\\nMildred F 13551 1926\\nFrances F 13355 1926\\nRobert M 61130 1926\\nJohn M 56110 1926\\nJames M 53209 1926\\nWilliam M 51920 1926\\nCharles M 29521 1926\\nGeorge M 25904 1926\\nRichard M 25149 1926\\nJoseph M 23759 1926\\nDonald M 20912 1926\\nEdward M 19378 1926\\nMary F 70639 1927\\nDorothy F 35987 1927\\nBetty F 35422 1927\\nHelen F 25320 1927\\nMargaret F 21964 1927\\nRuth F 19414 1927\\nDoris F 16510 1927\\nVirginia F 15725 1927\\nShirley F 13315 1927\\nBarbara F 13161 1927\\nRobert M 61669 1927\\nJohn M 55954 1927\\nJames M 53674 1927\\nWilliam M 51482 1927\\nCharles M 31936 1927\\nRichard M 26771 1927\\nGeorge M 25949 1927\\nDonald M 23840 1927\\nJoseph M 23506 1927\\nEdward M 19113 1927\\nMary F 66872 1928\\nBetty F 36080 1928\\nDorothy F 33731 1928\\nHelen F 22934 1928\\nMargaret F 20295 1928\\nRuth F 17858 1928\\nDoris F 16572 1928\\nBarbara F 14873 1928\\nVirginia F 14501 1928\\nShirley F 14212 1928\\nRobert M 60699 1928\\nJohn M 53755 1928\\nJames M 52754 1928\\nWilliam M 49117 1928\\nCharles M 31247 1928\\nRichard M 28794 1928\\nDonald M 25698 1928\\nGeorge M 24400 1928\\nJoseph M 22311 1928\\nEdward M 18489 1928\\nMary F 63508 1929\\nBetty F 36675 1929\\nDorothy F 31477 1929\\nHelen F 20985 1929\\nMargaret F 19206 1929\\nDoris F 16496 1929\\nBarbara F 16037 1929\\nRuth F 16019 1929\\nShirley F 14579 1929\\nPatricia F 13625 1929\\nRobert M 59798 1929\\nJames M 52127 1929\\nJohn M 52113 1929\\nWilliam M 47805 1929\\nCharles M 29931 1929\\nRichard M 29569 1929\\nDonald M 27186 1929\\nGeorge M 23017 1929\\nJoseph M 21162 1929\\nEdward M 17226 1929\\nMary F 64146 1930\\nBetty F 38234 1930\\nDorothy F 30409 1930\\nHelen F 19914 1930\\nMargaret F 18354 1930\\nBarbara F 18281 1930\\nPatricia F 15751 1930\\nJoan F 15479 1930\\nDoris F 15464 1930\\nRuth F 14940 1930\\nRobert M 62149 1930\\nJames M 53941 1930\\nJohn M 52434 1930\\nWilliam M 47265 1930\\nRichard M 32183 1930\\nCharles M 31871 1930\\nDonald M 29048 1930\\nGeorge M 22784 1930\\nJoseph M 20981 1930\\nEdward M 17349 1930\\nMary F 60296 1931\\nBetty F 36105 1931\\nDorothy F 26524 1931\\nBarbara F 21797 1931\\nJoan F 19117 1931\\nHelen F 17661 1931\\nMargaret F 17333 1931\\nPatricia F 16468 1931\\nShirley F 14405 1931\\nDoris F 13629 1931\\nRobert M 60508 1931\\nJames M 51219 1931\\nJohn M 48423 1931\\nWilliam M 43276 1931\\nRichard M 31816 1931\\nCharles M 29924 1931\\nDonald M 29102 1931\\nGeorge M 20687 1931\\nJoseph M 19330 1931\\nThomas M 16846 1931\\nMary F 59874 1932\\nBetty F 34417 1932\\nBarbara F 26314 1932\\nDorothy F 24974 1932\\nJoan F 21045 1932\\nPatricia F 17989 1932\\nMargaret F 16549 1932\\nHelen F 16376 1932\\nShirley F 14476 1932\\nDoris F 12909 1932\\nRobert M 59266 1932\\nJames M 51922 1932\\nJohn M 48617 1932\\nWilliam M 42117 1932\\nRichard M 31798 1932\\nCharles M 31095 1932\\nDonald M 29786 1932\\nGeorge M 20436 1932\\nJoseph M 18563 1932\\nThomas M 16834 1932\\nMary F 55509 1933\\nBetty F 31526 1933\\nBarbara F 26951 1933\\nDorothy F 22047 1933\\nJoan F 19290 1933\\nPatricia F 18631 1933\\nMargaret F 15239 1933\\nHelen F 14643 1933\\nShirley F 14315 1933\\nDoris F 12024 1933\\nRobert M 54218 1933\\nJames M 51102 1933\\nJohn M 46222 1933\\nWilliam M 39049 1933\\nRichard M 31337 1933\\nCharles M 28988 1933\\nDonald M 28437 1933\\nGeorge M 18358 1933\\nJoseph M 17162 1933\\nThomas M 16500 1933\\nMary F 56929 1934\\nBetty F 31085 1934\\nBarbara F 29234 1934\\nShirley F 22840 1934\\nDorothy F 21283 1934\\nPatricia F 20845 1934\\nJoan F 19464 1934\\nMargaret F 15144 1934\\nHelen F 14100 1934\\nNancy F 13518 1934\\nRobert M 55829 1934\\nJames M 54249 1934\\nJohn M 46734 1934\\nWilliam M 40170 1934\\nRichard M 33157 1934\\nDonald M 30409 1934\\nCharles M 29792 1934\\nGeorge M 18497 1934\\nThomas M 17369 1934\\nJoseph M 17101 1934\\nMary F 55069 1935\\nShirley F 42358 1935\\nBarbara F 30696 1935\\nBetty F 28673 1935\\nPatricia F 22877 1935\\nDorothy F 19404 1935\\nJoan F 18223 1935\\nMargaret F 14725 1935\\nNancy F 14544 1935\\nHelen F 12781 1935\\nRobert M 56524 1935\\nJames M 55000 1935\\nJohn M 47499 1935\\nWilliam M 40198 1935\\nRichard M 33945 1935\\nCharles M 29983 1935\\nDonald M 29661 1935\\nGeorge M 18559 1935\\nThomas M 17680 1935\\nJoseph M 17183 1935\\nMary F 54372 1936\\nShirley F 35161 1936\\nBarbara F 31682 1936\\nBetty F 25866 1936\\nPatricia F 23914 1936\\nDorothy F 17669 1936\\nJoan F 17069 1936\\nNancy F 16756 1936\\nMargaret F 14594 1936\\nCarol F 14521 1936\\nRobert M 58492 1936\\nJames M 54686 1936\\nJohn M 47669 1936\\nWilliam M 39386 1936\\nRichard M 33487 1936\\nCharles M 29084 1936\\nDonald M 28635 1936\\nThomas M 18339 1936\\nGeorge M 18195 1936\\nDavid M 17479 1936\\nMary F 55645 1937\\nBarbara F 34912 1937\\nPatricia F 26839 1937\\nShirley F 26816 1937\\nBetty F 25332 1937\\nCarol F 17336 1937\\nNancy F 17069 1937\\nDorothy F 16572 1937\\nJoan F 15299 1937\\nMargaret F 15143 1937\\nRobert M 61835 1937\\nJames M 56551 1937\\nJohn M 48746 1937\\nWilliam M 40713 1937\\nRichard M 32973 1937\\nCharles M 30524 1937\\nDonald M 27868 1937\\nDavid M 20974 1937\\nThomas M 19775 1937\\nGeorge M 18430 1937\\nMary F 56215 1938\\nBarbara F 39279 1938\\nPatricia F 27556 1938\\nBetty F 25504 1938\\nShirley F 23767 1938\\nCarol F 19424 1938\\nNancy F 18948 1938\\nDorothy F 16348 1938\\nMargaret F 15330 1938\\nJoan F 14302 1938\\nRobert M 62268 1938\\nJames M 59099 1938\\nJohn M 50519 1938\\nWilliam M 42422 1938\\nRichard M 34380 1938\\nCharles M 31138 1938\\nDonald M 26665 1938\\nDavid M 22992 1938\\nThomas M 21376 1938\\nRonald M 20296 1938\\nMary F 54901 1939\\nBarbara F 37258 1939\\nPatricia F 29706 1939\\nBetty F 23641 1939\\nShirley F 20445 1939\\nCarol F 20166 1939\\nNancy F 19726 1939\\nJudith F 16626 1939\\nDorothy F 15171 1939\\nMargaret F 14952 1939\\nRobert M 59645 1939\\nJames M 59627 1939\\nJohn M 51015 1939\\nWilliam M 42077 1939\\nRichard M 35373 1939\\nCharles M 30787 1939\\nDavid M 25362 1939\\nDonald M 24056 1939\\nThomas M 22128 1939\\nRonald M 19835 1939\\nMary F 56203 1940\\nBarbara F 36734 1940\\nPatricia F 32664 1940\\nJudith F 22382 1940\\nBetty F 22074 1940\\nCarol F 21761 1940\\nNancy F 19732 1940\\nLinda F 18369 1940\\nShirley F 17878 1940\\nSandra F 16150 1940\\nJames M 62473 1940\\nRobert M 61196 1940\\nJohn M 54779 1940\\nWilliam M 44768 1940\\nRichard M 37415 1940\\nCharles M 31684 1940\\nDavid M 27687 1940\\nThomas M 23987 1940\\nDonald M 23106 1940\\nRonald M 20730 1940\\nMary F 58040 1941\\nBarbara F 39538 1941\\nPatricia F 36901 1941\\nCarol F 24181 1941\\nLinda F 23721 1941\\nJudith F 23316 1941\\nBetty F 20905 1941\\nNancy F 20881 1941\\nSandra F 19498 1941\\nShirley F 16953 1941\\nJames M 66736 1941\\nRobert M 64233 1941\\nJohn M 57515 1941\\nWilliam M 47789 1941\\nRichard M 39106 1941\\nCharles M 32732 1941\\nDavid M 30551 1941\\nThomas M 26643 1941\\nRonald M 24399 1941\\nDonald M 22633 1941\\nMary F 63254 1942\\nBarbara F 44734 1942\\nPatricia F 39456 1942\\nLinda F 31611 1942\\nCarol F 30273 1942\\nSandra F 24993 1942\\nJudith F 24792 1942\\nNancy F 23325 1942\\nBetty F 21653 1942\\nCarolyn F 19979 1942\\nJames M 77176 1942\\nRobert M 71838 1942\\nJohn M 66027 1942\\nWilliam M 54884 1942\\nRichard M 43585 1942\\nDavid M 35894 1942\\nCharles M 35843 1942\\nThomas M 31098 1942\\nRonald M 27134 1942\\nDonald M 23951 1942\\nMary F 66169 1943\\nBarbara F 43429 1943\\nPatricia F 39625 1943\\nLinda F 38439 1943\\nCarol F 31682 1943\\nSandra F 25988 1943\\nJudith F 25209 1943\\nSharon F 24713 1943\\nNancy F 23990 1943\\nBetty F 21596 1943\\nJames M 80261 1943\\nRobert M 74865 1943\\nJohn M 68919 1943\\nWilliam M 55898 1943\\nRichard M 46328 1943\\nDavid M 37236 1943\\nCharles M 36627 1943\\nThomas M 32865 1943\\nRonald M 29235 1943\\nMichael M 24743 1943\\nMary F 62467 1944\\nBarbara F 39197 1944\\nLinda F 38412 1944\\nPatricia F 36877 1944\\nCarol F 30456 1944\\nSandra F 26023 1944\\nNancy F 23212 1944\\nJudith F 22430 1944\\nSharon F 22430 1944\\nBetty F 19756 1944\\nJames M 76951 1944\\nRobert M 70843 1944\\nJohn M 66610 1944\\nWilliam M 52369 1944\\nRichard M 45642 1944\\nDavid M 37381 1944\\nCharles M 34654 1944\\nThomas M 31598 1944\\nMichael M 26720 1944\\nRonald M 25511 1944\\nMary F 59283 1945\\nLinda F 41462 1945\\nBarbara F 38276 1945\\nPatricia F 35839 1945\\nCarol F 30387 1945\\nSandra F 24701 1945\\nNancy F 21456 1945\\nSharon F 20834 1945\\nJudith F 20189 1945\\nSusan F 19222 1945\\nJames M 74449 1945\\nRobert M 69937 1945\\nJohn M 66113 1945\\nWilliam M 50213 1945\\nRichard M 46043 1945\\nDavid M 37098 1945\\nCharles M 32462 1945\\nThomas M 31869 1945\\nMichael M 29899 1945\\nRonald M 23663 1945\\nMary F 67467 1946\\nLinda F 52710 1946\\nPatricia F 46296 1946\\nBarbara F 45122 1946\\nCarol F 34284 1946\\nSandra F 31692 1946\\nNancy F 28344 1946\\nSusan F 28267 1946\\nSharon F 27824 1946\\nJudith F 22308 1946\\nJames M 87436 1946\\nRobert M 84138 1946\\nJohn M 79261 1946\\nWilliam M 60038 1946\\nRichard M 58868 1946\\nDavid M 46439 1946\\nMichael M 41181 1946\\nThomas M 38867 1946\\nCharles M 38203 1946\\nRonald M 31855 1946\\nLinda F 99689 1947\\nMary F 71687 1947\\nPatricia F 51279 1947\\nBarbara F 48792 1947\\nSandra F 34775 1947\\nCarol F 33539 1947\\nNancy F 32444 1947\\nSusan F 31954 1947\\nSharon F 28535 1947\\nDonna F 23519 1947\\nJames M 94757 1947\\nRobert M 91640 1947\\nJohn M 88319 1947\\nWilliam M 66989 1947\\nRichard M 58521 1947\\nDavid M 57806 1947\\nMichael M 50501 1947\\nThomas M 44835 1947\\nCharles M 40770 1947\\nLarry M 34938 1947\\nLinda F 96211 1948\\nMary F 68597 1948\\nBarbara F 46826 1948\\nPatricia F 46136 1948\\nSusan F 35985 1948\\nSandra F 31060 1948\\nNancy F 29411 1948\\nCarol F 28979 1948\\nSharon F 26142 1948\\nKathleen F 23256 1948\\nJames M 88584 1948\\nRobert M 85475 1948\\nJohn M 82829 1948\\nWilliam M 61965 1948\\nDavid M 56623 1948\\nMichael M 52564 1948\\nRichard M 50970 1948\\nThomas M 43778 1948\\nCharles M 38676 1948\\nRonald M 33518 1948\\nLinda F 91016 1949\\nMary F 66864 1949\\nPatricia F 46330 1949\\nBarbara F 42601 1949\\nSusan F 37706 1949\\nSandra F 30642 1949\\nNancy F 29246 1949\\nCarol F 26783 1949\\nKathleen F 26354 1949\\nSharon F 25711 1949\\nJames M 86857 1949\\nRobert M 83872 1949\\nJohn M 81161 1949\\nWilliam M 61501 1949\\nMichael M 60046 1949\\nDavid M 59601 1949\\nRichard M 50939 1949\\nThomas M 45202 1949\\nCharles M 40042 1949\\nLarry M 31809 1949\\nLinda F 80431 1950\\nMary F 65481 1950\\nPatricia F 47945 1950\\nBarbara F 41552 1950\\nSusan F 38017 1950\\nNancy F 29616 1950\\nDeborah F 29063 1950\\nSandra F 28896 1950\\nCarol F 26164 1950\\nKathleen F 25704 1950\\nJames M 86224 1950\\nRobert M 83559 1950\\nJohn M 79424 1950\\nMichael M 65144 1950\\nDavid M 60727 1950\\nWilliam M 60689 1950\\nRichard M 51000 1950\\nThomas M 45599 1950\\nCharles M 39102 1950\\nGary M 33749 1950\\nLinda F 73978 1951\\nMary F 65721 1951\\nPatricia F 56442 1951\\nDeborah F 42052 1951\\nBarbara F 40620 1951\\nSusan F 40228 1951\\nNancy F 30347 1951\\nKaren F 27998 1951\\nSandra F 27667 1951\\nKathleen F 26715 1951\\nJames M 87261 1951\\nRobert M 86351 1951\\nJohn M 81574 1951\\nMichael M 72797 1951\\nDavid M 64792 1951\\nWilliam M 62782 1951\\nRichard M 54549 1951\\nThomas M 48284 1951\\nCharles M 39397 1951\\nGary M 38163 1951\\nLinda F 67082 1952\\nMary F 65634 1952\\nPatricia F 53098 1952\\nDeborah F 49814 1952\\nSusan F 41350 1952\\nBarbara F 39865 1952\\nNancy F 31740 1952\\nKaren F 28959 1952\\nDebra F 26832 1952\\nSandra F 26101 1952\\nJames M 87063 1952\\nRobert M 86604 1952\\nJohn M 83138 1952\\nMichael M 79049 1952\\nDavid M 71750 1952\\nWilliam M 63047 1952\\nRichard M 58350 1952\\nThomas M 48652 1952\\nCharles M 38869 1952\\nGary M 38756 1952\\nMary F 64379 1953\\nLinda F 61280 1953\\nDeborah F 52201 1953\\nPatricia F 51018 1953\\nSusan F 44297 1953\\nBarbara F 38472 1953\\nDebra F 36860 1953\\nNancy F 30618 1953\\nKaren F 29853 1953\\nPamela F 25759 1953\\nRobert M 86256 1953\\nJames M 86099 1953\\nMichael M 84226 1953\\nJohn M 80190 1953\\nDavid M 76152 1953\\nWilliam M 61840 1953\\nRichard M 58403 1953\\nThomas M 47005 1953\\nCharles M 38434 1953\\nGary M 36972 1953\\nMary F 68007 1954\\nLinda F 55381 1954\\nDeborah F 54677 1954\\nPatricia F 49146 1954\\nSusan F 47151 1954\\nDebra F 45890 1954\\nBarbara F 36370 1954\\nKaren F 32454 1954\\nNancy F 30264 1954\\nCynthia F 27616 1954\\nMichael M 88528 1954\\nRobert M 86298 1954\\nJames M 86272 1954\\nJohn M 81165 1954\\nDavid M 79529 1954\\nWilliam M 61417 1954\\nRichard M 57014 1954\\nThomas M 47158 1954\\nGary M 37919 1954\\nCharles M 37451 1954\\nMary F 63165 1955\\nDeborah F 52315 1955\\nLinda F 51288 1955\\nDebra F 50556 1955\\nSusan F 47402 1955\\nPatricia F 46217 1955\\nBarbara F 33605 1955\\nKaren F 33218 1955\\nNancy F 30017 1955\\nDonna F 27943 1955\\nMichael M 88327 1955\\nDavid M 86253 1955\\nJames M 84155 1955\\nRobert M 83703 1955\\nJohn M 80054 1955\\nWilliam M 59958 1955\\nRichard M 53545 1955\\nThomas M 45824 1955\\nMark M 42222 1955\\nSteven M 37821 1955\\nMary F 61756 1956\\nDebra F 48302 1956\\nLinda F 48075 1956\\nDeborah F 47837 1956\\nSusan F 46571 1956\\nPatricia F 43342 1956\\nKaren F 40047 1956\\nCynthia F 32344 1956\\nBarbara F 32298 1956\\nDonna F 29856 1956\\nMichael M 90656 1956\\nJames M 84863 1956\\nRobert M 83917 1956\\nDavid M 81624 1956\\nJohn M 80790 1956\\nWilliam M 58957 1956\\nRichard M 52906 1956\\nMark M 48832 1956\\nThomas M 44818 1956\\nSteven M 38397 1956\\nMary F 61094 1957\\nSusan F 45948 1957\\nLinda F 44500 1957\\nDebra F 42737 1957\\nKaren F 40586 1957\\nDeborah F 40071 1957\\nCynthia F 39326 1957\\nPatricia F 39270 1957\\nBarbara F 29687 1957\\nDonna F 28039 1957\\nMichael M 92704 1957\\nJames M 84275 1957\\nDavid M 82349 1957\\nRobert M 81717 1957\\nJohn M 78984 1957\\nWilliam M 56829 1957\\nMark M 52794 1957\\nRichard M 52401 1957\\nThomas M 44572 1957\\nSteven M 36819 1957\\nMary F 55857 1958\\nSusan F 45173 1958\\nLinda F 41899 1958\\nKaren F 38463 1958\\nPatricia F 37940 1958\\nDebra F 35517 1958\\nDeborah F 32937 1958\\nCynthia F 31003 1958\\nBarbara F 27875 1958\\nDonna F 26949 1958\\nMichael M 90517 1958\\nDavid M 82578 1958\\nJames M 78713 1958\\nRobert M 77272 1958\\nJohn M 75991 1958\\nWilliam M 54195 1958\\nMark M 52665 1958\\nRichard M 49942 1958\\nThomas M 42064 1958\\nSteven M 32946 1958\\nMary F 54474 1959\\nSusan F 41599 1959\\nLinda F 40403 1959\\nKaren F 36776 1959\\nDonna F 36465 1959\\nPatricia F 35220 1959\\nDebra F 31373 1959\\nCynthia F 30167 1959\\nDeborah F 29552 1959\\nLisa F 25691 1959\\nMichael M 85251 1959\\nDavid M 83931 1959\\nJames M 78606 1959\\nJohn M 76407 1959\\nRobert M 74502 1959\\nMark M 56909 1959\\nWilliam M 51366 1959\\nRichard M 47169 1959\\nThomas M 40276 1959\\nSteven M 33572 1959\\nMary F 51475 1960\\nSusan F 39203 1960\\nLinda F 37311 1960\\nKaren F 36380 1960\\nDonna F 34132 1960\\nLisa F 33702 1960\\nPatricia F 32104 1960\\nDebra F 26739 1960\\nCynthia F 26723 1960\\nDeborah F 25265 1960\\nDavid M 85929 1960\\nMichael M 84180 1960\\nJames M 76832 1960\\nJohn M 76093 1960\\nRobert M 72360 1960\\nMark M 58728 1960\\nWilliam M 49350 1960\\nRichard M 43546 1960\\nThomas M 39273 1960\\nSteven M 33889 1960\\nMary F 47680 1961\\nLisa F 42702 1961\\nSusan F 37521 1961\\nLinda F 35579 1961\\nKaren F 34697 1961\\nPatricia F 28868 1961\\nDonna F 28668 1961\\nCynthia F 24378 1961\\nSandra F 24144 1961\\nDeborah F 24093 1961\\nMichael M 86917 1961\\nDavid M 84758 1961\\nJohn M 79929 1961\\nJames M 75924 1961\\nRobert M 72901 1961\\nMark M 57767 1961\\nWilliam M 47994 1961\\nRichard M 41117 1961\\nThomas M 37551 1961\\nSteven M 32240 1961\\nLisa F 46078 1962\\nMary F 43486 1962\\nSusan F 35743 1962\\nKaren F 35184 1962\\nLinda F 31468 1962\\nPatricia F 26536 1962\\nDonna F 25730 1962\\nCynthia F 24021 1962\\nDeborah F 22894 1962\\nSandra F 22414 1962\\nMichael M 85034 1962\\nDavid M 81324 1962\\nJohn M 78429 1962\\nJames M 72555 1962\\nRobert M 70196 1962\\nMark M 53504 1962\\nWilliam M 44860 1962\\nRichard M 39409 1962\\nThomas M 36524 1962\\nJeffrey M 33521 1962\\nLisa F 56040 1963\\nMary F 41550 1963\\nSusan F 33998 1963\\nKaren F 32485 1963\\nLinda F 27719 1963\\nDonna F 25399 1963\\nPatricia F 25371 1963\\nLori F 23907 1963\\nSandra F 21619 1963\\nCynthia F 21593 1963\\nMichael M 83782 1963\\nJohn M 78625 1963\\nDavid M 78467 1963\\nJames M 71322 1963\\nRobert M 70012 1963\\nMark M 49350 1963\\nWilliam M 44474 1963\\nRichard M 40786 1963\\nThomas M 35503 1963\\nJeffrey M 31719 1963\\nLisa F 54275 1964\\nMary F 40990 1964\\nSusan F 31515 1964\\nKaren F 30247 1964\\nPatricia F 26088 1964\\nKimberly F 24128 1964\\nDonna F 23810 1964\\nLinda F 23633 1964\\nCynthia F 20320 1964\\nTammy F 20041 1964\\nMichael M 82646 1964\\nJohn M 82533 1964\\nDavid M 75054 1964\\nJames M 73037 1964\\nRobert M 70003 1964\\nMark M 45269 1964\\nWilliam M 44240 1964\\nRichard M 40097 1964\\nThomas M 34451 1964\\nJeffrey M 30732 1964\\nLisa F 60269 1965\\nMary F 34270 1965\\nKaren F 32872 1965\\nKimberly F 28830 1965\\nSusan F 26328 1965\\nPatricia F 23554 1965\\nDonna F 19698 1965\\nLinda F 19334 1965\\nCynthia F 19248 1965\\nAngela F 18749 1965\\nMichael M 81021 1965\\nJohn M 71541 1965\\nDavid M 67852 1965\\nJames M 67701 1965\\nRobert M 63123 1965\\nWilliam M 40127 1965\\nMark M 38264 1965\\nRichard M 36849 1965\\nThomas M 31623 1965\\nJeffrey M 29587 1965\\nLisa F 56914 1966\\nKimberly F 32234 1966\\nMary F 28884 1966\\nMichelle F 27151 1966\\nKaren F 25446 1966\\nSusan F 23773 1966\\nPatricia F 20110 1966\\nTammy F 18621 1966\\nAngela F 18530 1966\\nJennifer F 18210 1966\\nMichael M 79990 1966\\nDavid M 66420 1966\\nJames M 65174 1966\\nJohn M 65032 1966\\nRobert M 59330 1966\\nWilliam M 38253 1966\\nMark M 34806 1966\\nRichard M 34469 1966\\nJeffrey M 30202 1966\\nThomas M 29014 1966\\nLisa F 52435 1967\\nKimberly F 33102 1967\\nMichelle F 30826 1967\\nMary F 25313 1967\\nSusan F 22263 1967\\nKaren F 21540 1967\\nAngela F 19543 1967\\nTammy F 18652 1967\\nMelissa F 18379 1967\\nJennifer F 18231 1967\\nMichael M 82436 1967\\nDavid M 66810 1967\\nJames M 61698 1967\\nJohn M 61618 1967\\nRobert M 56381 1967\\nWilliam M 37619 1967\\nMark M 34925 1967\\nRichard M 33588 1967\\nChristopher M 29426 1967\\nBrian M 28655 1967\\nLisa F 49532 1968\\nMichelle F 33221 1968\\nKimberly F 31908 1968\\nJennifer F 26852 1968\\nMelissa F 21727 1968\\nMary F 21725 1968\\nAngela F 20669 1968\\nTammy F 20056 1968\\nKaren F 19558 1968\\nSusan F 19503 1968\\nMichael M 82008 1968\\nDavid M 63718 1968\\nJohn M 60929 1968\\nJames M 60693 1968\\nRobert M 58211 1968\\nWilliam M 36956 1968\\nMark M 35420 1968\\nRichard M 32987 1968\\nChristopher M 31459 1968\\nBrian M 29939 1968\\nLisa F 45029 1969\\nMichelle F 34322 1969\\nJennifer F 33702 1969\\nKimberly F 33077 1969\\nMelissa F 23020 1969\\nAmy F 21464 1969\\nAngela F 21055 1969\\nMary F 19851 1969\\nTammy F 19051 1969\\nLaura F 17920 1969\\nMichael M 85203 1969\\nDavid M 63700 1969\\nJames M 59915 1969\\nJohn M 58771 1969\\nRobert M 58325 1969\\nWilliam M 37629 1969\\nChristopher M 35698 1969\\nMark M 33394 1969\\nBrian M 31687 1969\\nRichard M 31106 1969\\nJennifer F 46157 1970\\nLisa F 38963 1970\\nKimberly F 34136 1970\\nMichelle F 34050 1970\\nAmy F 25209 1970\\nAngela F 24927 1970\\nMelissa F 23737 1970\\nTammy F 19586 1970\\nMary F 19203 1970\\nTracy F 18468 1970\\nMichael M 85302 1970\\nJames M 61759 1970\\nDavid M 61752 1970\\nJohn M 58525 1970\\nRobert M 57203 1970\\nChristopher M 41772 1970\\nWilliam M 38910 1970\\nBrian M 31930 1970\\nMark M 31492 1970\\nRichard M 30456 1970\\nJennifer F 56783 1971\\nMichelle F 33160 1971\\nLisa F 32909 1971\\nKimberly F 30696 1971\\nAmy F 26237 1971\\nAngela F 25896 1971\\nMelissa F 23869 1971\\nTammy F 17657 1971\\nMary F 16697 1971\\nJulie F 15326 1971\\nMichael M 77594 1971\\nJames M 54621 1971\\nDavid M 53118 1971\\nJohn M 51518 1971\\nRobert M 50654 1971\\nChristopher M 48234 1971\\nWilliam M 35432 1971\\nJason M 34187 1971\\nBrian M 32637 1971\\nScott M 30921 1971\\nJennifer F 63603 1972\\nMichelle F 29284 1972\\nLisa F 27549 1972\\nKimberly F 26290 1972\\nAmy F 25873 1972\\nAngela F 23556 1972\\nMelissa F 22503 1972\\nStephanie F 16885 1972\\nHeather F 16321 1972\\nNicole F 15752 1972\\nMichael M 71405 1972\\nChristopher M 52189 1972\\nJames M 47083 1972\\nDavid M 46366 1972\\nJohn M 43181 1972\\nRobert M 43037 1972\\nJason M 37446 1972\\nBrian M 36322 1972\\nWilliam M 30529 1972\\nMatthew M 22943 1972\\nJennifer F 62447 1973\\nAmy F 26964 1973\\nMichelle F 26934 1973\\nKimberly F 23533 1973\\nLisa F 22669 1973\\nMelissa F 22480 1973\\nAngela F 20896 1973\\nHeather F 19349 1973\\nStephanie F 17263 1973\\nRebecca F 14870 1973\\nMichael M 67847 1973\\nChristopher M 48321 1973\\nJason M 46683 1973\\nJames M 42889 1973\\nDavid M 41102 1973\\nJohn M 39176 1973\\nRobert M 38701 1973\\nBrian M 35715 1973\\nWilliam M 28021 1973\\nMatthew M 24546 1973\\nJennifer F 63114 1974\\nAmy F 29565 1974\\nMichelle F 25828 1974\\nHeather F 23181 1974\\nAngela F 22802 1974\\nKimberly F 22419 1974\\nMelissa F 22166 1974\\nLisa F 19774 1974\\nStephanie F 16983 1974\\nRebecca F 15167 1974\\nMichael M 67578 1974\\nJason M 54776 1974\\nChristopher M 48603 1974\\nDavid M 41815 1974\\nJames M 41354 1974\\nJohn M 37638 1974\\nRobert M 37031 1974\\nBrian M 34460 1974\\nMatthew M 27224 1974\\nWilliam M 26990 1974\\nJennifer F 58183 1975\\nAmy F 32251 1975\\nHeather F 24299 1975\\nMelissa F 24165 1975\\nAngela F 23360 1975\\nMichelle F 22665 1975\\nKimberly F 20263 1975\\nLisa F 18134 1975\\nStephanie F 15774 1975\\nNicole F 14276 1975\\nMichael M 68454 1975\\nJason M 52186 1975\\nChristopher M 46592 1975\\nJames M 39591 1975\\nDavid M 39177 1975\\nRobert M 35335 1975\\nJohn M 35097 1975\\nBrian M 30608 1975\\nMatthew M 28550 1975\\nWilliam M 25572 1975\\nJennifer F 59474 1976\\nAmy F 31341 1976\\nMelissa F 25095 1976\\nHeather F 24198 1976\\nAngela F 22042 1976\\nMichelle F 19555 1976\\nKimberly F 18966 1976\\nJessica F 18370 1976\\nLisa F 17351 1976\\nAmanda F 15590 1976\\nMichael M 66954 1976\\nJason M 52680 1976\\nChristopher M 45210 1976\\nDavid M 39294 1976\\nJames M 38309 1976\\nJohn M 34006 1976\\nRobert M 33810 1976\\nBrian M 30532 1976\\nMatthew M 29981 1976\\nDaniel M 24720 1976\\nJennifer F 58964 1977\\nMelissa F 26886 1977\\nAmy F 26732 1977\\nJessica F 24843 1977\\nHeather F 23777 1977\\nAngela F 20996 1977\\nMichelle F 19539 1977\\nKimberly F 18286 1977\\nAmanda F 18280 1977\\nKelly F 18235 1977\\nMichael M 67616 1977\\nJason M 55653 1977\\nChristopher M 46749 1977\\nDavid M 40543 1977\\nJames M 40054 1977\\nJohn M 34227 1977\\nRobert M 34217 1977\\nBrian M 32502 1977\\nMatthew M 31973 1977\\nJoseph M 26493 1977\\nJennifer F 56321 1978\\nMelissa F 28330 1978\\nJessica F 26102 1978\\nAmy F 23212 1978\\nHeather F 22271 1978\\nAmanda F 20517 1978\\nAngela F 20511 1978\\nSarah F 19977 1978\\nMichelle F 18860 1978\\nNicole F 17276 1978\\nMichael M 67158 1978\\nJason M 51629 1978\\nChristopher M 47259 1978\\nDavid M 40704 1978\\nJames M 39915 1978\\nMatthew M 34310 1978\\nJohn M 34037 1978\\nRobert M 33396 1978\\nBrian M 29451 1978\\nJoseph M 26671 1978\\nJennifer F 56717 1979\\nMelissa F 34052 1979\\nAmanda F 31928 1979\\nJessica F 27776 1979\\nAmy F 21615 1979\\nSarah F 21018 1979\\nHeather F 20839 1979\\nAngela F 20256 1979\\nNicole F 19511 1979\\nMichelle F 19269 1979\\nMichael M 67739 1979\\nChristopher M 50677 1979\\nJason M 50408 1979\\nDavid M 42078 1979\\nJames M 39371 1979\\nMatthew M 35657 1979\\nJohn M 35434 1979\\nRobert M 34026 1979\\nJoshua M 31137 1979\\nBrian M 28670 1979\\nJennifer F 58375 1980\\nAmanda F 35821 1980\\nJessica F 33921 1980\\nMelissa F 31636 1980\\nSarah F 25755 1980\\nHeather F 19975 1980\\nNicole F 19920 1980\\nAmy F 19835 1980\\nElizabeth F 19528 1980\\nMichelle F 19123 1980\\nMichael M 68696 1980\\nChristopher M 49092 1980\\nJason M 48171 1980\\nDavid M 41925 1980\\nJames M 39325 1980\\nMatthew M 37855 1980\\nJoshua M 36060 1980\\nJohn M 35279 1980\\nRobert M 34280 1980\\nJoseph M 30203 1980\\nJennifer F 57049 1981\\nJessica F 42533 1981\\nAmanda F 34373 1981\\nSarah F 28173 1981\\nMelissa F 28000 1981\\nAmy F 20343 1981\\nNicole F 20312 1981\\nStephanie F 20209 1981\\nElizabeth F 20173 1981\\nHeather F 17947 1981\\nMichael M 68763 1981\\nChristopher M 50235 1981\\nMatthew M 43333 1981\\nJason M 41931 1981\\nDavid M 40668 1981\\nJoshua M 39054 1981\\nJames M 38313 1981\\nJohn M 34887 1981\\nRobert M 34406 1981\\nDaniel M 30994 1981\\nJennifer F 57117 1982\\nJessica F 45451 1982\\nAmanda F 34214 1982\\nSarah F 28484 1982\\nMelissa F 25867 1982\\nNicole F 21707 1982\\nStephanie F 20857 1982\\nElizabeth F 20514 1982\\nCrystal F 19104 1982\\nAmy F 18803 1982\\nMichael M 68235 1982\\nChristopher M 59231 1982\\nMatthew M 46066 1982\\nJason M 40632 1982\\nDavid M 40459 1982\\nJames M 38875 1982\\nJoshua M 38028 1982\\nJohn M 34705 1982\\nRobert M 34425 1982\\nDaniel M 32653 1982\\nJennifer F 54346 1983\\nJessica F 45282 1983\\nAmanda F 33754 1983\\nAshley F 33293 1983\\nSarah F 27229 1983\\nMelissa F 23473 1983\\nNicole F 22399 1983\\nStephanie F 22330 1983\\nHeather F 20746 1983\\nElizabeth F 19842 1983\\nMichael M 68000 1983\\nChristopher M 59349 1983\\nMatthew M 50217 1983\\nDavid M 39199 1983\\nJoshua M 36707 1983\\nJames M 36354 1983\\nJason M 35115 1983\\nDaniel M 34750 1983\\nJohn M 33153 1983\\nRobert M 32746 1983\\nJennifer F 50559 1984\\nJessica F 45855 1984\\nAshley F 38772 1984\\nAmanda F 33908 1984\\nSarah F 25884 1984\\nStephanie F 23021 1984\\nNicole F 22265 1984\\nMelissa F 21891 1984\\nHeather F 21492 1984\\nElizabeth F 20364 1984\\nMichael M 67741 1984\\nChristopher M 60029 1984\\nMatthew M 49776 1984\\nJoshua M 40262 1984\\nDavid M 38486 1984\\nDaniel M 36533 1984\\nJames M 35857 1984\\nJohn M 32617 1984\\nRobert M 31773 1984\\nJoseph M 30515 1984\\nJessica F 48347 1985\\nAshley F 47007 1985\\nJennifer F 42651 1985\\nAmanda F 39052 1985\\nSarah F 24882 1985\\nStephanie F 23239 1985\\nNicole F 22967 1985\\nHeather F 21153 1985\\nElizabeth F 20541 1985\\nMegan F 20013 1985\\nMichael M 64912 1985\\nChristopher M 59609 1985\\nMatthew M 47079 1985\\nJoshua M 42195 1985\\nDaniel M 38542 1985\\nDavid M 38521 1985\\nJames M 35861 1985\\nRobert M 32090 1985\\nJohn M 31500 1985\\nJoseph M 30212 1985\\nJessica F 52677 1986\\nAshley F 49676 1986\\nAmanda F 40529 1986\\nJennifer F 36185 1986\\nSarah F 28155 1986\\nStephanie F 22647 1986\\nNicole F 21285 1986\\nBrittany F 20311 1986\\nHeather F 19792 1986\\nElizabeth F 19072 1986\\nMichael M 64208 1986\\nChristopher M 56691 1986\\nMatthew M 46925 1986\\nJoshua M 37542 1986\\nDavid M 37147 1986\\nDaniel M 36574 1986\\nJames M 34040 1986\\nAndrew M 33856 1986\\nRobert M 31349 1986\\nJohn M 30207 1986\\nJessica F 55994 1987\\nAshley F 54854 1987\\nAmanda F 41786 1987\\nJennifer F 32703 1987\\nSarah F 27890 1987\\nStephanie F 22398 1987\\nBrittany F 22231 1987\\nNicole F 20286 1987\\nHeather F 18979 1987\\nElizabeth F 18607 1987\\nMichael M 63655 1987\\nChristopher M 54493 1987\\nMatthew M 46481 1987\\nJoshua M 40000 1987\\nDavid M 36786 1987\\nAndrew M 36206 1987\\nDaniel M 35865 1987\\nJames M 32643 1987\\nJustin M 31492 1987\\nRobert M 30229 1987\\nJessica F 51543 1988\\nAshley F 49963 1988\\nAmanda F 39457 1988\\nSarah F 28368 1988\\nJennifer F 27889 1988\\nBrittany F 26815 1988\\nStephanie F 22838 1988\\nSamantha F 20699 1988\\nNicole F 20311 1988\\nElizabeth F 20038 1988\\nMichael M 64143 1988\\nChristopher M 52997 1988\\nMatthew M 45870 1988\\nJoshua M 42651 1988\\nAndrew M 35741 1988\\nDavid M 35314 1988\\nJustin M 35042 1988\\nDaniel M 34700 1988\\nJames M 32510 1988\\nRobert M 30317 1988\\nJessica F 47884 1989\\nAshley F 47589 1989\\nBrittany F 37788 1989\\nAmanda F 36827 1989\\nSarah F 27793 1989\\nSamantha F 24792 1989\\nJennifer F 23997 1989\\nStephanie F 22768 1989\\nLauren F 21063 1989\\nElizabeth F 20295 1989\\nMichael M 65389 1989\\nChristopher M 53178 1989\\nMatthew M 45374 1989\\nJoshua M 44091 1989\\nDavid M 35218 1989\\nDaniel M 35001 1989\\nAndrew M 34811 1989\\nJustin M 32843 1989\\nJames M 32703 1989\\nRobert M 30065 1989\\nJessica F 46475 1990\\nAshley F 45560 1990\\nBrittany F 36537 1990\\nAmanda F 34408 1990\\nSamantha F 25867 1990\\nSarah F 25817 1990\\nStephanie F 24860 1990\\nJennifer F 22228 1990\\nElizabeth F 20744 1990\\nLauren F 20506 1990\\nMichael M 65290 1990\\nChristopher M 52336 1990\\nMatthew M 44804 1990\\nJoshua M 43219 1990\\nDaniel M 33818 1990\\nDavid M 33743 1990\\nAndrew M 33657 1990\\nJames M 32349 1990\\nJustin M 30641 1990\\nJoseph M 30128 1990\\nAshley F 43478 1991\\nJessica F 43398 1991\\nBrittany F 29089 1991\\nAmanda F 28893 1991\\nSamantha F 25645 1991\\nSarah F 25225 1991\\nStephanie F 22774 1991\\nJennifer F 20673 1991\\nElizabeth F 20392 1991\\nEmily F 20308 1991\\nMichael M 60785 1991\\nChristopher M 47104 1991\\nMatthew M 41640 1991\\nJoshua M 41218 1991\\nAndrew M 31532 1991\\nDaniel M 30917 1991\\nJames M 30507 1991\\nDavid M 30414 1991\\nJoseph M 29834 1991\\nJohn M 27800 1991\\nAshley F 38453 1992\\nJessica F 38356 1992\\nAmanda F 25033 1992\\nBrittany F 24977 1992\\nSarah F 24635 1992\\nSamantha F 24409 1992\\nEmily F 21832 1992\\nStephanie F 19672 1992\\nElizabeth F 19032 1992\\nMegan F 17842 1992\\nMichael M 54392 1992\\nChristopher M 42460 1992\\nMatthew M 37734 1992\\nJoshua M 36215 1992\\nAndrew M 30535 1992\\nBrandon M 29622 1992\\nDaniel M 29148 1992\\nTyler M 28794 1992\\nJames M 28503 1992\\nDavid M 28411 1992\\nJessica F 34987 1993\\nAshley F 34850 1993\\nSarah F 24252 1993\\nSamantha F 23668 1993\\nEmily F 23595 1993\\nBrittany F 21724 1993\\nTaylor F 21267 1993\\nAmanda F 20811 1993\\nElizabeth F 17557 1993\\nStephanie F 17183 1993\\nMichael M 49549 1993\\nChristopher M 38227 1993\\nMatthew M 35770 1993\\nJoshua M 33581 1993\\nTyler M 29796 1993\\nBrandon M 28731 1993\\nDaniel M 28685 1993\\nNicholas M 28107 1993\\nJacob M 27484 1993\\nAndrew M 27319 1993\\nJessica F 32117 1994\\nAshley F 30278 1994\\nEmily F 24149 1994\\nSamantha F 22820 1994\\nSarah F 22291 1994\\nTaylor F 20733 1994\\nBrittany F 18901 1994\\nAmanda F 18718 1994\\nElizabeth F 16782 1994\\nMegan F 16580 1994\\nMichael M 44469 1994\\nChristopher M 34800 1994\\nMatthew M 33648 1994\\nJoshua M 31372 1994\\nTyler M 30477 1994\\nBrandon M 29487 1994\\nJacob M 29412 1994\\nDaniel M 28060 1994\\nNicholas M 27762 1994\\nAndrew M 26009 1994\\nJessica F 27938 1995\\nAshley F 26602 1995\\nEmily F 24380 1995\\nSamantha F 21644 1995\\nSarah F 21383 1995\\nTaylor F 20425 1995\\nHannah F 17010 1995\\nBrittany F 16476 1995\\nAmanda F 16351 1995\\nElizabeth F 16185 1995\\nMichael M 41402 1995\\nMatthew M 32875 1995\\nChristopher M 32674 1995\\nJacob M 31129 1995\\nJoshua M 30718 1995\\nNicholas M 29156 1995\\nTyler M 29154 1995\\nBrandon M 26904 1995\\nDaniel M 26722 1995\\nAustin M 25905 1995\\nEmily F 25151 1996\\nJessica F 24198 1996\\nAshley F 23677 1996\\nSarah F 21040 1996\\nSamantha F 20548 1996\\nTaylor F 19152 1996\\nHannah F 18596 1996\\nAlexis F 16589 1996\\nRachel F 16117 1996\\nElizabeth F 15998 1996\\nMichael M 38364 1996\\nMatthew M 32073 1996\\nJacob M 31925 1996\\nChristopher M 30901 1996\\nJoshua M 29170 1996\\nNicholas M 27720 1996\\nTyler M 26953 1996\\nBrandon M 25846 1996\\nAustin M 25660 1996\\nAndrew M 25235 1996\\nEmily F 25732 1997\\nJessica F 21042 1997\\nAshley F 20896 1997\\nSarah F 20707 1997\\nHannah F 20593 1997\\nSamantha F 20169 1997\\nTaylor F 19502 1997\\nAlexis F 17170 1997\\nElizabeth F 15423 1997\\nMadison F 15188 1997\\nMichael M 37549 1997\\nJacob M 34153 1997\\nMatthew M 31514 1997\\nChristopher M 29105 1997\\nJoshua M 28284 1997\\nNicholas M 27257 1997\\nAndrew M 25199 1997\\nBrandon M 25193 1997\\nAustin M 25117 1997\\nTyler M 24876 1997\\nEmily F 26182 1998\\nHannah F 21373 1998\\nSamantha F 20192 1998\\nSarah F 19884 1998\\nAshley F 19873 1998\\nAlexis F 19778 1998\\nTaylor F 18572 1998\\nJessica F 18235 1998\\nMadison F 17787 1998\\nElizabeth F 15187 1998\\nMichael M 36615 1998\\nJacob M 36016 1998\\nMatthew M 31142 1998\\nJoshua M 28089 1998\\nChristopher M 27002 1998\\nNicholas M 26634 1998\\nBrandon M 23829 1998\\nTyler M 23711 1998\\nAndrew M 23658 1998\\nAustin M 23477 1998\\nEmily F 26539 1999\\nHannah F 21676 1999\\nAlexis F 19234 1999\\nSarah F 19104 1999\\nSamantha F 19038 1999\\nAshley F 18136 1999\\nMadison F 18053 1999\\nTaylor F 16905 1999\\nJessica F 16348 1999\\nElizabeth F 15345 1999\\nJacob M 35363 1999\\nMichael M 33912 1999\\nMatthew M 30415 1999\\nJoshua M 27258 1999\\nNicholas M 25638 1999\\nChristopher M 25603 1999\\nAndrew M 23855 1999\\nJoseph M 23213 1999\\nDaniel M 22694 1999\\nTyler M 22665 1999\\nEmily F 25956 2000\\nHannah F 23082 2000\\nMadison F 19968 2000\\nAshley F 17997 2000\\nSarah F 17702 2000\\nAlexis F 17629 2000\\nSamantha F 17265 2000\\nJessica F 15709 2000\\nElizabeth F 15099 2000\\nTaylor F 15078 2000\\nJacob M 34477 2000\\nMichael M 32037 2000\\nMatthew M 28573 2000\\nJoshua M 27537 2000\\nChristopher M 24932 2000\\nNicholas M 24652 2000\\nAndrew M 23641 2000\\nJoseph M 22831 2000\\nDaniel M 22319 2000\\nTyler M 21504 2000\\nEmily F 25057 2001\\nMadison F 22164 2001\\nHannah F 20716 2001\\nAshley F 16527 2001\\nAlexis F 16402 2001\\nSarah F 15899 2001\\nSamantha F 15864 2001\\nAbigail F 14807 2001\\nElizabeth F 14786 2001\\nOlivia F 13977 2001\\nJacob M 32545 2001\\nMichael M 29683 2001\\nMatthew M 26808 2001\\nJoshua M 26015 2001\\nChristopher M 23126 2001\\nNicholas M 22845 2001\\nAndrew M 22411 2001\\nJoseph M 22011 2001\\nDaniel M 20989 2001\\nWilliam M 20101 2001\\nEmily F 24464 2002\\nMadison F 21773 2002\\nHannah F 18822 2002\\nEmma F 16540 2002\\nAlexis F 15636 2002\\nAshley F 15344 2002\\nAbigail F 15298 2002\\nSarah F 14760 2002\\nSamantha F 14666 2002\\nOlivia F 14629 2002\\nJacob M 30574 2002\\nMichael M 28245 2002\\nJoshua M 25993 2002\\nMatthew M 25153 2002\\nEthan M 22109 2002\\nAndrew M 22019 2002\\nJoseph M 21895 2002\\nChristopher M 21684 2002\\nNicholas M 21390 2002\\nDaniel M 21316 2002\\nEmily F 25691 2003\\nEmma F 22706 2003\\nMadison F 20199 2003\\nHannah F 17637 2003\\nOlivia F 16148 2003\\nAbigail F 15928 2003\\nAlexis F 14867 2003\\nAshley F 14514 2003\\nElizabeth F 14103 2003\\nSamantha F 13867 2003\\nJacob M 29638 2003\\nMichael M 27121 2003\\nJoshua M 25095 2003\\nMatthew M 24001 2003\\nAndrew M 22153 2003\\nJoseph M 21367 2003\\nEthan M 21357 2003\\nDaniel M 21039 2003\\nChristopher M 20749 2003\\nAnthony M 20145 2003\\nEmily F 25037 2004\\nEmma F 21607 2004\\nMadison F 20622 2004\\nOlivia F 16105 2004\\nHannah F 15605 2004\\nAbigail F 15426 2004\\nIsabella F 15017 2004\\nAshley F 14373 2004\\nSamantha F 13783 2004\\nElizabeth F 13561 2004\\nJacob M 27881 2004\\nMichael M 25458 2004\\nJoshua M 24204 2004\\nMatthew M 22874 2004\\nEthan M 22206 2004\\nAndrew M 21703 2004\\nDaniel M 20983 2004\\nWilliam M 20225 2004\\nJoseph M 20125 2004\\nChristopher M 19630 2004\\nEmily F 23940 2005\\nEmma F 20344 2005\\nMadison F 19568 2005\\nAbigail F 15749 2005\\nOlivia F 15693 2005\\nIsabella F 15186 2005\\nHannah F 14845 2005\\nSamantha F 13638 2005\\nAva F 13605 2005\\nAshley F 13274 2005\\nJacob M 25833 2005\\nMichael M 23815 2005\\nJoshua M 23250 2005\\nMatthew M 21468 2005\\nEthan M 21312 2005\\nAndrew M 20730 2005\\nDaniel M 20211 2005\\nAnthony M 19379 2005\\nJoseph M 19217 2005\\nChristopher M 19168 2005\\nEmily F 21404 2006\\nEmma F 19119 2006\\nMadison F 18626 2006\\nIsabella F 18225 2006\\nAva F 16939 2006\\nAbigail F 15628 2006\\nOlivia F 15498 2006\\nHannah F 14544 2006\\nSophia F 13501 2006\\nSamantha F 12462 2006\\nJacob M 24845 2006\\nMichael M 22637 2006\\nJoshua M 22322 2006\\nEthan M 20514 2006\\nMatthew M 20331 2006\\nDaniel M 20065 2006\\nAndrew M 19721 2006\\nChristopher M 19680 2006\\nAnthony M 19404 2006\\nWilliam M 18957 2006\\nEmily F 19355 2007\\nIsabella F 19139 2007\\nEmma F 18373 2007\\nAva F 18051 2007\\nMadison F 17961 2007\\nSophia F 17024 2007\\nOlivia F 16582 2007\\nAbigail F 15470 2007\\nHannah F 13312 2007\\nElizabeth F 13056 2007\\nJacob M 24282 2007\\nMichael M 21992 2007\\nEthan M 21029 2007\\nJoshua M 20655 2007\\nDaniel M 20251 2007\\nChristopher M 20018 2007\\nAnthony M 19627 2007\\nWilliam M 18882 2007\\nMatthew M 18739 2007\\nAndrew M 18449 2007\\nEmma F 18813 2008\\nIsabella F 18616 2008\\nEmily F 17434 2008\\nOlivia F 17081 2008\\nAva F 17039 2008\\nMadison F 17032 2008\\nSophia F 16084 2008\\nAbigail F 15082 2008\\nElizabeth F 12008 2008\\nChloe F 11824 2008\\nJacob M 22594 2008\\nMichael M 20626 2008\\nEthan M 20216 2008\\nJoshua M 19205 2008\\nDaniel M 19005 2008\\nAlexander M 18697 2008\\nAnthony M 18397 2008\\nWilliam M 18391 2008\\nChristopher M 17947 2008\\nMatthew M 17580 2008\\nIsabella F 22306 2009\\nEmma F 17895 2009\\nOlivia F 17435 2009\\nSophia F 16944 2009\\nAva F 15873 2009\\nEmily F 15352 2009\\nMadison F 15239 2009\\nAbigail F 14390 2009\\nChloe F 11909 2009\\nMia F 11426 2009\\nJacob M 21175 2009\\nEthan M 19847 2009\\nMichael M 18940 2009\\nAlexander M 18234 2009\\nWilliam M 17918 2009\\nJoshua M 17650 2009\\nDaniel M 17542 2009\\nJayden M 17288 2009\\nNoah M 17247 2009\\nChristopher M 16355 2009\\nIsabella F 22913 2010\\nSophia F 20643 2010\\nEmma F 17345 2010\\nOlivia F 17028 2010\\nAva F 15433 2010\\nEmily F 14274 2010\\nAbigail F 14247 2010\\nMadison F 13183 2010\\nChloe F 11754 2010\\nMia F 10639 2010\\nJacob M 22127 2010\\nEthan M 18002 2010\\nMichael M 17350 2010\\nJayden M 17179 2010\\nWilliam M 17051 2010\\nAlexander M 16756 2010\\nNoah M 16451 2010\\nDaniel M 15843 2010\\nAiden M 15538 2010\\nAnthony M 15493 2010\\nSophia F 21842 2011\\nIsabella F 19910 2011\\nEmma F 18803 2011\\nOlivia F 17322 2011\\nAva F 15503 2011\\nEmily F 14258 2011\\nAbigail F 13248 2011\\nMadison F 12389 2011\\nMia F 11530 2011\\nChloe F 10991 2011\\nJacob M 20371 2011\\nMason M 19510 2011\\nWilliam M 17343 2011\\nJayden M 16992 2011\\nNoah M 16862 2011\\nMichael M 16795 2011\\nEthan M 16684 2011\\nAlexander M 15702 2011\\nAiden M 15496 2011\\nDaniel M 15291 2011\\nSophia F 22313 2012\\nEmma F 20945 2012\\nIsabella F 19099 2012\\nOlivia F 17316 2012\\nAva F 15533 2012\\nEmily F 13649 2012\\nAbigail F 12700 2012\\nMia F 12023 2012\\nMadison F 11397 2012\\nElizabeth F 9708 2012\\nJacob M 19074 2012\\nMason M 18969 2012\\nEthan M 17672 2012\\nNoah M 17353 2012\\nWilliam M 16885 2012\\nLiam M 16804 2012\\nMichael M 16169 2012\\nJayden M 16127 2012\\nAlexander M 15237 2012\\nAiden M 14903 2012\\nSophia F 21223 2013\\nEmma F 20942 2013\\nOlivia F 18428 2013\\nIsabella F 17642 2013\\nAva F 15252 2013\\nMia F 13152 2013\\nEmily F 13126 2013\\nAbigail F 12409 2013\\nMadison F 10596 2013\\nElizabeth F 9454 2013\\nNoah M 18257 2013\\nJacob M 18158 2013\\nLiam M 18137 2013\\nMason M 17699 2013\\nWilliam M 16641 2013\\nEthan M 16241 2013\\nMichael M 15497 2013\\nAlexander M 14905 2013\\nJayden M 14766 2013\\nDaniel M 14298 2013\\nEmma F 20936 2014\\nOlivia F 19807 2014\\nSophia F 18609 2014\\nIsabella F 17089 2014\\nAva F 15696 2014\\nMia F 13512 2014\\nEmily F 12647 2014\\nAbigail F 12085 2014\\nMadison F 10320 2014\\nCharlotte F 10115 2014\\nNoah M 19305 2014\\nLiam M 18462 2014\\nMason M 17201 2014\\nJacob M 16883 2014\\nWilliam M 16820 2014\\nEthan M 15724 2014\\nMichael M 15454 2014\\nAlexander M 15414 2014\\nJames M 14431 2014\\nDaniel M 13937 2014\\nEmma F 20455 2015\\nOlivia F 19691 2015\\nSophia F 17417 2015\\nAva F 16378 2015\\nIsabella F 15617 2015\\nMia F 14905 2015\\nAbigail F 12401 2015\\nEmily F 11786 2015\\nCharlotte F 11398 2015\\nHarper F 10295 2015\\nNoah M 19635 2015\\nLiam M 18374 2015\\nMason M 16627 2015\\nJacob M 15949 2015\\nWilliam M 15909 2015\\nEthan M 15077 2015\\nJames M 14824 2015\\nAlexander M 14547 2015\\nMichael M 14431 2015\\nBenjamin M 13700 2015\\nEmma F 19496 2016\\nOlivia F 19365 2016\\nAva F 16302 2016\\nSophia F 16128 2016\\nIsabella F 14795 2016\\nMia F 14428 2016\\nCharlotte F 13090 2016\\nAbigail F 11760 2016\\nEmily F 10972 2016\\nHarper F 10787 2016\\nNoah M 19117 2016\\nLiam M 18218 2016\\nWilliam M 15761 2016\\nMason M 15244 2016\\nJames M 14862 2016\\nBenjamin M 14641 2016\\nJacob M 14510 2016\\nMichael M 14088 2016\\nElijah M 13902 2016\\nEthan M 13819 2016\\nEmma F 19800 2017\\nOlivia F 18703 2017\\nAva F 15958 2017\\nIsabella F 15180 2017\\nSophia F 14883 2017\\nMia F 13470 2017\\nCharlotte F 12937 2017\\nAmelia F 11833 2017\\nEvelyn F 10712 2017\\nAbigail F 10607 2017\\nLiam M 18798 2017\\nNoah M 18410 2017\\nWilliam M 14967 2017\\nJames M 14291 2017\\nLogan M 14014 2017\\nBenjamin M 13797 2017\\nMason M 13549 2017\\nElijah M 13344 2017\\nOliver M 13193 2017\\nJacob M 13178 2017\\nEmma F 18688 2018\\nOlivia F 17921 2018\\nAva F 14924 2018\\nIsabella F 14464 2018\\nSophia F 13928 2018\\nCharlotte F 12940 2018\\nMia F 12642 2018\\nAmelia F 12301 2018\\nHarper F 10582 2018\\nEvelyn F 10376 2018\\nLiam M 19837 2018\\nNoah M 18267 2018\\nWilliam M 14516 2018\\nJames M 13525 2018\\nOliver M 13389 2018\\nBenjamin M 13381 2018\\nElijah M 12886 2018\\nLucas M 12585 2018\\nMason M 12435 2018\\nLogan M 12352 2018\\n'"
      ]
     },
     "execution_count": 3,
     "metadata": {},
     "output_type": "execute_result"
    }
   ],
   "source": [
    "names.replace('\\t', ' ')"
   ]
  },
  {
   "cell_type": "markdown",
   "metadata": {},
   "source": [
    "## 12. 1列目をcol1.txtに，2列目をcol2.txtに保存\n",
    "各行の1列目だけを抜き出したものをcol1.txtに，2列目だけを抜き出したものをcol2.txtとしてファイルに保存せよ．確認にはcutコマンドを用いよ．"
   ]
  },
  {
   "cell_type": "code",
   "execution_count": 4,
   "metadata": {},
   "outputs": [],
   "source": [
    "df.to_csv('col1.txt', columns=[0], header=False, index=False)\n",
    "df.to_csv('col2.txt', columns=[1], header=False, index=False)"
   ]
  },
  {
   "cell_type": "markdown",
   "metadata": {},
   "source": [
    "## 13. col1.txtとcol2.txtをマージ\n",
    "12で作ったcol1.txtとcol2.txtを結合し，元のファイルの1列目と2列目をタブ区切りで並べたテキストファイルを作成せよ．確認にはpasteコマンドを用いよ．"
   ]
  },
  {
   "cell_type": "code",
   "execution_count": 5,
   "metadata": {},
   "outputs": [],
   "source": [
    "col1 = pd.read_table('col1.txt', header=None)\n",
    "col2 = pd.read_table('col2.txt', header=None)\n",
    "pd.concat([col1, col2], axis=1).to_csv('col1-2.txt', header=False, index=False, sep='\\t')"
   ]
  },
  {
   "cell_type": "markdown",
   "metadata": {},
   "source": [
    "## 14. 先頭からN行を出力\n",
    "自然数Nをコマンドライン引数などの手段で受け取り，入力のうち先頭のN行だけを表示せよ．確認にはheadコマンドを用いよ"
   ]
  },
  {
   "cell_type": "code",
   "execution_count": 6,
   "metadata": {},
   "outputs": [
    {
     "name": "stdin",
     "output_type": "stream",
     "text": [
      "表示する先頭からの行数を入力： 10\n"
     ]
    },
    {
     "data": {
      "text/html": [
       "<div>\n",
       "<style scoped>\n",
       "    .dataframe tbody tr th:only-of-type {\n",
       "        vertical-align: middle;\n",
       "    }\n",
       "\n",
       "    .dataframe tbody tr th {\n",
       "        vertical-align: top;\n",
       "    }\n",
       "\n",
       "    .dataframe thead th {\n",
       "        text-align: right;\n",
       "    }\n",
       "</style>\n",
       "<table border=\"1\" class=\"dataframe\">\n",
       "  <thead>\n",
       "    <tr style=\"text-align: right;\">\n",
       "      <th></th>\n",
       "      <th>0</th>\n",
       "      <th>1</th>\n",
       "      <th>2</th>\n",
       "      <th>3</th>\n",
       "    </tr>\n",
       "  </thead>\n",
       "  <tbody>\n",
       "    <tr>\n",
       "      <th>0</th>\n",
       "      <td>Mary</td>\n",
       "      <td>F</td>\n",
       "      <td>7065</td>\n",
       "      <td>1880</td>\n",
       "    </tr>\n",
       "    <tr>\n",
       "      <th>1</th>\n",
       "      <td>Anna</td>\n",
       "      <td>F</td>\n",
       "      <td>2604</td>\n",
       "      <td>1880</td>\n",
       "    </tr>\n",
       "    <tr>\n",
       "      <th>2</th>\n",
       "      <td>Emma</td>\n",
       "      <td>F</td>\n",
       "      <td>2003</td>\n",
       "      <td>1880</td>\n",
       "    </tr>\n",
       "    <tr>\n",
       "      <th>3</th>\n",
       "      <td>Elizabeth</td>\n",
       "      <td>F</td>\n",
       "      <td>1939</td>\n",
       "      <td>1880</td>\n",
       "    </tr>\n",
       "    <tr>\n",
       "      <th>4</th>\n",
       "      <td>Minnie</td>\n",
       "      <td>F</td>\n",
       "      <td>1746</td>\n",
       "      <td>1880</td>\n",
       "    </tr>\n",
       "    <tr>\n",
       "      <th>5</th>\n",
       "      <td>Margaret</td>\n",
       "      <td>F</td>\n",
       "      <td>1578</td>\n",
       "      <td>1880</td>\n",
       "    </tr>\n",
       "    <tr>\n",
       "      <th>6</th>\n",
       "      <td>Ida</td>\n",
       "      <td>F</td>\n",
       "      <td>1472</td>\n",
       "      <td>1880</td>\n",
       "    </tr>\n",
       "    <tr>\n",
       "      <th>7</th>\n",
       "      <td>Alice</td>\n",
       "      <td>F</td>\n",
       "      <td>1414</td>\n",
       "      <td>1880</td>\n",
       "    </tr>\n",
       "    <tr>\n",
       "      <th>8</th>\n",
       "      <td>Bertha</td>\n",
       "      <td>F</td>\n",
       "      <td>1320</td>\n",
       "      <td>1880</td>\n",
       "    </tr>\n",
       "    <tr>\n",
       "      <th>9</th>\n",
       "      <td>Sarah</td>\n",
       "      <td>F</td>\n",
       "      <td>1288</td>\n",
       "      <td>1880</td>\n",
       "    </tr>\n",
       "  </tbody>\n",
       "</table>\n",
       "</div>"
      ],
      "text/plain": [
       "           0  1     2     3\n",
       "0       Mary  F  7065  1880\n",
       "1       Anna  F  2604  1880\n",
       "2       Emma  F  2003  1880\n",
       "3  Elizabeth  F  1939  1880\n",
       "4     Minnie  F  1746  1880\n",
       "5   Margaret  F  1578  1880\n",
       "6        Ida  F  1472  1880\n",
       "7      Alice  F  1414  1880\n",
       "8     Bertha  F  1320  1880\n",
       "9      Sarah  F  1288  1880"
      ]
     },
     "execution_count": 6,
     "metadata": {},
     "output_type": "execute_result"
    }
   ],
   "source": [
    "nHead = int(input('表示する先頭からの行数を入力：'))\n",
    "df[:nHead]"
   ]
  },
  {
   "cell_type": "markdown",
   "metadata": {},
   "source": [
    "## 15. 末尾のN行を出力\n",
    "自然数Nをコマンドライン引数などの手段で受け取り，入力のうち末尾のN行だけを表示せよ．確認にはtailコマンドを用いよ．"
   ]
  },
  {
   "cell_type": "code",
   "execution_count": 7,
   "metadata": {},
   "outputs": [
    {
     "name": "stdin",
     "output_type": "stream",
     "text": [
      "表示する末尾からの行数を入力： 10\n"
     ]
    },
    {
     "data": {
      "text/html": [
       "<div>\n",
       "<style scoped>\n",
       "    .dataframe tbody tr th:only-of-type {\n",
       "        vertical-align: middle;\n",
       "    }\n",
       "\n",
       "    .dataframe tbody tr th {\n",
       "        vertical-align: top;\n",
       "    }\n",
       "\n",
       "    .dataframe thead th {\n",
       "        text-align: right;\n",
       "    }\n",
       "</style>\n",
       "<table border=\"1\" class=\"dataframe\">\n",
       "  <thead>\n",
       "    <tr style=\"text-align: right;\">\n",
       "      <th></th>\n",
       "      <th>0</th>\n",
       "      <th>1</th>\n",
       "      <th>2</th>\n",
       "      <th>3</th>\n",
       "    </tr>\n",
       "  </thead>\n",
       "  <tbody>\n",
       "    <tr>\n",
       "      <th>2770</th>\n",
       "      <td>Liam</td>\n",
       "      <td>M</td>\n",
       "      <td>19837</td>\n",
       "      <td>2018</td>\n",
       "    </tr>\n",
       "    <tr>\n",
       "      <th>2771</th>\n",
       "      <td>Noah</td>\n",
       "      <td>M</td>\n",
       "      <td>18267</td>\n",
       "      <td>2018</td>\n",
       "    </tr>\n",
       "    <tr>\n",
       "      <th>2772</th>\n",
       "      <td>William</td>\n",
       "      <td>M</td>\n",
       "      <td>14516</td>\n",
       "      <td>2018</td>\n",
       "    </tr>\n",
       "    <tr>\n",
       "      <th>2773</th>\n",
       "      <td>James</td>\n",
       "      <td>M</td>\n",
       "      <td>13525</td>\n",
       "      <td>2018</td>\n",
       "    </tr>\n",
       "    <tr>\n",
       "      <th>2774</th>\n",
       "      <td>Oliver</td>\n",
       "      <td>M</td>\n",
       "      <td>13389</td>\n",
       "      <td>2018</td>\n",
       "    </tr>\n",
       "    <tr>\n",
       "      <th>2775</th>\n",
       "      <td>Benjamin</td>\n",
       "      <td>M</td>\n",
       "      <td>13381</td>\n",
       "      <td>2018</td>\n",
       "    </tr>\n",
       "    <tr>\n",
       "      <th>2776</th>\n",
       "      <td>Elijah</td>\n",
       "      <td>M</td>\n",
       "      <td>12886</td>\n",
       "      <td>2018</td>\n",
       "    </tr>\n",
       "    <tr>\n",
       "      <th>2777</th>\n",
       "      <td>Lucas</td>\n",
       "      <td>M</td>\n",
       "      <td>12585</td>\n",
       "      <td>2018</td>\n",
       "    </tr>\n",
       "    <tr>\n",
       "      <th>2778</th>\n",
       "      <td>Mason</td>\n",
       "      <td>M</td>\n",
       "      <td>12435</td>\n",
       "      <td>2018</td>\n",
       "    </tr>\n",
       "    <tr>\n",
       "      <th>2779</th>\n",
       "      <td>Logan</td>\n",
       "      <td>M</td>\n",
       "      <td>12352</td>\n",
       "      <td>2018</td>\n",
       "    </tr>\n",
       "  </tbody>\n",
       "</table>\n",
       "</div>"
      ],
      "text/plain": [
       "             0  1      2     3\n",
       "2770      Liam  M  19837  2018\n",
       "2771      Noah  M  18267  2018\n",
       "2772   William  M  14516  2018\n",
       "2773     James  M  13525  2018\n",
       "2774    Oliver  M  13389  2018\n",
       "2775  Benjamin  M  13381  2018\n",
       "2776    Elijah  M  12886  2018\n",
       "2777     Lucas  M  12585  2018\n",
       "2778     Mason  M  12435  2018\n",
       "2779     Logan  M  12352  2018"
      ]
     },
     "execution_count": 7,
     "metadata": {},
     "output_type": "execute_result"
    }
   ],
   "source": [
    "nTail = int(input('表示する末尾からの行数を入力：'))\n",
    "df[-nTail:]"
   ]
  },
  {
   "cell_type": "markdown",
   "metadata": {},
   "source": [
    "## 16. ファイルをN分割する\n",
    "自然数Nをコマンドライン引数などの手段で受け取り，入力のファイルを行単位でN分割せよ．同様の処理をsplitコマンドで実現せよ．"
   ]
  },
  {
   "cell_type": "code",
   "execution_count": 8,
   "metadata": {},
   "outputs": [
    {
     "name": "stdin",
     "output_type": "stream",
     "text": [
      "分割数を入力： 3\n"
     ]
    }
   ],
   "source": [
    "nSplit = int(input('分割数を入力：'))\n",
    "nAllLines = len(df)\n",
    "\n",
    "# 1ファイルあたりの行数を指定\n",
    "if nAllLines % nSplit != 0:\n",
    "    nLines = int(nAllLines/nSplit) + 1\n",
    "else:\n",
    "    nLines = int(nAllLines/nSplit)\n",
    "\n",
    "# DataFrameの書き出し\n",
    "line_num = 0\n",
    "for i in range(nSplit):\n",
    "    df[line_num:line_num+nLines].to_csv(\n",
    "        'splited_' + str(i) + '.txt',\n",
    "        header=False, \n",
    "        index=False,\n",
    "        sep='\\t')\n",
    "    line_num += nLines"
   ]
  },
  {
   "cell_type": "markdown",
   "metadata": {},
   "source": [
    "## 17. １列目の文字列の異なり\n",
    "1列目の文字列の種類（異なる文字列の集合）を求めよ．確認にはcut, sort, uniqコマンドを用いよ．"
   ]
  },
  {
   "cell_type": "code",
   "execution_count": 9,
   "metadata": {},
   "outputs": [
    {
     "data": {
      "text/plain": [
       "array(['Mary', 'Anna', 'Emma', 'Elizabeth', 'Minnie', 'Margaret', 'Ida',\n",
       "       'Alice', 'Bertha', 'Sarah', 'John', 'William', 'James', 'Charles',\n",
       "       'George', 'Frank', 'Joseph', 'Thomas', 'Henry', 'Robert', 'Annie',\n",
       "       'Edward', 'Clara', 'Florence', 'Ethel', 'Bessie', 'Harry', 'Helen',\n",
       "       'Ruth', 'Marie', 'Lillian', 'Mildred', 'Dorothy', 'Frances',\n",
       "       'Walter', 'Evelyn', 'Virginia', 'Richard', 'Betty', 'Donald',\n",
       "       'Doris', 'Shirley', 'Barbara', 'Patricia', 'Joan', 'Nancy',\n",
       "       'Carol', 'David', 'Ronald', 'Judith', 'Linda', 'Sandra', 'Carolyn',\n",
       "       'Sharon', 'Michael', 'Susan', 'Donna', 'Larry', 'Kathleen',\n",
       "       'Deborah', 'Gary', 'Karen', 'Debra', 'Pamela', 'Cynthia', 'Mark',\n",
       "       'Steven', 'Lisa', 'Jeffrey', 'Lori', 'Kimberly', 'Tammy', 'Angela',\n",
       "       'Michelle', 'Jennifer', 'Melissa', 'Christopher', 'Brian', 'Amy',\n",
       "       'Laura', 'Tracy', 'Julie', 'Jason', 'Scott', 'Stephanie',\n",
       "       'Heather', 'Nicole', 'Matthew', 'Rebecca', 'Jessica', 'Amanda',\n",
       "       'Daniel', 'Kelly', 'Joshua', 'Crystal', 'Ashley', 'Megan',\n",
       "       'Brittany', 'Andrew', 'Justin', 'Samantha', 'Lauren', 'Emily',\n",
       "       'Brandon', 'Tyler', 'Taylor', 'Nicholas', 'Jacob', 'Hannah',\n",
       "       'Austin', 'Alexis', 'Rachel', 'Madison', 'Abigail', 'Olivia',\n",
       "       'Ethan', 'Anthony', 'Isabella', 'Ava', 'Sophia', 'Chloe',\n",
       "       'Alexander', 'Mia', 'Jayden', 'Noah', 'Aiden', 'Mason', 'Liam',\n",
       "       'Charlotte', 'Harper', 'Benjamin', 'Elijah', 'Amelia', 'Logan',\n",
       "       'Oliver', 'Lucas'], dtype=object)"
      ]
     },
     "execution_count": 9,
     "metadata": {},
     "output_type": "execute_result"
    }
   ],
   "source": [
    "df[0].unique()"
   ]
  },
  {
   "cell_type": "markdown",
   "metadata": {},
   "source": [
    "## 18. 各行を3コラム目の数値の降順にソート\n",
    "各行を3コラム目の数値の逆順で整列せよ（注意: 各行の内容は変更せずに並び替えよ）．確認にはsortコマンドを用いよ（この問題はコマンドで実行した時の結果と合わなくてもよい）．"
   ]
  },
  {
   "cell_type": "code",
   "execution_count": 10,
   "metadata": {},
   "outputs": [
    {
     "data": {
      "text/html": [
       "<div>\n",
       "<style scoped>\n",
       "    .dataframe tbody tr th:only-of-type {\n",
       "        vertical-align: middle;\n",
       "    }\n",
       "\n",
       "    .dataframe tbody tr th {\n",
       "        vertical-align: top;\n",
       "    }\n",
       "\n",
       "    .dataframe thead th {\n",
       "        text-align: right;\n",
       "    }\n",
       "</style>\n",
       "<table border=\"1\" class=\"dataframe\">\n",
       "  <thead>\n",
       "    <tr style=\"text-align: right;\">\n",
       "      <th></th>\n",
       "      <th>0</th>\n",
       "      <th>1</th>\n",
       "      <th>2</th>\n",
       "      <th>3</th>\n",
       "    </tr>\n",
       "  </thead>\n",
       "  <tbody>\n",
       "    <tr>\n",
       "      <th>1340</th>\n",
       "      <td>Linda</td>\n",
       "      <td>F</td>\n",
       "      <td>99689</td>\n",
       "      <td>1947</td>\n",
       "    </tr>\n",
       "    <tr>\n",
       "      <th>1360</th>\n",
       "      <td>Linda</td>\n",
       "      <td>F</td>\n",
       "      <td>96211</td>\n",
       "      <td>1948</td>\n",
       "    </tr>\n",
       "    <tr>\n",
       "      <th>1350</th>\n",
       "      <td>James</td>\n",
       "      <td>M</td>\n",
       "      <td>94757</td>\n",
       "      <td>1947</td>\n",
       "    </tr>\n",
       "    <tr>\n",
       "      <th>1550</th>\n",
       "      <td>Michael</td>\n",
       "      <td>M</td>\n",
       "      <td>92704</td>\n",
       "      <td>1957</td>\n",
       "    </tr>\n",
       "    <tr>\n",
       "      <th>1351</th>\n",
       "      <td>Robert</td>\n",
       "      <td>M</td>\n",
       "      <td>91640</td>\n",
       "      <td>1947</td>\n",
       "    </tr>\n",
       "    <tr>\n",
       "      <th>...</th>\n",
       "      <td>...</td>\n",
       "      <td>...</td>\n",
       "      <td>...</td>\n",
       "      <td>...</td>\n",
       "    </tr>\n",
       "    <tr>\n",
       "      <th>27</th>\n",
       "      <td>Annie</td>\n",
       "      <td>F</td>\n",
       "      <td>1326</td>\n",
       "      <td>1881</td>\n",
       "    </tr>\n",
       "    <tr>\n",
       "      <th>28</th>\n",
       "      <td>Bertha</td>\n",
       "      <td>F</td>\n",
       "      <td>1324</td>\n",
       "      <td>1881</td>\n",
       "    </tr>\n",
       "    <tr>\n",
       "      <th>8</th>\n",
       "      <td>Bertha</td>\n",
       "      <td>F</td>\n",
       "      <td>1320</td>\n",
       "      <td>1880</td>\n",
       "    </tr>\n",
       "    <tr>\n",
       "      <th>29</th>\n",
       "      <td>Alice</td>\n",
       "      <td>F</td>\n",
       "      <td>1308</td>\n",
       "      <td>1881</td>\n",
       "    </tr>\n",
       "    <tr>\n",
       "      <th>9</th>\n",
       "      <td>Sarah</td>\n",
       "      <td>F</td>\n",
       "      <td>1288</td>\n",
       "      <td>1880</td>\n",
       "    </tr>\n",
       "  </tbody>\n",
       "</table>\n",
       "<p>2780 rows × 4 columns</p>\n",
       "</div>"
      ],
      "text/plain": [
       "            0  1      2     3\n",
       "1340    Linda  F  99689  1947\n",
       "1360    Linda  F  96211  1948\n",
       "1350    James  M  94757  1947\n",
       "1550  Michael  M  92704  1957\n",
       "1351   Robert  M  91640  1947\n",
       "...       ... ..    ...   ...\n",
       "27      Annie  F   1326  1881\n",
       "28     Bertha  F   1324  1881\n",
       "8      Bertha  F   1320  1880\n",
       "29      Alice  F   1308  1881\n",
       "9       Sarah  F   1288  1880\n",
       "\n",
       "[2780 rows x 4 columns]"
      ]
     },
     "execution_count": 10,
     "metadata": {},
     "output_type": "execute_result"
    }
   ],
   "source": [
    "df.sort_values(2, ascending=False)"
   ]
  },
  {
   "cell_type": "markdown",
   "metadata": {},
   "source": [
    "## 19. 各行の1コラム目の文字列の出現頻度を求め，出現頻度の高い順に並べる\n",
    "各行の1列目の文字列の出現頻度を求め，その高い順に並べて表示せよ．確認にはcut, uniq, sortコマンドを用いよ．"
   ]
  },
  {
   "cell_type": "code",
   "execution_count": 11,
   "metadata": {},
   "outputs": [
    {
     "data": {
      "text/plain": [
       "James      118\n",
       "William    111\n",
       "John       108\n",
       "Robert     108\n",
       "Mary        92\n",
       "          ... \n",
       "Laura        1\n",
       "Lori         1\n",
       "Walter       1\n",
       "Lucas        1\n",
       "Kelly        1\n",
       "Name: 0, Length: 136, dtype: int64"
      ]
     },
     "execution_count": 11,
     "metadata": {},
     "output_type": "execute_result"
    }
   ],
   "source": [
    "df[0].value_counts()"
   ]
  },
  {
   "cell_type": "code",
   "execution_count": null,
   "metadata": {},
   "outputs": [],
   "source": []
  }
 ],
 "metadata": {
  "kernelspec": {
   "display_name": "Python 3",
   "language": "python",
   "name": "python3"
  },
  "language_info": {
   "codemirror_mode": {
    "name": "ipython",
    "version": 3
   },
   "file_extension": ".py",
   "mimetype": "text/x-python",
   "name": "python",
   "nbconvert_exporter": "python",
   "pygments_lexer": "ipython3",
   "version": "3.6.9"
  }
 },
 "nbformat": 4,
 "nbformat_minor": 4
}
