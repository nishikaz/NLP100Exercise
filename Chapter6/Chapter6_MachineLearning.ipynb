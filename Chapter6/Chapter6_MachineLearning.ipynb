{
 "cells": [
  {
   "cell_type": "markdown",
   "metadata": {},
   "source": [
    "# 第6章: 機械学習\n",
    "本章では，Fabio Gasparetti氏が公開しているNews Aggregator Data Setを用い，ニュース記事の見出しを「ビジネス」「科学技術」「エンターテイメント」「健康」のカテゴリに分類するタスク（カテゴリ分類）に取り組む．"
   ]
  },
  {
   "cell_type": "markdown",
   "metadata": {},
   "source": [
    "## 50. データの入手・整形\n",
    "\n",
    "News Aggregator Data Setをダウンロードし、以下の要領で学習データ（train.txt），検証データ（valid.txt），評価データ（test.txt）を作成せよ．\n",
    "\n",
    "1. ダウンロードしたzipファイルを解凍し，readme.txtの説明を読む．\n",
    "2. 情報源（publisher）が”Reuters”, “Huffington Post”, “Businessweek”, “Contactmusic.com”, “Daily Mail”の事例（記事）のみを抽出する．\n",
    "3. 抽出された事例をランダムに並び替える．\n",
    "4. 抽出された事例の80%を学習データ，残りの10%ずつを検証データと評価データに分割し，それぞれtrain.txt，valid.txt，test.txtというファイル名で保存する．ファイルには，１行に１事例を書き出すこととし，カテゴリ名と記事見出しのタブ区切り形式とせよ（このファイルは後に問題70で再利用する）．\n",
    "\n",
    "学習データと評価データを作成したら，各カテゴリの事例数を確認せよ．"
   ]
  },
  {
   "cell_type": "code",
   "execution_count": 1,
   "metadata": {},
   "outputs": [],
   "source": [
    "import numpy as np\n",
    "import pandas as pd\n",
    "from sklearn.model_selection import train_test_split\n",
    "\n",
    "news_corpora = \"NewsAggregatorDataset/newsCorpora.csv\"\n",
    "columns = [\"ID\", \"TITLE\", \"URL\", \"PUBLISHER\", \"CATEGORY\", \"STORY\", \"HOSTNAME\", \"TIMESTAMP\"]\n",
    "\n",
    "df = pd.read_csv(news_corpora, delimiter=\"\\t\", header=None, index_col=0, names=columns)\n",
    "\n",
    "target_publisher = [\"Reuters\", \"Huffington Post\", \"Businessweek\", \"Contactmusic.com\", \"Daily Mail\"]\n",
    "df = df[df[\"PUBLISHER\"].isin(target_publisher)]\n",
    "\n",
    "# https://stackoverflow.com/questions/15772009/shuffling-permutating-a-dataframe-in-pandas\n",
    "df = df.reindex(np.random.permutation(df.index))\n",
    "\n",
    "df_size = len(df)\n",
    "train_size, valid_test_size = int(df_size*0.8), int(df_size*0.1)\n",
    "assert df_size == train_size + valid_test_size * 2\n",
    "\n",
    "df_train = df.iloc[:train_size].reset_index(drop=True)\n",
    "df_valid = df.iloc[train_size:train_size+valid_test_size].reset_index(drop=True)\n",
    "df_test = df.iloc[train_size+valid_test_size:].reset_index(drop=True)\n",
    "\n",
    "df_train[[\"CATEGORY\", \"TITLE\"]].to_csv(\"train.txt\", index=False, sep=\"\\t\", encoding=\"utf-8\")\n",
    "df_valid[[\"CATEGORY\", \"TITLE\"]].to_csv(\"valid.txt\", index=False, sep=\"\\t\", encoding=\"utf-8\")\n",
    "df_test[[\"CATEGORY\", \"TITLE\"]].to_csv(\"test.txt\", index=False, sep=\"\\t\", encoding=\"utf-8\")"
   ]
  },
  {
   "cell_type": "code",
   "execution_count": 2,
   "metadata": {},
   "outputs": [
    {
     "data": {
      "text/plain": [
       "((10672, 7), (1334, 7), (1334, 7))"
      ]
     },
     "execution_count": 2,
     "metadata": {},
     "output_type": "execute_result"
    }
   ],
   "source": [
    "df_train.shape, df_valid.shape, df_test.shape"
   ]
  },
  {
   "cell_type": "markdown",
   "metadata": {},
   "source": [
    "## 51. 特徴量抽出\n",
    "\n",
    "学習データ，検証データ，評価データから特徴量を抽出し，それぞれtrain.feature.txt，valid.feature.txt，test.feature.txtというファイル名で保存せよ． なお，カテゴリ分類に有用そうな特徴量は各自で自由に設計せよ．記事の見出しを単語列に変換したものが最低限のベースラインとなるであろう．"
   ]
  },
  {
   "cell_type": "code",
   "execution_count": 3,
   "metadata": {},
   "outputs": [],
   "source": [
    "import spacy\n",
    "nlp = spacy.load(\"en_core_web_sm\")\n",
    "\n",
    "# https://universaldependencies.org/docs/u/pos/\n",
    "open_class_words = [\"ADJ\", \"ADV\", \"INTJ\", \"NOUN\", \"PROPN\", \"VERB\"]\n",
    "\n",
    "label2int = {\n",
    "    \"b\": 0,\n",
    "    \"t\": 1,\n",
    "    \"e\": 2,\n",
    "    \"m\": 3\n",
    "}\n",
    "int2label = {i:label for label, i in label2int.items()}"
   ]
  },
  {
   "cell_type": "code",
   "execution_count": 4,
   "metadata": {},
   "outputs": [],
   "source": [
    "# 入力された Title の DataSeries から Vocabulary を作成\n",
    "def makeVocab(dataseries, threshold=10):\n",
    "    vocab2int, int2vocab = {}, {}\n",
    "    vocab_count = {}\n",
    "    \n",
    "    for token in [token for title in dataseries for token in nlp(title.lower())]:\n",
    "        if token.pos_ in open_class_words:\n",
    "            if token.lemma_ not in vocab_count.keys():\n",
    "                vocab_count[token.lemma_] = 1\n",
    "            else:\n",
    "                vocab_count[token.lemma_] += 1\n",
    "\n",
    "    index = 0    \n",
    "    for word, count in vocab_count.items():\n",
    "        if count > threshold:\n",
    "            vocab2int[word] = index\n",
    "            int2vocab[index] = word\n",
    "            index += 1\n",
    "\n",
    "    return vocab2int, int2vocab"
   ]
  },
  {
   "cell_type": "code",
   "execution_count": 5,
   "metadata": {},
   "outputs": [],
   "source": [
    "# Bag-of-Words を作る\n",
    "def makeBOW(dataseries, vocab2int):\n",
    "    bow = []\n",
    "    \n",
    "    for title in dataseries:\n",
    "        current_bag = [0] * (len(vocab2int) + 1)\n",
    "\n",
    "        for token in nlp(title.lower()):\n",
    "            if token.pos_ in open_class_words:\n",
    "                if token.lemma_ in vocab2int.keys():\n",
    "                    current_bag[vocab2int[token.lemma_]] += 1\n",
    "                else:\n",
    "                    current_bag[-1] += 1\n",
    "\n",
    "        bow.append(current_bag)\n",
    "    \n",
    "    return bow"
   ]
  },
  {
   "cell_type": "code",
   "execution_count": 6,
   "metadata": {},
   "outputs": [],
   "source": [
    "datasets, labels = {}, {}\n",
    "\n",
    "for each in ['train', 'valid', 'test']:    \n",
    "    if each == 'train':\n",
    "        vocab2int, int2vocab = makeVocab(df_train[\"TITLE\"], 15)\n",
    "        df = df_train\n",
    "    elif each == 'valid':\n",
    "        df = df_valid\n",
    "    elif each == 'test':\n",
    "        df = df_test\n",
    "        \n",
    "    one_hot_publisher = pd.get_dummies(df['PUBLISHER'])\n",
    "    \n",
    "    bow_list = makeBOW(df[\"TITLE\"], vocab2int)\n",
    "    bow_df = pd.DataFrame(bow_list, columns=list(vocab2int.keys())+['UNK'])\n",
    "\n",
    "    datasets[each] = bow_df.join(one_hot_publisher)\n",
    "    datasets[each].to_csv(each + \".feature.txt\", index=False, sep=\"\\t\", encoding=\"utf-8\")\n",
    "    \n",
    "    intlabel = []\n",
    "    for label in df[\"CATEGORY\"]:\n",
    "        # (b = business, t = science and technology, e = entertainment, m = health)\n",
    "        intlabel.append(label2int[label])\n",
    "        \n",
    "    labels[each] = pd.Series(intlabel)\n",
    "\n",
    "features = datasets[\"train\"].columns.tolist()"
   ]
  },
  {
   "cell_type": "markdown",
   "metadata": {},
   "source": [
    "## 52. 学習\n",
    "\n",
    "51で構築した学習データを用いて，ロジスティック回帰モデルを学習せよ．"
   ]
  },
  {
   "cell_type": "code",
   "execution_count": 7,
   "metadata": {},
   "outputs": [
    {
     "name": "stderr",
     "output_type": "stream",
     "text": [
      "[Parallel(n_jobs=-1)]: Using backend LokyBackend with 8 concurrent workers.\n",
      "[Parallel(n_jobs=-1)]: Done   1 out of   1 | elapsed:    6.5s finished\n"
     ]
    },
    {
     "data": {
      "text/plain": [
       "LogisticRegression(max_iter=5000, n_jobs=-1, verbose=1)"
      ]
     },
     "execution_count": 7,
     "metadata": {},
     "output_type": "execute_result"
    }
   ],
   "source": [
    "from sklearn.linear_model import LogisticRegression\n",
    "\n",
    "clf = LogisticRegression(solver=\"lbfgs\", max_iter=5000, verbose=1, n_jobs=-1)\n",
    "clf.fit(datasets[\"train\"], labels[\"train\"])"
   ]
  },
  {
   "cell_type": "markdown",
   "metadata": {},
   "source": [
    "## 53. 予測\n",
    "\n",
    "52で学習したロジスティック回帰モデルを用い，与えられた記事見出しからカテゴリとその予測確率を計算するプログラムを実装せよ．"
   ]
  },
  {
   "cell_type": "code",
   "execution_count": 8,
   "metadata": {},
   "outputs": [
    {
     "name": "stdout",
     "output_type": "stream",
     "text": [
      "No.1 title seems to be \"e\" article (78.644%).\n",
      "No.2 title seems to be \"t\" article (86.641%).\n",
      "No.3 title seems to be \"b\" article (84.197%).\n",
      "No.4 title seems to be \"e\" article (33.191%).\n"
     ]
    }
   ],
   "source": [
    "text_title_e = \"New South Park season will come soon!\"\n",
    "text_title_t = \"Next iPhone might have USB-C\"\n",
    "text_title_b = \"Boeing 777 operation stops due to engine problem\"\n",
    "text_title_m = \"New vaccine for covid 19 have developed\"\n",
    "\n",
    "publishers = [\"Businessweek\", \"Contactmusic.com\", \"Daily Mail\", \"Huffington Post\", \"Reuters\"]\n",
    "onehot_publisher_bw = [1,0,0,0,0] # Businessweek\n",
    "onehot_publisher_cm = [0,1,0,0,0] # Contactmusic.com\n",
    "onehot_publisher_dm = [0,0,1,0,0] # Daily Mail\n",
    "onehot_publisher_hp = [0,0,0,1,0] # Huffington Post\n",
    "onehot_publisher_rt = [0,0,0,0,1] # Reuters\n",
    "\n",
    "given_inputs = [\n",
    "    [text_title_e] + onehot_publisher_dm, \n",
    "    [text_title_t] + onehot_publisher_bw,\n",
    "    [text_title_b] + onehot_publisher_rt,\n",
    "    [text_title_m] + onehot_publisher_hp\n",
    "]\n",
    "\n",
    "given_dfs = pd.DataFrame([])\n",
    "for label, given_input in zip([\"e\", \"t\", \"b\", \"m\"], given_inputs):\n",
    "    bow_list = makeBOW([given_input[0]], vocab2int)\n",
    "    converted_given = [bow_list[0] + given_input[1:]]\n",
    "    given_df = pd.DataFrame(\n",
    "        converted_given, \n",
    "        columns=list(vocab2int.keys())+['UNK']+publishers,\n",
    "        index=[label]\n",
    "    )\n",
    "\n",
    "    given_dfs = given_dfs.append(given_df)\n",
    "\n",
    "for (i, pred), prob in zip(enumerate(clf.predict(given_dfs)), clf.predict_proba(given_dfs)):\n",
    "    print(\"No.{:} title seems to be \\\"{:}\\\" article ({:.3f}%).\".format(i+1, int2label[pred], prob[pred]*100))"
   ]
  },
  {
   "cell_type": "markdown",
   "metadata": {},
   "source": [
    "## 54. 正解率の計測\n",
    "\n",
    "52で学習したロジスティック回帰モデルの正解率を，学習データおよび評価データ上で計測せよ．\n"
   ]
  },
  {
   "cell_type": "code",
   "execution_count": 9,
   "metadata": {},
   "outputs": [
    {
     "name": "stdout",
     "output_type": "stream",
     "text": [
      "Accuracy on training data is 0.930\n",
      "Accuracy on testing data is 0.894\n"
     ]
    }
   ],
   "source": [
    "train_correct_num, test_correct_num = 0, 0\n",
    "\n",
    "train_pred = clf.predict(datasets[\"train\"])\n",
    "for pred, true in zip(train_pred, labels[\"train\"]):\n",
    "    if pred == true:\n",
    "        train_correct_num += 1\n",
    "print(\"Accuracy on training data is {:.3f}\".format(train_correct_num/len(datasets[\"train\"])))\n",
    "\n",
    "test_pred = clf.predict(datasets[\"test\"])\n",
    "for pred, true in zip(test_pred, labels[\"test\"]):\n",
    "    if pred == true:\n",
    "        test_correct_num += 1\n",
    "print(\"Accuracy on testing data is {:.3f}\".format(test_correct_num/len(datasets[\"test\"])))"
   ]
  },
  {
   "cell_type": "markdown",
   "metadata": {},
   "source": [
    "## 55. 混同行列の作成\n",
    "\n",
    "52で学習したロジスティック回帰モデルの混同行列（confusion matrix）を，学習データおよび評価データ上で作成せよ．"
   ]
  },
  {
   "cell_type": "code",
   "execution_count": 10,
   "metadata": {},
   "outputs": [
    {
     "name": "stdout",
     "output_type": "stream",
     "text": [
      "Confusion matrix on training data:\n",
      "[[4339   79   89   16]\n",
      " [ 186  895  114   16]\n",
      " [  72   18 4105    5]\n",
      " [  60   16   76  586]]\n",
      "\n",
      "Confusion matrix on testing data:\n",
      "[[531  20  15   2]\n",
      " [ 36  92  15   6]\n",
      " [ 13   4 518   4]\n",
      " [ 12   3  12  51]]\n"
     ]
    }
   ],
   "source": [
    "from sklearn.metrics import confusion_matrix\n",
    "\n",
    "train_confusion_matrix = confusion_matrix(labels[\"train\"].to_list(), train_pred.tolist(), labels=list(int2label.keys()))\n",
    "test_confusion_matrix = confusion_matrix(labels[\"test\"].to_list(), test_pred.tolist(), labels=list(int2label.keys()))\n",
    "\n",
    "print(\"Confusion matrix on training data:\")\n",
    "print(train_confusion_matrix)\n",
    "\n",
    "print()\n",
    "\n",
    "print(\"Confusion matrix on testing data:\")\n",
    "print(test_confusion_matrix)"
   ]
  },
  {
   "cell_type": "markdown",
   "metadata": {},
   "source": [
    "## 56. 適合率，再現率，F1スコアの計測\n",
    "\n",
    "52で学習したロジスティック回帰モデルの適合率，再現率，F1スコアを，評価データ上で計測せよ．カテゴリごとに適合率，再現率，F1スコアを求め，カテゴリごとの性能をマイクロ平均（micro-average）とマクロ平均（macro-average）で統合せよ．"
   ]
  },
  {
   "cell_type": "code",
   "execution_count": 11,
   "metadata": {},
   "outputs": [
    {
     "name": "stdout",
     "output_type": "stream",
     "text": [
      "Category: business\n",
      "\tPrecision: 0.897\n",
      "\tRecall: 0.935\n",
      "\tF1-Score: 0.916\n",
      "================================================\n",
      "Category: science and technology\n",
      "\tPrecision: 0.773\n",
      "\tRecall: 0.617\n",
      "\tF1-Score: 0.687\n",
      "================================================\n",
      "Category: entertainment\n",
      "\tPrecision: 0.925\n",
      "\tRecall: 0.961\n",
      "\tF1-Score: 0.943\n",
      "================================================\n",
      "Category: health\n",
      "\tPrecision: 0.810\n",
      "\tRecall: 0.654\n",
      "\tF1-Score: 0.723\n",
      "================================================\n",
      "Average_micro: 0.894\n",
      "================================================\n",
      "Precision_macro: 0.851\n",
      "Recall_macro: 0.792\n",
      "F1-Score_macro: 0.817\n"
     ]
    }
   ],
   "source": [
    "label2category = {\n",
    "    \"b\": \"business\",\n",
    "    \"t\": \"science and technology\",\n",
    "    \"e\": \"entertainment\",\n",
    "    \"m\": \"health\"\n",
    "}\n",
    "\n",
    "precisions, recalls, f1s = [], [], []\n",
    "\n",
    "for i, label in int2label.items():\n",
    "    precision = test_confusion_matrix[i,i] / np.sum(test_confusion_matrix[:,i])\n",
    "    recall = test_confusion_matrix[i,i] / np.sum(test_confusion_matrix[i,:])\n",
    "    f1 = 2 * precision * recall / (precision + recall)\n",
    "    \n",
    "    precisions.append(precision)\n",
    "    recalls.append(recall)\n",
    "    f1s.append(f1)\n",
    "    \n",
    "    print(\"Category: {:}\".format(label2category[label]))\n",
    "    print(\"\\tPrecision: {:.3f}\".format(precision))\n",
    "    print(\"\\tRecall: {:.3f}\".format(recall))\n",
    "    print(\"\\tF1-Score: {:.3f}\".format(f1))\n",
    "    print(\"=\"*48)\n",
    "\n",
    "tp = np.sum([test_confusion_matrix[i,i] for i in range(len(test_confusion_matrix))])\n",
    "not_tp = np.sum([test_confusion_matrix[i,j] for i in range(len(test_confusion_matrix)) \n",
    "                                            for j in range(len(test_confusion_matrix)) \n",
    "                                            if i != j])\n",
    "print(\"Average_micro: {:.3f}\".format(tp/(tp+not_tp)))\n",
    "\n",
    "print(\"=\"*48)\n",
    "\n",
    "precision_macro = np.average(precisions)\n",
    "recall_macro = np.average(recalls)\n",
    "f1_macro = np.average(f1s)\n",
    "\n",
    "print(\"Precision_macro: {:.3f}\".format(precision_macro))\n",
    "print(\"Recall_macro: {:.3f}\".format(recall_macro))\n",
    "print(\"F1-Score_macro: {:.3f}\".format(f1_macro))"
   ]
  },
  {
   "cell_type": "markdown",
   "metadata": {},
   "source": [
    "## 57. 特徴量の重みの確認\n",
    "\n",
    "52で学習したロジスティック回帰モデルの中で，重みの高い特徴量トップ10と，重みの低い特徴量トップ10を確認せよ．"
   ]
  },
  {
   "cell_type": "code",
   "execution_count": 12,
   "metadata": {},
   "outputs": [
    {
     "name": "stdout",
     "output_type": "stream",
     "text": [
      "Category: business\n",
      "\tTop-10 important features:\n",
      "\t\tbank (2.138)\n",
      "\t\tfed (1.851)\n",
      "\t\tairline (1.698)\n",
      "\t\tobamacare (1.682)\n",
      "\t\tbuy (1.631)\n",
      "\t\tmcdonald (1.627)\n",
      "\t\tloan (1.604)\n",
      "\t\tbell (1.594)\n",
      "\t\tfitch (1.577)\n",
      "\t\tukraine (1.535)\n",
      "\tTop-10 un-important features:\n",
      "\t\tContactmusic.com (-1.817)\n",
      "\t\tvictim (-1.617)\n",
      "\t\taereo (-1.614)\n",
      "\t\tebola (-1.415)\n",
      "\t\tfestival (-1.356)\n",
      "\t\treview (-1.312)\n",
      "\t\ttv (-1.221)\n",
      "\t\tcell (-1.168)\n",
      "\t\tapproval (-1.156)\n",
      "\t\tkill (-1.149)\n",
      "Category: science and technology\n",
      "\tTop-10 important features:\n",
      "\t\tclimate (2.786)\n",
      "\t\tfacebook (2.770)\n",
      "\t\tmicrosoft (2.752)\n",
      "\t\tgoogle (2.695)\n",
      "\t\tnasa (2.610)\n",
      "\t\tapple (2.309)\n",
      "\t\theartbleed (2.151)\n",
      "\t\tfcc (2.014)\n",
      "\t\ttesla (1.991)\n",
      "\t\tmoon (1.966)\n",
      "\tTop-10 un-important features:\n",
      "\t\tman (-1.264)\n",
      "\t\tpercent (-1.246)\n",
      "\t\tdrug (-1.206)\n",
      "\t\tsurge (-1.062)\n",
      "\t\tcancer (-1.032)\n",
      "\t\toffice (-0.988)\n",
      "\t\tyoung (-0.982)\n",
      "\t\texpectation (-0.981)\n",
      "\t\tjump (-0.978)\n",
      "\t\trecord (-0.968)\n",
      "Category: entertainment\n",
      "\tTop-10 important features:\n",
      "\t\tContactmusic.com (2.414)\n",
      "\t\tfilm (2.056)\n",
      "\t\tchris (1.873)\n",
      "\t\ttrailer (1.836)\n",
      "\t\tmovie (1.780)\n",
      "\t\tkardashian (1.666)\n",
      "\t\tfestival (1.623)\n",
      "\t\tactor (1.592)\n",
      "\t\tmusic (1.568)\n",
      "\t\teaster (1.563)\n",
      "\tTop-10 un-important features:\n",
      "\t\tscientist (-1.906)\n",
      "\t\tgoogle (-1.562)\n",
      "\t\tnasa (-1.400)\n",
      "\t\tBusinessweek (-1.397)\n",
      "\t\trecall (-1.380)\n",
      "\t\tbuy (-1.361)\n",
      "\t\trisk (-1.303)\n",
      "\t\tchina (-1.296)\n",
      "\t\tprotect (-1.270)\n",
      "\t\tbrain (-1.266)\n",
      "Category: health\n",
      "\tTop-10 important features:\n",
      "\t\tebola (3.204)\n",
      "\t\tfda (2.427)\n",
      "\t\tcdc (2.195)\n",
      "\t\tstudy (2.085)\n",
      "\t\tcancer (2.079)\n",
      "\t\tmer (2.054)\n",
      "\t\tbrain (2.029)\n",
      "\t\tdrug (1.838)\n",
      "\t\tapproval (1.831)\n",
      "\t\tcigarette (1.817)\n",
      "\tTop-10 un-important features:\n",
      "\t\tdeal (-1.179)\n",
      "\t\tclimate (-1.095)\n",
      "\t\tterm (-1.072)\n",
      "\t\tbook (-1.005)\n",
      "\t\tbegin (-0.958)\n",
      "\t\tsue (-0.933)\n",
      "\t\tmiss (-0.931)\n",
      "\t\tgame (-0.927)\n",
      "\t\tplay (-0.920)\n",
      "\t\tgm (-0.908)\n"
     ]
    }
   ],
   "source": [
    "for labelint, coef in zip(clf.classes_, clf.coef_):\n",
    "    category = label2category[int2label[labelint]]\n",
    "    top10, bottom10 = np.argsort(-coef)[:10], np.argsort(coef)[:10]\n",
    "    \n",
    "    print(\"Category: {:}\".format(category))\n",
    "\n",
    "    print(\"\\tTop-10 important features:\")\n",
    "    for index in top10:\n",
    "        print(\"\\t\\t{:} ({:.3f})\".format(features[index], coef[index]))\n",
    "        \n",
    "    print(\"\\tTop-10 un-important features:\")\n",
    "    for index in bottom10:\n",
    "        print(\"\\t\\t{:} ({:.3f})\".format(features[index], coef[index]))\n",
    "    "
   ]
  },
  {
   "cell_type": "markdown",
   "metadata": {},
   "source": [
    "## 58. 正則化パラメータの変更\n",
    "\n",
    "ロジスティック回帰モデルを学習するとき，正則化パラメータを調整することで，学習時の過学習（overfitting）の度合いを制御できる．異なる正則化パラメータでロジスティック回帰モデルを学習し，学習データ，検証データ，および評価データ上の正解率を求めよ．実験の結果は，正則化パラメータを横軸，正解率を縦軸としたグラフにまとめよ．"
   ]
  },
  {
   "cell_type": "code",
   "execution_count": 13,
   "metadata": {},
   "outputs": [
    {
     "data": {
      "image/png": "[encoded data removed]",
      "text/plain": [
       "<Figure size 432x288 with 1 Axes>"
      ]
     },
     "metadata": {},
     "output_type": "display_data"
    }
   ],
   "source": [
    "%matplotlib inline\n",
    "\n",
    "import matplotlib.pyplot as plt\n",
    "import seaborn as sns\n",
    "from sklearn.metrics import accuracy_score\n",
    "\n",
    "sns.set()\n",
    "\n",
    "Cs = list(map(round, [i*.2 for i in range(1, 11)], [1]*10))\n",
    "accs_train, accs_valid, accs_test = [], [], []\n",
    "\n",
    "for c in Cs:\n",
    "    clf = LogisticRegression(solver=\"lbfgs\", C=c, max_iter=5000, verbose=0, n_jobs=-1)\n",
    "    clf.fit(datasets[\"train\"], labels[\"train\"])\n",
    "\n",
    "    accs_train.append(accuracy_score(labels[\"train\"], clf.predict(datasets[\"train\"])))\n",
    "    accs_valid.append(accuracy_score(labels[\"valid\"], clf.predict(datasets[\"valid\"])))\n",
    "    accs_test.append(accuracy_score(labels[\"test\"], clf.predict(datasets[\"test\"])))\n",
    "\n",
    "accs_train_df = pd.DataFrame({\n",
    "    \"C\": Cs,\n",
    "    \"Accuracy\": accs_train,\n",
    "    \"Legend\": \"Train\"})\n",
    "\n",
    "accs_valid_df = pd.DataFrame({\n",
    "    \"C\": Cs,\n",
    "    \"Accuracy\": accs_valid,\n",
    "    \"Legend\": \"Valid\"})\n",
    "\n",
    "accs_test_df = pd.DataFrame({\n",
    "    \"C\": Cs,\n",
    "    \"Accuracy\": accs_test,\n",
    "    \"Legend\": \"Test\"})\n",
    "\n",
    "data = pd.concat([accs_train_df, accs_valid_df, accs_test_df])\n",
    "\n",
    "ax = sns.pointplot(x=\"C\", y=\"Accuracy\", data=data, hue=\"Legend\")\n",
    "ax.set(xlabel=\"C\", ylabel=\"Accuracy\")\n",
    "plt.show()"
   ]
  },
  {
   "cell_type": "markdown",
   "metadata": {},
   "source": [
    "## 59. ハイパーパラメータの探索\n",
    "\n",
    "学習アルゴリズムや学習パラメータを変えながら，カテゴリ分類モデルを学習せよ．検証データ上の正解率が最も高くなる学習アルゴリズム・パラメータを求めよ．また，その学習アルゴリズム・パラメータを用いたときの評価データ上の正解率を求めよ．"
   ]
  },
  {
   "cell_type": "code",
   "execution_count": 14,
   "metadata": {},
   "outputs": [
    {
     "name": "stderr",
     "output_type": "stream",
     "text": [
      "100%|██████████| 7/7 [04:45<00:00, 40.77s/it]\n"
     ]
    },
    {
     "data": {
      "text/plain": [
       "[('LogisticRegression(max_iter=1000)', 0.8740629685157422),\n",
       " ('MLPClassifier(max_iter=1000)', 0.8478260869565218),\n",
       " ('SVC()', 0.8403298350824587),\n",
       " ('RandomForestClassifier(n_estimators=1000)', 0.8388305847076462),\n",
       " ('DecisionTreeClassifier()', 0.8013493253373315),\n",
       " ('KNeighborsClassifier()', 0.7406296851574213),\n",
       " ('GaussianNB()', 0.6454272863568216)]"
      ]
     },
     "execution_count": 14,
     "metadata": {},
     "output_type": "execute_result"
    }
   ],
   "source": [
    "from sklearn.svm import SVC\n",
    "from sklearn.neighbors import KNeighborsClassifier\n",
    "from sklearn.naive_bayes import GaussianNB\n",
    "from sklearn.tree import DecisionTreeClassifier\n",
    "from sklearn.ensemble import RandomForestClassifier\n",
    "from sklearn.neural_network import MLPClassifier\n",
    "from sklearn.metrics import f1_score\n",
    "from tqdm import tqdm\n",
    "\n",
    "lr = LogisticRegression(max_iter=1000)\n",
    "svm = SVC()\n",
    "kn = KNeighborsClassifier()\n",
    "nb = GaussianNB()\n",
    "dt = DecisionTreeClassifier()\n",
    "rf = RandomForestClassifier(n_estimators=1000)\n",
    "mlp = MLPClassifier(max_iter=1000)\n",
    "\n",
    "classifiers = [lr, svm, kn, nb, dt, rf, mlp]\n",
    "f1s = {}\n",
    "\n",
    "for classifier in tqdm(classifiers):\n",
    "    classifier.fit(datasets['train'], labels['train'])\n",
    "    prediction = classifier.predict(datasets['valid'])\n",
    "    \n",
    "    f1s[str(classifier)] = f1_score(labels['valid'], prediction, average='micro')\n",
    "\n",
    "sorted(f1s.items(), key=lambda x:-x[1])"
   ]
  },
  {
   "cell_type": "code",
   "execution_count": 15,
   "metadata": {},
   "outputs": [
    {
     "name": "stderr",
     "output_type": "stream",
     "text": [
      "\u001b[32m[I 2021-03-30 14:43:44,265]\u001b[0m A new study created in memory with name: no-name-1b856d8f-be33-4d48-bc3a-e66ed10851b9\u001b[0m\n",
      "\u001b[32m[I 2021-03-30 14:43:49,487]\u001b[0m Trial 0 finished with value: 0.8718140929535231 and parameters: {'C': 1.2166093968392346, 'solver': 'newton-cg'}. Best is trial 0 with value: 0.8718140929535231.\u001b[0m\n",
      "/usr/local/anaconda3/envs/nlp/lib/python3.8/site-packages/sklearn/linear_model/_sag.py:329: ConvergenceWarning: The max_iter was reached which means the coef_ did not converge\n",
      "  warnings.warn(\"The max_iter was reached which means \"\n",
      "\u001b[32m[I 2021-03-30 14:44:08,698]\u001b[0m Trial 1 finished with value: 0.8545727136431784 and parameters: {'C': 3.969560441672061, 'solver': 'sag'}. Best is trial 0 with value: 0.8718140929535231.\u001b[0m\n",
      "/usr/local/anaconda3/envs/nlp/lib/python3.8/site-packages/sklearn/linear_model/_sag.py:329: ConvergenceWarning: The max_iter was reached which means the coef_ did not converge\n",
      "  warnings.warn(\"The max_iter was reached which means \"\n",
      "\u001b[32m[I 2021-03-30 14:44:27,699]\u001b[0m Trial 2 finished with value: 0.8545727136431784 and parameters: {'C': 9.217049499352116, 'solver': 'sag'}. Best is trial 0 with value: 0.8718140929535231.\u001b[0m\n",
      "/usr/local/anaconda3/envs/nlp/lib/python3.8/site-packages/sklearn/linear_model/_sag.py:329: ConvergenceWarning: The max_iter was reached which means the coef_ did not converge\n",
      "  warnings.warn(\"The max_iter was reached which means \"\n",
      "\u001b[32m[I 2021-03-30 14:44:46,562]\u001b[0m Trial 3 finished with value: 0.8523238380809596 and parameters: {'C': 0.8544099283963681, 'solver': 'sag'}. Best is trial 0 with value: 0.8718140929535231.\u001b[0m\n",
      "\u001b[32m[I 2021-03-30 14:44:49,700]\u001b[0m Trial 4 finished with value: 0.8703148425787106 and parameters: {'C': 2.573816211836239, 'solver': 'lbfgs'}. Best is trial 0 with value: 0.8718140929535231.\u001b[0m\n",
      "/usr/local/anaconda3/envs/nlp/lib/python3.8/site-packages/sklearn/linear_model/_sag.py:329: ConvergenceWarning: The max_iter was reached which means the coef_ did not converge\n",
      "  warnings.warn(\"The max_iter was reached which means \"\n",
      "\u001b[32m[I 2021-03-30 14:45:08,954]\u001b[0m Trial 5 finished with value: 0.8545727136431784 and parameters: {'C': 5.566240347868091, 'solver': 'sag'}. Best is trial 0 with value: 0.8718140929535231.\u001b[0m\n",
      "\u001b[32m[I 2021-03-30 14:45:16,252]\u001b[0m Trial 6 finished with value: 0.8620689655172413 and parameters: {'C': 8.78849447984516, 'solver': 'newton-cg'}. Best is trial 0 with value: 0.8718140929535231.\u001b[0m\n",
      "/usr/local/anaconda3/envs/nlp/lib/python3.8/site-packages/sklearn/linear_model/_sag.py:329: ConvergenceWarning: The max_iter was reached which means the coef_ did not converge\n",
      "  warnings.warn(\"The max_iter was reached which means \"\n",
      "\u001b[32m[I 2021-03-30 14:45:35,094]\u001b[0m Trial 7 finished with value: 0.8530734632683659 and parameters: {'C': 1.4521343723013285, 'solver': 'sag'}. Best is trial 0 with value: 0.8718140929535231.\u001b[0m\n",
      "/usr/local/anaconda3/envs/nlp/lib/python3.8/site-packages/sklearn/linear_model/_sag.py:329: ConvergenceWarning: The max_iter was reached which means the coef_ did not converge\n",
      "  warnings.warn(\"The max_iter was reached which means \"\n",
      "\u001b[32m[I 2021-03-30 14:45:53,923]\u001b[0m Trial 8 finished with value: 0.8530734632683659 and parameters: {'C': 1.1481305949966794, 'solver': 'sag'}. Best is trial 0 with value: 0.8718140929535231.\u001b[0m\n",
      "\u001b[32m[I 2021-03-30 14:45:56,883]\u001b[0m Trial 9 finished with value: 0.8725637181409295 and parameters: {'C': 6.342468035646883, 'solver': 'lbfgs'}. Best is trial 9 with value: 0.8725637181409295.\u001b[0m\n",
      "\u001b[32m[I 2021-03-30 14:45:59,355]\u001b[0m Trial 10 finished with value: 0.8710644677661169 and parameters: {'C': 6.515614348340902, 'solver': 'lbfgs'}. Best is trial 9 with value: 0.8725637181409295.\u001b[0m\n",
      "\u001b[32m[I 2021-03-30 14:46:06,384]\u001b[0m Trial 11 finished with value: 0.8665667166416792 and parameters: {'C': 7.1181336964529605, 'solver': 'newton-cg'}. Best is trial 9 with value: 0.8725637181409295.\u001b[0m\n",
      "\u001b[32m[I 2021-03-30 14:46:11,655]\u001b[0m Trial 12 finished with value: 0.8718140929535231 and parameters: {'C': 4.020311791303845, 'solver': 'newton-cg'}. Best is trial 9 with value: 0.8725637181409295.\u001b[0m\n",
      "\u001b[32m[I 2021-03-30 14:46:13,741]\u001b[0m Trial 13 finished with value: 0.8703148425787106 and parameters: {'C': 7.7958491811231525, 'solver': 'lbfgs'}. Best is trial 9 with value: 0.8725637181409295.\u001b[0m\n",
      "\u001b[32m[I 2021-03-30 14:46:15,759]\u001b[0m Trial 14 finished with value: 0.8718140929535231 and parameters: {'C': 4.997859160392339, 'solver': 'lbfgs'}. Best is trial 9 with value: 0.8725637181409295.\u001b[0m\n",
      "\u001b[32m[I 2021-03-30 14:46:20,913]\u001b[0m Trial 15 finished with value: 0.8733133433283359 and parameters: {'C': 2.7910717860070466, 'solver': 'newton-cg'}. Best is trial 15 with value: 0.8733133433283359.\u001b[0m\n",
      "\u001b[32m[I 2021-03-30 14:46:26,465]\u001b[0m Trial 16 finished with value: 0.8733133433283359 and parameters: {'C': 2.8102806300273335, 'solver': 'newton-cg'}. Best is trial 15 with value: 0.8733133433283359.\u001b[0m\n",
      "\u001b[32m[I 2021-03-30 14:46:31,470]\u001b[0m Trial 17 finished with value: 0.8725637181409295 and parameters: {'C': 2.8791863625795475, 'solver': 'newton-cg'}. Best is trial 15 with value: 0.8733133433283359.\u001b[0m\n",
      "\u001b[32m[I 2021-03-30 14:46:36,449]\u001b[0m Trial 18 finished with value: 0.8740629685157422 and parameters: {'C': 2.6463018398124354, 'solver': 'newton-cg'}. Best is trial 18 with value: 0.8740629685157422.\u001b[0m\n",
      "\u001b[32m[I 2021-03-30 14:46:41,760]\u001b[0m Trial 19 finished with value: 0.8718140929535231 and parameters: {'C': 4.252451177194857, 'solver': 'newton-cg'}. Best is trial 18 with value: 0.8740629685157422.\u001b[0m\n",
      "\u001b[32m[I 2021-03-30 14:46:46,621]\u001b[0m Trial 20 finished with value: 0.8740629685157422 and parameters: {'C': 2.1413503923090857, 'solver': 'newton-cg'}. Best is trial 18 with value: 0.8740629685157422.\u001b[0m\n",
      "\u001b[32m[I 2021-03-30 14:46:52,065]\u001b[0m Trial 21 finished with value: 0.8755622188905547 and parameters: {'C': 2.33301810331873, 'solver': 'newton-cg'}. Best is trial 21 with value: 0.8755622188905547.\u001b[0m\n",
      "\u001b[32m[I 2021-03-30 14:46:56,765]\u001b[0m Trial 22 finished with value: 0.8733133433283359 and parameters: {'C': 1.9871230177612236, 'solver': 'newton-cg'}. Best is trial 21 with value: 0.8755622188905547.\u001b[0m\n",
      "\u001b[32m[I 2021-03-30 14:47:00,070]\u001b[0m Trial 23 finished with value: 0.8620689655172413 and parameters: {'C': 0.1942122474095438, 'solver': 'newton-cg'}. Best is trial 21 with value: 0.8755622188905547.\u001b[0m\n",
      "\u001b[32m[I 2021-03-30 14:47:03,471]\u001b[0m Trial 24 finished with value: 0.8703148425787106 and parameters: {'C': 0.350426030535683, 'solver': 'newton-cg'}. Best is trial 21 with value: 0.8755622188905547.\u001b[0m\n",
      "\u001b[32m[I 2021-03-30 14:47:08,919]\u001b[0m Trial 25 finished with value: 0.8725637181409295 and parameters: {'C': 3.554288023583319, 'solver': 'newton-cg'}. Best is trial 21 with value: 0.8755622188905547.\u001b[0m\n",
      "\u001b[32m[I 2021-03-30 14:47:13,913]\u001b[0m Trial 26 finished with value: 0.8733133433283359 and parameters: {'C': 1.9722286282758268, 'solver': 'newton-cg'}. Best is trial 21 with value: 0.8755622188905547.\u001b[0m\n",
      "\u001b[32m[I 2021-03-30 14:47:18,627]\u001b[0m Trial 27 finished with value: 0.8733133433283359 and parameters: {'C': 1.9800172841962245, 'solver': 'newton-cg'}. Best is trial 21 with value: 0.8755622188905547.\u001b[0m\n",
      "\u001b[32m[I 2021-03-30 14:47:24,338]\u001b[0m Trial 28 finished with value: 0.8695652173913043 and parameters: {'C': 4.986503635149001, 'solver': 'newton-cg'}. Best is trial 21 with value: 0.8755622188905547.\u001b[0m\n",
      "\u001b[32m[I 2021-03-30 14:47:29,930]\u001b[0m Trial 29 finished with value: 0.8725637181409295 and parameters: {'C': 3.3454726718882997, 'solver': 'newton-cg'}. Best is trial 21 with value: 0.8755622188905547.\u001b[0m\n",
      "\u001b[32m[I 2021-03-30 14:47:33,720]\u001b[0m Trial 30 finished with value: 0.8748125937031486 and parameters: {'C': 0.6142158885636633, 'solver': 'newton-cg'}. Best is trial 21 with value: 0.8755622188905547.\u001b[0m\n",
      "\u001b[32m[I 2021-03-30 14:47:37,613]\u001b[0m Trial 31 finished with value: 0.8748125937031486 and parameters: {'C': 0.6783394065717967, 'solver': 'newton-cg'}. Best is trial 21 with value: 0.8755622188905547.\u001b[0m\n",
      "\u001b[32m[I 2021-03-30 14:47:41,650]\u001b[0m Trial 32 finished with value: 0.8740629685157422 and parameters: {'C': 0.654636890226058, 'solver': 'newton-cg'}. Best is trial 21 with value: 0.8755622188905547.\u001b[0m\n",
      "\u001b[32m[I 2021-03-30 14:47:45,537]\u001b[0m Trial 33 finished with value: 0.8740629685157422 and parameters: {'C': 0.6444328343968491, 'solver': 'newton-cg'}. Best is trial 21 with value: 0.8755622188905547.\u001b[0m\n",
      "\u001b[32m[I 2021-03-30 14:47:50,257]\u001b[0m Trial 34 finished with value: 0.8718140929535231 and parameters: {'C': 1.3362225888234052, 'solver': 'newton-cg'}. Best is trial 21 with value: 0.8755622188905547.\u001b[0m\n",
      "\u001b[32m[I 2021-03-30 14:47:53,185]\u001b[0m Trial 35 finished with value: 0.8500749625187405 and parameters: {'C': 0.11488173723381379, 'solver': 'newton-cg'}. Best is trial 21 with value: 0.8755622188905547.\u001b[0m\n",
      "\u001b[32m[I 2021-03-30 14:47:57,217]\u001b[0m Trial 36 finished with value: 0.8748125937031486 and parameters: {'C': 0.768995005006073, 'solver': 'newton-cg'}. Best is trial 21 with value: 0.8755622188905547.\u001b[0m\n",
      "\u001b[32m[I 2021-03-30 14:48:01,767]\u001b[0m Trial 37 finished with value: 0.8718140929535231 and parameters: {'C': 1.4124533004073085, 'solver': 'newton-cg'}. Best is trial 21 with value: 0.8755622188905547.\u001b[0m\n",
      "/usr/local/anaconda3/envs/nlp/lib/python3.8/site-packages/sklearn/linear_model/_sag.py:329: ConvergenceWarning: The max_iter was reached which means the coef_ did not converge\n",
      "  warnings.warn(\"The max_iter was reached which means \"\n",
      "\u001b[32m[I 2021-03-30 14:48:20,636]\u001b[0m Trial 38 finished with value: 0.8523238380809596 and parameters: {'C': 0.901366241828006, 'solver': 'sag'}. Best is trial 21 with value: 0.8755622188905547.\u001b[0m\n",
      "\u001b[32m[I 2021-03-30 14:48:23,846]\u001b[0m Trial 39 finished with value: 0.8613193403298351 and parameters: {'C': 0.20437568778661042, 'solver': 'newton-cg'}. Best is trial 21 with value: 0.8755622188905547.\u001b[0m\n",
      "/usr/local/anaconda3/envs/nlp/lib/python3.8/site-packages/sklearn/linear_model/_sag.py:329: ConvergenceWarning: The max_iter was reached which means the coef_ did not converge\n",
      "  warnings.warn(\"The max_iter was reached which means \"\n",
      "\u001b[32m[I 2021-03-30 14:48:42,569]\u001b[0m Trial 40 finished with value: 0.8523238380809596 and parameters: {'C': 1.636785944000691, 'solver': 'sag'}. Best is trial 21 with value: 0.8755622188905547.\u001b[0m\n",
      "\u001b[32m[I 2021-03-30 14:48:48,434]\u001b[0m Trial 41 finished with value: 0.8755622188905547 and parameters: {'C': 2.2130294696182222, 'solver': 'newton-cg'}. Best is trial 21 with value: 0.8755622188905547.\u001b[0m\n",
      "\u001b[32m[I 2021-03-30 14:48:52,303]\u001b[0m Trial 42 finished with value: 0.8748125937031486 and parameters: {'C': 0.7217580803007707, 'solver': 'newton-cg'}. Best is trial 21 with value: 0.8755622188905547.\u001b[0m\n",
      "\u001b[32m[I 2021-03-30 14:48:56,538]\u001b[0m Trial 43 finished with value: 0.8733133433283359 and parameters: {'C': 1.0855214843562253, 'solver': 'newton-cg'}. Best is trial 21 with value: 0.8755622188905547.\u001b[0m\n",
      "\u001b[32m[I 2021-03-30 14:49:01,801]\u001b[0m Trial 44 finished with value: 0.8755622188905547 and parameters: {'C': 2.416811454660862, 'solver': 'newton-cg'}. Best is trial 21 with value: 0.8755622188905547.\u001b[0m\n",
      "\u001b[32m[I 2021-03-30 14:49:07,248]\u001b[0m Trial 45 finished with value: 0.8725637181409295 and parameters: {'C': 3.2502455086014796, 'solver': 'newton-cg'}. Best is trial 21 with value: 0.8755622188905547.\u001b[0m\n",
      "\u001b[32m[I 2021-03-30 14:49:09,349]\u001b[0m Trial 46 finished with value: 0.8703148425787106 and parameters: {'C': 4.46297551025059, 'solver': 'lbfgs'}. Best is trial 21 with value: 0.8755622188905547.\u001b[0m\n",
      "\u001b[32m[I 2021-03-30 14:49:14,595]\u001b[0m Trial 47 finished with value: 0.8755622188905547 and parameters: {'C': 2.271246496656795, 'solver': 'newton-cg'}. Best is trial 21 with value: 0.8755622188905547.\u001b[0m\n",
      "\u001b[32m[I 2021-03-30 14:49:19,636]\u001b[0m Trial 48 finished with value: 0.8755622188905547 and parameters: {'C': 2.2656431533758066, 'solver': 'newton-cg'}. Best is trial 21 with value: 0.8755622188905547.\u001b[0m\n",
      "/usr/local/anaconda3/envs/nlp/lib/python3.8/site-packages/sklearn/linear_model/_sag.py:329: ConvergenceWarning: The max_iter was reached which means the coef_ did not converge\n",
      "  warnings.warn(\"The max_iter was reached which means \"\n",
      "\u001b[32m[I 2021-03-30 14:49:38,687]\u001b[0m Trial 49 finished with value: 0.8530734632683659 and parameters: {'C': 2.278045689823632, 'solver': 'sag'}. Best is trial 21 with value: 0.8755622188905547.\u001b[0m\n",
      "\u001b[32m[I 2021-03-30 14:49:44,308]\u001b[0m Trial 50 finished with value: 0.8718140929535231 and parameters: {'C': 3.738544466925947, 'solver': 'newton-cg'}. Best is trial 21 with value: 0.8755622188905547.\u001b[0m\n",
      "\u001b[32m[I 2021-03-30 14:49:49,742]\u001b[0m Trial 51 finished with value: 0.8725637181409295 and parameters: {'C': 3.078839456902977, 'solver': 'newton-cg'}. Best is trial 21 with value: 0.8755622188905547.\u001b[0m\n",
      "\u001b[32m[I 2021-03-30 14:49:55,102]\u001b[0m Trial 52 finished with value: 0.876311844077961 and parameters: {'C': 2.462466886896988, 'solver': 'newton-cg'}. Best is trial 52 with value: 0.876311844077961.\u001b[0m\n",
      "\u001b[32m[I 2021-03-30 14:50:00,494]\u001b[0m Trial 53 finished with value: 0.8755622188905547 and parameters: {'C': 2.4000273795435416, 'solver': 'newton-cg'}. Best is trial 52 with value: 0.876311844077961.\u001b[0m\n",
      "\u001b[32m[I 2021-03-30 14:50:05,707]\u001b[0m Trial 54 finished with value: 0.8755622188905547 and parameters: {'C': 2.4840123485998413, 'solver': 'newton-cg'}. Best is trial 52 with value: 0.876311844077961.\u001b[0m\n",
      "\u001b[32m[I 2021-03-30 14:50:07,748]\u001b[0m Trial 55 finished with value: 0.876311844077961 and parameters: {'C': 1.6778219304725095, 'solver': 'lbfgs'}. Best is trial 52 with value: 0.876311844077961.\u001b[0m\n",
      "\u001b[32m[I 2021-03-30 14:50:09,867]\u001b[0m Trial 56 finished with value: 0.8710644677661169 and parameters: {'C': 2.8389203253892292, 'solver': 'lbfgs'}. Best is trial 52 with value: 0.876311844077961.\u001b[0m\n",
      "\u001b[32m[I 2021-03-30 14:50:11,908]\u001b[0m Trial 57 finished with value: 0.8718140929535231 and parameters: {'C': 1.7904002455213754, 'solver': 'lbfgs'}. Best is trial 52 with value: 0.876311844077961.\u001b[0m\n",
      "\u001b[32m[I 2021-03-30 14:50:14,015]\u001b[0m Trial 58 finished with value: 0.8703148425787106 and parameters: {'C': 9.777386830705066, 'solver': 'lbfgs'}. Best is trial 52 with value: 0.876311844077961.\u001b[0m\n",
      "\u001b[32m[I 2021-03-30 14:50:16,166]\u001b[0m Trial 59 finished with value: 0.8710644677661169 and parameters: {'C': 2.612259830266123, 'solver': 'lbfgs'}. Best is trial 52 with value: 0.876311844077961.\u001b[0m\n",
      "\u001b[32m[I 2021-03-30 14:50:18,231]\u001b[0m Trial 60 finished with value: 0.8710644677661169 and parameters: {'C': 4.538051716693309, 'solver': 'lbfgs'}. Best is trial 52 with value: 0.876311844077961.\u001b[0m\n",
      "\u001b[32m[I 2021-03-30 14:50:23,285]\u001b[0m Trial 61 finished with value: 0.8718140929535231 and parameters: {'C': 1.771686872593399, 'solver': 'newton-cg'}. Best is trial 52 with value: 0.876311844077961.\u001b[0m\n",
      "\u001b[32m[I 2021-03-30 14:50:28,162]\u001b[0m Trial 62 finished with value: 0.8755622188905547 and parameters: {'C': 2.4951019893251782, 'solver': 'newton-cg'}. Best is trial 52 with value: 0.876311844077961.\u001b[0m\n",
      "\u001b[32m[I 2021-03-30 14:50:33,744]\u001b[0m Trial 63 finished with value: 0.8718140929535231 and parameters: {'C': 3.116340784150906, 'solver': 'newton-cg'}. Best is trial 52 with value: 0.876311844077961.\u001b[0m\n",
      "\u001b[32m[I 2021-03-30 14:50:35,822]\u001b[0m Trial 64 finished with value: 0.8740629685157422 and parameters: {'C': 3.7325495141578293, 'solver': 'lbfgs'}. Best is trial 52 with value: 0.876311844077961.\u001b[0m\n",
      "\u001b[32m[I 2021-03-30 14:50:40,646]\u001b[0m Trial 65 finished with value: 0.8755622188905547 and parameters: {'C': 2.5091554081387915, 'solver': 'newton-cg'}. Best is trial 52 with value: 0.876311844077961.\u001b[0m\n",
      "\u001b[32m[I 2021-03-30 14:50:45,461]\u001b[0m Trial 66 finished with value: 0.8710644677661169 and parameters: {'C': 1.5650493327331838, 'solver': 'newton-cg'}. Best is trial 52 with value: 0.876311844077961.\u001b[0m\n",
      "\u001b[32m[I 2021-03-30 14:50:49,712]\u001b[0m Trial 67 finished with value: 0.8703148425787106 and parameters: {'C': 1.2306083052261974, 'solver': 'newton-cg'}. Best is trial 52 with value: 0.876311844077961.\u001b[0m\n",
      "\u001b[32m[I 2021-03-30 14:50:55,297]\u001b[0m Trial 68 finished with value: 0.8718140929535231 and parameters: {'C': 3.480027607242843, 'solver': 'newton-cg'}. Best is trial 52 with value: 0.876311844077961.\u001b[0m\n",
      "\u001b[32m[I 2021-03-30 14:51:00,727]\u001b[0m Trial 69 finished with value: 0.8718140929535231 and parameters: {'C': 4.019901509312433, 'solver': 'newton-cg'}. Best is trial 52 with value: 0.876311844077961.\u001b[0m\n",
      "\u001b[32m[I 2021-03-30 14:51:02,808]\u001b[0m Trial 70 finished with value: 0.8703148425787106 and parameters: {'C': 2.9507958674105943, 'solver': 'lbfgs'}. Best is trial 52 with value: 0.876311844077961.\u001b[0m\n",
      "\u001b[32m[I 2021-03-30 14:51:07,609]\u001b[0m Trial 71 finished with value: 0.876311844077961 and parameters: {'C': 2.460409166067574, 'solver': 'newton-cg'}. Best is trial 52 with value: 0.876311844077961.\u001b[0m\n",
      "\u001b[32m[I 2021-03-30 14:51:12,671]\u001b[0m Trial 72 finished with value: 0.8755622188905547 and parameters: {'C': 2.3129512008969573, 'solver': 'newton-cg'}. Best is trial 52 with value: 0.876311844077961.\u001b[0m\n",
      "\u001b[32m[I 2021-03-30 14:51:18,122]\u001b[0m Trial 73 finished with value: 0.8740629685157422 and parameters: {'C': 2.661914353151045, 'solver': 'newton-cg'}. Best is trial 52 with value: 0.876311844077961.\u001b[0m\n",
      "\u001b[32m[I 2021-03-30 14:51:23,109]\u001b[0m Trial 74 finished with value: 0.8740629685157422 and parameters: {'C': 2.0868518482866647, 'solver': 'newton-cg'}. Best is trial 52 with value: 0.876311844077961.\u001b[0m\n",
      "\u001b[32m[I 2021-03-30 14:51:28,274]\u001b[0m Trial 75 finished with value: 0.8725637181409295 and parameters: {'C': 1.8296157108313402, 'solver': 'newton-cg'}. Best is trial 52 with value: 0.876311844077961.\u001b[0m\n",
      "\u001b[32m[I 2021-03-30 14:51:33,018]\u001b[0m Trial 76 finished with value: 0.8718140929535231 and parameters: {'C': 1.4863735479443818, 'solver': 'newton-cg'}. Best is trial 52 with value: 0.876311844077961.\u001b[0m\n",
      "/usr/local/anaconda3/envs/nlp/lib/python3.8/site-packages/sklearn/linear_model/_sag.py:329: ConvergenceWarning: The max_iter was reached which means the coef_ did not converge\n",
      "  warnings.warn(\"The max_iter was reached which means \"\n",
      "\u001b[32m[I 2021-03-30 14:51:51,953]\u001b[0m Trial 77 finished with value: 0.8530734632683659 and parameters: {'C': 2.5018949847447245, 'solver': 'sag'}. Best is trial 52 with value: 0.876311844077961.\u001b[0m\n",
      "\u001b[32m[I 2021-03-30 14:51:56,443]\u001b[0m Trial 78 finished with value: 0.8725637181409295 and parameters: {'C': 2.034529872785534, 'solver': 'newton-cg'}. Best is trial 52 with value: 0.876311844077961.\u001b[0m\n",
      "\u001b[32m[I 2021-03-30 14:52:02,347]\u001b[0m Trial 79 finished with value: 0.868815592203898 and parameters: {'C': 5.641226376902332, 'solver': 'newton-cg'}. Best is trial 52 with value: 0.876311844077961.\u001b[0m\n",
      "\u001b[32m[I 2021-03-30 14:52:06,627]\u001b[0m Trial 80 finished with value: 0.8710644677661169 and parameters: {'C': 1.1567447367944823, 'solver': 'newton-cg'}. Best is trial 52 with value: 0.876311844077961.\u001b[0m\n",
      "\u001b[32m[I 2021-03-30 14:52:11,470]\u001b[0m Trial 81 finished with value: 0.8748125937031486 and parameters: {'C': 2.524119528099642, 'solver': 'newton-cg'}. Best is trial 52 with value: 0.876311844077961.\u001b[0m\n",
      "\u001b[32m[I 2021-03-30 14:52:16,796]\u001b[0m Trial 82 finished with value: 0.8740629685157422 and parameters: {'C': 2.130175546486174, 'solver': 'newton-cg'}. Best is trial 52 with value: 0.876311844077961.\u001b[0m\n",
      "\u001b[32m[I 2021-03-30 14:52:21,814]\u001b[0m Trial 83 finished with value: 0.8725637181409295 and parameters: {'C': 2.8809878398558864, 'solver': 'newton-cg'}. Best is trial 52 with value: 0.876311844077961.\u001b[0m\n",
      "\u001b[32m[I 2021-03-30 14:52:27,416]\u001b[0m Trial 84 finished with value: 0.8725637181409295 and parameters: {'C': 3.272882942742239, 'solver': 'newton-cg'}. Best is trial 52 with value: 0.876311844077961.\u001b[0m\n",
      "\u001b[32m[I 2021-03-30 14:52:32,503]\u001b[0m Trial 85 finished with value: 0.8755622188905547 and parameters: {'C': 2.272951718999106, 'solver': 'newton-cg'}. Best is trial 52 with value: 0.876311844077961.\u001b[0m\n",
      "\u001b[32m[I 2021-03-30 14:52:37,363]\u001b[0m Trial 86 finished with value: 0.8718140929535231 and parameters: {'C': 1.6902313551995756, 'solver': 'newton-cg'}. Best is trial 52 with value: 0.876311844077961.\u001b[0m\n",
      "\u001b[32m[I 2021-03-30 14:52:42,419]\u001b[0m Trial 87 finished with value: 0.8733133433283359 and parameters: {'C': 1.9570069668758479, 'solver': 'newton-cg'}. Best is trial 52 with value: 0.876311844077961.\u001b[0m\n",
      "\u001b[32m[I 2021-03-30 14:52:46,642]\u001b[0m Trial 88 finished with value: 0.8748125937031486 and parameters: {'C': 0.9765964409593813, 'solver': 'newton-cg'}. Best is trial 52 with value: 0.876311844077961.\u001b[0m\n",
      "\u001b[32m[I 2021-03-30 14:52:51,506]\u001b[0m Trial 89 finished with value: 0.8755622188905547 and parameters: {'C': 2.319687585599061, 'solver': 'newton-cg'}. Best is trial 52 with value: 0.876311844077961.\u001b[0m\n",
      "\u001b[32m[I 2021-03-30 14:52:56,507]\u001b[0m Trial 90 finished with value: 0.8733133433283359 and parameters: {'C': 2.790891606836482, 'solver': 'newton-cg'}. Best is trial 52 with value: 0.876311844077961.\u001b[0m\n",
      "\u001b[32m[I 2021-03-30 14:53:01,620]\u001b[0m Trial 91 finished with value: 0.8718140929535231 and parameters: {'C': 3.1037250292378236, 'solver': 'newton-cg'}. Best is trial 52 with value: 0.876311844077961.\u001b[0m\n",
      "\u001b[32m[I 2021-03-30 14:53:06,439]\u001b[0m Trial 92 finished with value: 0.8748125937031486 and parameters: {'C': 2.5206921626013856, 'solver': 'newton-cg'}. Best is trial 52 with value: 0.876311844077961.\u001b[0m\n",
      "\u001b[32m[I 2021-03-30 14:53:11,404]\u001b[0m Trial 93 finished with value: 0.8755622188905547 and parameters: {'C': 2.4133587527184557, 'solver': 'newton-cg'}. Best is trial 52 with value: 0.876311844077961.\u001b[0m\n",
      "\u001b[32m[I 2021-03-30 14:53:15,760]\u001b[0m Trial 94 finished with value: 0.8718140929535231 and parameters: {'C': 1.4174422570867875, 'solver': 'newton-cg'}. Best is trial 52 with value: 0.876311844077961.\u001b[0m\n",
      "\u001b[32m[I 2021-03-30 14:53:20,521]\u001b[0m Trial 95 finished with value: 0.8733133433283359 and parameters: {'C': 1.8650720633234645, 'solver': 'newton-cg'}. Best is trial 52 with value: 0.876311844077961.\u001b[0m\n",
      "\u001b[32m[I 2021-03-30 14:53:22,644]\u001b[0m Trial 96 finished with value: 0.8710644677661169 and parameters: {'C': 2.179225111516619, 'solver': 'lbfgs'}. Best is trial 52 with value: 0.876311844077961.\u001b[0m\n",
      "/usr/local/anaconda3/envs/nlp/lib/python3.8/site-packages/sklearn/linear_model/_sag.py:329: ConvergenceWarning: The max_iter was reached which means the coef_ did not converge\n",
      "  warnings.warn(\"The max_iter was reached which means \"\n",
      "\u001b[32m[I 2021-03-30 14:53:41,625]\u001b[0m Trial 97 finished with value: 0.8538230884557722 and parameters: {'C': 3.4731651016175857, 'solver': 'sag'}. Best is trial 52 with value: 0.876311844077961.\u001b[0m\n",
      "\u001b[32m[I 2021-03-30 14:53:47,706]\u001b[0m Trial 98 finished with value: 0.863568215892054 and parameters: {'C': 7.89853800877119, 'solver': 'newton-cg'}. Best is trial 52 with value: 0.876311844077961.\u001b[0m\n",
      "\u001b[32m[I 2021-03-30 14:53:52,570]\u001b[0m Trial 99 finished with value: 0.8755622188905547 and parameters: {'C': 2.2601232709258636, 'solver': 'newton-cg'}. Best is trial 52 with value: 0.876311844077961.\u001b[0m\n"
     ]
    },
    {
     "data": {
      "text/plain": [
       "FrozenTrial(number=52, values=[0.876311844077961], datetime_start=datetime.datetime(2021, 3, 30, 14, 49, 49, 743577), datetime_complete=datetime.datetime(2021, 3, 30, 14, 49, 55, 101938), params={'C': 2.462466886896988, 'solver': 'newton-cg'}, distributions={'C': UniformDistribution(high=10.0, low=0.1), 'solver': CategoricalDistribution(choices=('newton-cg', 'lbfgs', 'sag'))}, user_attrs={}, system_attrs={}, intermediate_values={}, trial_id=52, state=TrialState.COMPLETE, value=None)"
      ]
     },
     "execution_count": 15,
     "metadata": {},
     "output_type": "execute_result"
    }
   ],
   "source": [
    "import optuna\n",
    "\n",
    "def objective(trial):\n",
    "\n",
    "    params = {\n",
    "        'C': trial.suggest_float(\"C\", 0.1, 10),\n",
    "        'solver': trial.suggest_categorical('solver', ['newton-cg', 'lbfgs', 'sag'])\n",
    "    }\n",
    "    classifier_obj = LogisticRegression(**params, penalty='l2', n_jobs=-1)\n",
    "    \n",
    "    classifier_obj.fit(datasets['train'], labels['train'])\n",
    "    prediction = classifier_obj.predict(datasets['valid'])\n",
    "    score = f1_score(labels['valid'], prediction, average='micro')\n",
    "    \n",
    "    return score\n",
    "\n",
    "study = optuna.create_study(direction=\"maximize\")\n",
    "study.optimize(objective, n_trials=100)\n",
    "study.best_trial"
   ]
  },
  {
   "cell_type": "code",
   "execution_count": 16,
   "metadata": {},
   "outputs": [
    {
     "data": {
      "text/plain": [
       "0.8935532233883059"
      ]
     },
     "execution_count": 16,
     "metadata": {},
     "output_type": "execute_result"
    }
   ],
   "source": [
    "lr_best = LogisticRegression(**study.best_params, max_iter=1000, n_jobs=-1)\n",
    "lr_best.fit(\n",
    "    pd.concat([datasets['train'], datasets['valid']]),\n",
    "    pd.concat([labels['train'], labels['valid']])\n",
    ")\n",
    "prediction = lr_best.predict(datasets['test'])\n",
    "\n",
    "score = f1_score(labels['test'], prediction, average='micro')\n",
    "score"
   ]
  },
  {
   "cell_type": "code",
   "execution_count": null,
   "metadata": {},
   "outputs": [],
   "source": []
  }
 ],
 "metadata": {
  "kernelspec": {
   "display_name": "Python 3",
   "language": "python",
   "name": "python3"
  },
  "language_info": {
   "codemirror_mode": {
    "name": "ipython",
    "version": 3
   },
   "file_extension": ".py",
   "mimetype": "text/x-python",
   "name": "python",
   "nbconvert_exporter": "python",
   "pygments_lexer": "ipython3",
   "version": "3.8.5"
  }
 },
 "nbformat": 4,
 "nbformat_minor": 4
}
