{
 "cells": [
  {
   "cell_type": "markdown",
   "metadata": {},
   "source": [
    "# 第6章: 機械学習\n",
    "本章では，Fabio Gasparetti氏が公開しているNews Aggregator Data Setを用い，ニュース記事の見出しを「ビジネス」「科学技術」「エンターテイメント」「健康」のカテゴリに分類するタスク（カテゴリ分類）に取り組む．"
   ]
  },
  {
   "cell_type": "markdown",
   "metadata": {},
   "source": [
    "## 50. データの入手・整形\n",
    "\n",
    "News Aggregator Data Setをダウンロードし、以下の要領で学習データ（train.txt），検証データ（valid.txt），評価データ（test.txt）を作成せよ．\n",
    "\n",
    "1. ダウンロードしたzipファイルを解凍し，readme.txtの説明を読む．\n",
    "2. 情報源（publisher）が”Reuters”, “Huffington Post”, “Businessweek”, “Contactmusic.com”, “Daily Mail”の事例（記事）のみを抽出する．\n",
    "3. 抽出された事例をランダムに並び替える．\n",
    "4. 抽出された事例の80%を学習データ，残りの10%ずつを検証データと評価データに分割し，それぞれtrain.txt，valid.txt，test.txtというファイル名で保存する．ファイルには，１行に１事例を書き出すこととし，カテゴリ名と記事見出しのタブ区切り形式とせよ（このファイルは後に問題70で再利用する）．\n",
    "\n",
    "学習データと評価データを作成したら，各カテゴリの事例数を確認せよ．"
   ]
  },
  {
   "cell_type": "code",
   "execution_count": 1,
   "metadata": {},
   "outputs": [],
   "source": [
    "import numpy as np\n",
    "import pandas as pd\n",
    "from sklearn.model_selection import train_test_split\n",
    "\n",
    "news_corpora = \"NewsAggregatorDataset/newsCorpora.csv\"\n",
    "columns = [\"ID\", \"TITLE\", \"URL\", \"PUBLISHER\", \"CATEGORY\", \"STORY\", \"HOSTNAME\", \"TIMESTAMP\"]\n",
    "\n",
    "df = pd.read_csv(news_corpora, delimiter=\"\\t\", header=None, index_col=0, names=columns)\n",
    "\n",
    "target_publisher = [\"Reuters\", \"Huffington Post\", \"Businessweek\", \"Contactmusic.com\", \"Daily Mail\"]\n",
    "df = df[df[\"PUBLISHER\"].isin(target_publisher)]\n",
    "\n",
    "# https://stackoverflow.com/questions/15772009/shuffling-permutating-a-dataframe-in-pandas\n",
    "df = df.reindex(np.random.permutation(df.index))\n",
    "\n",
    "df_size = len(df)\n",
    "train_size, valid_test_size = int(df_size*0.8), int(df_size*0.1)\n",
    "assert df_size == train_size + valid_test_size * 2\n",
    "\n",
    "df_train = df.iloc[:train_size].reset_index(drop=True)\n",
    "df_valid = df.iloc[train_size:train_size+valid_test_size].reset_index(drop=True)\n",
    "df_test = df.iloc[train_size+valid_test_size:].reset_index(drop=True)\n",
    "\n",
    "df_train[[\"CATEGORY\", \"TITLE\"]].to_csv(\"train.txt\", index=False, sep=\"\\t\", encoding=\"utf-8\")\n",
    "df_valid[[\"CATEGORY\", \"TITLE\"]].to_csv(\"valid.txt\", index=False, sep=\"\\t\", encoding=\"utf-8\")\n",
    "df_test[[\"CATEGORY\", \"TITLE\"]].to_csv(\"test.txt\", index=False, sep=\"\\t\", encoding=\"utf-8\")"
   ]
  },
  {
   "cell_type": "code",
   "execution_count": 2,
   "metadata": {},
   "outputs": [
    {
     "data": {
      "text/plain": [
       "((10672, 7), (1334, 7), (1334, 7))"
      ]
     },
     "execution_count": 2,
     "metadata": {},
     "output_type": "execute_result"
    }
   ],
   "source": [
    "df_train.shape, df_valid.shape, df_test.shape"
   ]
  },
  {
   "cell_type": "markdown",
   "metadata": {},
   "source": [
    "## 51. 特徴量抽出\n",
    "\n",
    "学習データ，検証データ，評価データから特徴量を抽出し，それぞれtrain.feature.txt，valid.feature.txt，test.feature.txtというファイル名で保存せよ． なお，カテゴリ分類に有用そうな特徴量は各自で自由に設計せよ．記事の見出しを単語列に変換したものが最低限のベースラインとなるであろう．"
   ]
  },
  {
   "cell_type": "code",
   "execution_count": 3,
   "metadata": {},
   "outputs": [],
   "source": [
    "import spacy\n",
    "nlp = spacy.load(\"en_core_web_sm\")\n",
    "\n",
    "# https://universaldependencies.org/docs/u/pos/\n",
    "open_class_words = [\"ADJ\", \"ADV\", \"INTJ\", \"NOUN\", \"PROPN\", \"VERB\"]\n",
    "\n",
    "label2int = {\n",
    "    \"b\": 0,\n",
    "    \"t\": 1,\n",
    "    \"e\": 2,\n",
    "    \"m\": 3\n",
    "}\n",
    "int2label = {i:label for label, i in label2int.items()}"
   ]
  },
  {
   "cell_type": "code",
   "execution_count": 4,
   "metadata": {},
   "outputs": [],
   "source": [
    "# 入力された Title の DataSeries から Vocabulary を作成\n",
    "def makeVocab(dataseries, threshold=10):\n",
    "    vocab2int, int2vocab = {}, {}\n",
    "    vocab_count = {}\n",
    "    \n",
    "    for token in [token for title in dataseries for token in nlp(title.lower())]:\n",
    "        if token.pos_ in open_class_words:\n",
    "            if token.lemma_ not in vocab_count.keys():\n",
    "                vocab_count[token.lemma_] = 1\n",
    "            else:\n",
    "                vocab_count[token.lemma_] += 1\n",
    "\n",
    "    index = 0    \n",
    "    for word, count in vocab_count.items():\n",
    "        if count > threshold:\n",
    "            vocab2int[word] = index\n",
    "            int2vocab[index] = word\n",
    "            index += 1\n",
    "\n",
    "    return vocab2int, int2vocab"
   ]
  },
  {
   "cell_type": "code",
   "execution_count": 5,
   "metadata": {},
   "outputs": [],
   "source": [
    "# Bag-of-Words を作る\n",
    "def makeBOW(dataseries, vocab2int):\n",
    "    bow = []\n",
    "    \n",
    "    for title in dataseries:\n",
    "        current_bag = [0] * (len(vocab2int) + 1)\n",
    "\n",
    "        for token in nlp(title.lower()):\n",
    "            if token.pos_ in open_class_words:\n",
    "                if token.lemma_ in vocab2int.keys():\n",
    "                    current_bag[vocab2int[token.lemma_]] += 1\n",
    "                else:\n",
    "                    current_bag[-1] += 1\n",
    "\n",
    "        bow.append(current_bag)\n",
    "    \n",
    "    return bow"
   ]
  },
  {
   "cell_type": "code",
   "execution_count": 6,
   "metadata": {},
   "outputs": [],
   "source": [
    "datasets, labels = {}, {}\n",
    "\n",
    "for each in ['train', 'valid', 'test']:    \n",
    "    if each == 'train':\n",
    "        vocab2int, int2vocab = makeVocab(df_train[\"TITLE\"], 15)\n",
    "        df = df_train\n",
    "    elif each == 'valid':\n",
    "        df = df_valid\n",
    "    elif each == 'test':\n",
    "        df = df_test\n",
    "        \n",
    "    one_hot_publisher = pd.get_dummies(df['PUBLISHER'])\n",
    "    \n",
    "    bow_list = makeBOW(df[\"TITLE\"], vocab2int)\n",
    "    bow_df = pd.DataFrame(bow_list, columns=list(vocab2int.keys())+['UNK'])\n",
    "\n",
    "    datasets[each] = bow_df.join(one_hot_publisher)\n",
    "    datasets[each].to_csv(each + \".feature.txt\", index=False, sep=\"\\t\", encoding=\"utf-8\")\n",
    "    \n",
    "    intlabel = []\n",
    "    for label in df[\"CATEGORY\"]:\n",
    "        # (b = business, t = science and technology, e = entertainment, m = health)\n",
    "        intlabel.append(label2int[label])\n",
    "        \n",
    "    labels[each] = pd.Series(intlabel)\n",
    "\n",
    "features = datasets[\"train\"].columns.tolist()"
   ]
  },
  {
   "cell_type": "markdown",
   "metadata": {},
   "source": [
    "## 52. 学習\n",
    "\n",
    "51で構築した学習データを用いて，ロジスティック回帰モデルを学習せよ．"
   ]
  },
  {
   "cell_type": "code",
   "execution_count": 7,
   "metadata": {},
   "outputs": [
    {
     "name": "stderr",
     "output_type": "stream",
     "text": [
      "[Parallel(n_jobs=-1)]: Using backend LokyBackend with 8 concurrent workers.\n",
      "[Parallel(n_jobs=-1)]: Done   1 out of   1 | elapsed:    7.4s finished\n"
     ]
    },
    {
     "data": {
      "text/plain": [
       "LogisticRegression(max_iter=5000, n_jobs=-1, verbose=1)"
      ]
     },
     "execution_count": 7,
     "metadata": {},
     "output_type": "execute_result"
    }
   ],
   "source": [
    "from sklearn.linear_model import LogisticRegression\n",
    "\n",
    "clf = LogisticRegression(solver=\"lbfgs\", max_iter=5000, verbose=1, n_jobs=-1)\n",
    "clf.fit(datasets[\"train\"], labels[\"train\"])"
   ]
  },
  {
   "cell_type": "markdown",
   "metadata": {},
   "source": [
    "## 53. 予測\n",
    "\n",
    "52で学習したロジスティック回帰モデルを用い，与えられた記事見出しからカテゴリとその予測確率を計算するプログラムを実装せよ．"
   ]
  },
  {
   "cell_type": "code",
   "execution_count": 8,
   "metadata": {},
   "outputs": [
    {
     "name": "stdout",
     "output_type": "stream",
     "text": [
      "No.1 title seems to be \"e\" article (68.651%).\n",
      "No.2 title seems to be \"t\" article (87.049%).\n",
      "No.3 title seems to be \"b\" article (87.094%).\n",
      "No.4 title seems to be \"m\" article (35.846%).\n"
     ]
    }
   ],
   "source": [
    "text_title_e = \"New South Park season will come soon!\"\n",
    "text_title_t = \"Next iPhone might have USB-C\"\n",
    "text_title_b = \"Boeing 777 operation stops due to engine problem\"\n",
    "text_title_m = \"New vaccine for covid 19 have developed\"\n",
    "\n",
    "publishers = [\"Businessweek\", \"Contactmusic.com\", \"Daily Mail\", \"Huffington Post\", \"Reuters\"]\n",
    "onehot_publisher_bw = [1,0,0,0,0] # Businessweek\n",
    "onehot_publisher_cm = [0,1,0,0,0] # Contactmusic.com\n",
    "onehot_publisher_dm = [0,0,1,0,0] # Daily Mail\n",
    "onehot_publisher_hp = [0,0,0,1,0] # Huffington Post\n",
    "onehot_publisher_rt = [0,0,0,0,1] # Reuters\n",
    "\n",
    "given_inputs = [\n",
    "    [text_title_e] + onehot_publisher_dm, \n",
    "    [text_title_t] + onehot_publisher_bw,\n",
    "    [text_title_b] + onehot_publisher_rt,\n",
    "    [text_title_m] + onehot_publisher_hp\n",
    "]\n",
    "\n",
    "given_dfs = pd.DataFrame([])\n",
    "for label, given_input in zip([\"e\", \"t\", \"b\", \"m\"], given_inputs):\n",
    "    bow_list = makeBOW([given_input[0]], vocab2int)\n",
    "    converted_given = [bow_list[0] + given_input[1:]]\n",
    "    given_df = pd.DataFrame(\n",
    "        converted_given, \n",
    "        columns=list(vocab2int.keys())+['UNK']+publishers,\n",
    "        index=[label]\n",
    "    )\n",
    "\n",
    "    given_dfs = given_dfs.append(given_df)\n",
    "\n",
    "for (i, pred), prob in zip(enumerate(clf.predict(given_dfs)), clf.predict_proba(given_dfs)):\n",
    "    print(\"No.{:} title seems to be \\\"{:}\\\" article ({:.3f}%).\".format(i+1, int2label[pred], prob[pred]*100))"
   ]
  },
  {
   "cell_type": "markdown",
   "metadata": {},
   "source": [
    "## 54. 正解率の計測\n",
    "\n",
    "52で学習したロジスティック回帰モデルの正解率を，学習データおよび評価データ上で計測せよ．\n"
   ]
  },
  {
   "cell_type": "code",
   "execution_count": 9,
   "metadata": {},
   "outputs": [
    {
     "name": "stdout",
     "output_type": "stream",
     "text": [
      "Accuracy on training data is 0.927\n",
      "Accuracy on testing data is 0.877\n"
     ]
    }
   ],
   "source": [
    "train_correct_num, test_correct_num = 0, 0\n",
    "\n",
    "train_pred = clf.predict(datasets[\"train\"])\n",
    "for pred, true in zip(train_pred, labels[\"train\"]):\n",
    "    if pred == true:\n",
    "        train_correct_num += 1\n",
    "print(\"Accuracy on training data is {:.3f}\".format(train_correct_num/len(datasets[\"train\"])))\n",
    "\n",
    "test_pred = clf.predict(datasets[\"test\"])\n",
    "for pred, true in zip(test_pred, labels[\"test\"]):\n",
    "    if pred == true:\n",
    "        test_correct_num += 1\n",
    "print(\"Accuracy on testing data is {:.3f}\".format(test_correct_num/len(datasets[\"test\"])))"
   ]
  },
  {
   "cell_type": "markdown",
   "metadata": {},
   "source": [
    "## 55. 混同行列の作成\n",
    "\n",
    "52で学習したロジスティック回帰モデルの混同行列（confusion matrix）を，学習データおよび評価データ上で作成せよ．"
   ]
  },
  {
   "cell_type": "code",
   "execution_count": 10,
   "metadata": {},
   "outputs": [
    {
     "name": "stdout",
     "output_type": "stream",
     "text": [
      "Confusion matrix on training data:\n",
      "[[4310   87   83   22]\n",
      " [ 203  870  108   20]\n",
      " [  66   18 4134   12]\n",
      " [  66   17   82  574]]\n",
      "\n",
      "Confusion matrix on testing data:\n",
      "[[517  15  14   3]\n",
      " [ 39  90  29   3]\n",
      " [ 17   7 506   7]\n",
      " [ 13   1  16  57]]\n"
     ]
    }
   ],
   "source": [
    "from sklearn.metrics import confusion_matrix\n",
    "\n",
    "train_confusion_matrix = confusion_matrix(labels[\"train\"].to_list(), train_pred.tolist(), labels=list(int2label.keys()))\n",
    "test_confusion_matrix = confusion_matrix(labels[\"test\"].to_list(), test_pred.tolist(), labels=list(int2label.keys()))\n",
    "\n",
    "print(\"Confusion matrix on training data:\")\n",
    "print(train_confusion_matrix)\n",
    "\n",
    "print()\n",
    "\n",
    "print(\"Confusion matrix on testing data:\")\n",
    "print(test_confusion_matrix)"
   ]
  },
  {
   "cell_type": "markdown",
   "metadata": {},
   "source": [
    "## 56. 適合率，再現率，F1スコアの計測\n",
    "\n",
    "52で学習したロジスティック回帰モデルの適合率，再現率，F1スコアを，評価データ上で計測せよ．カテゴリごとに適合率，再現率，F1スコアを求め，カテゴリごとの性能をマイクロ平均（micro-average）とマクロ平均（macro-average）で統合せよ．"
   ]
  },
  {
   "cell_type": "code",
   "execution_count": 11,
   "metadata": {},
   "outputs": [
    {
     "name": "stdout",
     "output_type": "stream",
     "text": [
      "Category: business\n",
      "\tPrecision: 0.882\n",
      "\tRecall: 0.942\n",
      "\tF1-Score: 0.911\n",
      "================================================\n",
      "Category: science and technology\n",
      "\tPrecision: 0.796\n",
      "\tRecall: 0.559\n",
      "\tF1-Score: 0.657\n",
      "================================================\n",
      "Category: entertainment\n",
      "\tPrecision: 0.896\n",
      "\tRecall: 0.942\n",
      "\tF1-Score: 0.918\n",
      "================================================\n",
      "Category: health\n",
      "\tPrecision: 0.814\n",
      "\tRecall: 0.655\n",
      "\tF1-Score: 0.726\n",
      "================================================\n",
      "Average_micro: 0.877\n",
      "================================================\n",
      "Precision_macro: 0.847\n",
      "Recall_macro: 0.775\n",
      "F1-Score_macro: 0.803\n"
     ]
    }
   ],
   "source": [
    "label2category = {\n",
    "    \"b\": \"business\",\n",
    "    \"t\": \"science and technology\",\n",
    "    \"e\": \"entertainment\",\n",
    "    \"m\": \"health\"\n",
    "}\n",
    "\n",
    "precisions, recalls, f1s = [], [], []\n",
    "\n",
    "for i, label in int2label.items():\n",
    "    precision = test_confusion_matrix[i,i] / np.sum(test_confusion_matrix[:,i])\n",
    "    recall = test_confusion_matrix[i,i] / np.sum(test_confusion_matrix[i,:])\n",
    "    f1 = 2 * precision * recall / (precision + recall)\n",
    "    \n",
    "    precisions.append(precision)\n",
    "    recalls.append(recall)\n",
    "    f1s.append(f1)\n",
    "    \n",
    "    print(\"Category: {:}\".format(label2category[label]))\n",
    "    print(\"\\tPrecision: {:.3f}\".format(precision))\n",
    "    print(\"\\tRecall: {:.3f}\".format(recall))\n",
    "    print(\"\\tF1-Score: {:.3f}\".format(f1))\n",
    "    print(\"=\"*48)\n",
    "\n",
    "tp = np.sum([test_confusion_matrix[i,i] for i in range(len(test_confusion_matrix))])\n",
    "not_tp = np.sum([test_confusion_matrix[i,j] for i in range(len(test_confusion_matrix)) \n",
    "                                            for j in range(len(test_confusion_matrix)) \n",
    "                                            if i != j])\n",
    "print(\"Average_micro: {:.3f}\".format(tp/(tp+not_tp)))\n",
    "\n",
    "print(\"=\"*48)\n",
    "\n",
    "precision_macro = np.average(precisions)\n",
    "recall_macro = np.average(recalls)\n",
    "f1_macro = np.average(f1s)\n",
    "\n",
    "print(\"Precision_macro: {:.3f}\".format(precision_macro))\n",
    "print(\"Recall_macro: {:.3f}\".format(recall_macro))\n",
    "print(\"F1-Score_macro: {:.3f}\".format(f1_macro))"
   ]
  },
  {
   "cell_type": "markdown",
   "metadata": {},
   "source": [
    "## 57. 特徴量の重みの確認\n",
    "\n",
    "52で学習したロジスティック回帰モデルの中で，重みの高い特徴量トップ10と，重みの低い特徴量トップ10を確認せよ．"
   ]
  },
  {
   "cell_type": "code",
   "execution_count": 12,
   "metadata": {},
   "outputs": [
    {
     "name": "stdout",
     "output_type": "stream",
     "text": [
      "Category: business\n",
      "\tTop-10 important features:\n",
      "\t\tbank (2.042)\n",
      "\t\tfed (1.868)\n",
      "\t\tobamacare (1.808)\n",
      "\t\tukraine (1.706)\n",
      "\t\tloan (1.586)\n",
      "\t\tplane (1.581)\n",
      "\t\tfitch (1.575)\n",
      "\t\tecb (1.559)\n",
      "\t\tdollar (1.540)\n",
      "\t\teuro (1.526)\n",
      "\tTop-10 un-important features:\n",
      "\t\taereo (-1.781)\n",
      "\t\tContactmusic.com (-1.736)\n",
      "\t\tvictim (-1.507)\n",
      "\t\tebola (-1.399)\n",
      "\t\tfestival (-1.317)\n",
      "\t\tdevelop (-1.289)\n",
      "\t\ttv (-1.276)\n",
      "\t\theartbleed (-1.229)\n",
      "\t\tstar (-1.195)\n",
      "\t\tdecade (-1.170)\n",
      "Category: science and technology\n",
      "\tTop-10 important features:\n",
      "\t\tgoogle (2.938)\n",
      "\t\tfacebook (2.794)\n",
      "\t\tmicrosoft (2.613)\n",
      "\t\tapple (2.458)\n",
      "\t\tclimate (2.397)\n",
      "\t\tnasa (2.331)\n",
      "\t\tfcc (2.179)\n",
      "\t\theartbleed (2.162)\n",
      "\t\tmoon (2.069)\n",
      "\t\tearth (1.921)\n",
      "\tTop-10 un-important features:\n",
      "\t\tpercent (-1.201)\n",
      "\t\tdrug (-1.197)\n",
      "\t\tman (-1.111)\n",
      "\t\tkid (-1.105)\n",
      "\t\tpost (-1.055)\n",
      "\t\tcase (-1.048)\n",
      "\t\tpct (-1.037)\n",
      "\t\tamerican (-1.021)\n",
      "\t\tyork (-1.012)\n",
      "\t\tyoung (-0.990)\n",
      "Category: entertainment\n",
      "\tTop-10 important features:\n",
      "\t\tContactmusic.com (2.430)\n",
      "\t\tfilm (2.015)\n",
      "\t\tmovie (1.828)\n",
      "\t\tchris (1.798)\n",
      "\t\tkardashian (1.771)\n",
      "\t\taereo (1.769)\n",
      "\t\tfestival (1.683)\n",
      "\t\ttrailer (1.678)\n",
      "\t\tgeorge (1.584)\n",
      "\t\tsinger (1.480)\n",
      "\tTop-10 un-important features:\n",
      "\t\tscientist (-2.019)\n",
      "\t\trisk (-1.624)\n",
      "\t\tgoogle (-1.589)\n",
      "\t\tBusinessweek (-1.471)\n",
      "\t\trecall (-1.319)\n",
      "\t\tstudy (-1.316)\n",
      "\t\trule (-1.296)\n",
      "\t\tfacebook (-1.287)\n",
      "\t\tcould (-1.284)\n",
      "\t\tnasa (-1.273)\n",
      "Category: health\n",
      "\tTop-10 important features:\n",
      "\t\tebola (3.152)\n",
      "\t\tfda (2.471)\n",
      "\t\tmer (2.150)\n",
      "\t\tcancer (2.108)\n",
      "\t\tstudy (2.026)\n",
      "\t\tbrain (1.985)\n",
      "\t\tdoctor (1.851)\n",
      "\t\tapproval (1.837)\n",
      "\t\ttrial (1.827)\n",
      "\t\tdrug (1.729)\n",
      "\tTop-10 un-important features:\n",
      "\t\tdeal (-1.154)\n",
      "\t\tsue (-1.088)\n",
      "\t\tgm (-1.040)\n",
      "\t\tapple (-0.931)\n",
      "\t\tking (-0.915)\n",
      "\t\tclimate (-0.912)\n",
      "\t\tbuy (-0.903)\n",
      "\t\tamazon (-0.888)\n",
      "\t\tbank (-0.887)\n",
      "\t\tgame (-0.883)\n"
     ]
    }
   ],
   "source": [
    "for labelint, coef in zip(clf.classes_, clf.coef_):\n",
    "    category = label2category[int2label[labelint]]\n",
    "    top10, bottom10 = np.argsort(-coef)[:10], np.argsort(coef)[:10]\n",
    "    \n",
    "    print(\"Category: {:}\".format(category))\n",
    "\n",
    "    print(\"\\tTop-10 important features:\")\n",
    "    for index in top10:\n",
    "        print(\"\\t\\t{:} ({:.3f})\".format(features[index], coef[index]))\n",
    "        \n",
    "    print(\"\\tTop-10 un-important features:\")\n",
    "    for index in bottom10:\n",
    "        print(\"\\t\\t{:} ({:.3f})\".format(features[index], coef[index]))\n",
    "    "
   ]
  },
  {
   "cell_type": "markdown",
   "metadata": {},
   "source": [
    "## 58. 正則化パラメータの変更\n",
    "\n",
    "ロジスティック回帰モデルを学習するとき，正則化パラメータを調整することで，学習時の過学習（overfitting）の度合いを制御できる．異なる正則化パラメータでロジスティック回帰モデルを学習し，学習データ，検証データ，および評価データ上の正解率を求めよ．実験の結果は，正則化パラメータを横軸，正解率を縦軸としたグラフにまとめよ．"
   ]
  },
  {
   "cell_type": "code",
   "execution_count": 13,
   "metadata": {},
   "outputs": [
    {
     "data": {
      "image/png": "[encoded data removed]",
      "text/plain": [
       "<Figure size 432x288 with 1 Axes>"
      ]
     },
     "metadata": {},
     "output_type": "display_data"
    }
   ],
   "source": [
    "%matplotlib inline\n",
    "\n",
    "import matplotlib.pyplot as plt\n",
    "import seaborn as sns\n",
    "from sklearn.metrics import accuracy_score\n",
    "\n",
    "sns.set()\n",
    "\n",
    "Cs = list(map(round, [i*.2 for i in range(1, 11)], [1]*10))\n",
    "accs_train, accs_valid, accs_test = [], [], []\n",
    "\n",
    "for c in Cs:\n",
    "    clf = LogisticRegression(solver=\"lbfgs\", C=c, max_iter=5000, verbose=0, n_jobs=-1)\n",
    "    clf.fit(datasets[\"train\"], labels[\"train\"])\n",
    "\n",
    "    accs_train.append(accuracy_score(labels[\"train\"], clf.predict(datasets[\"train\"])))\n",
    "    accs_valid.append(accuracy_score(labels[\"valid\"], clf.predict(datasets[\"valid\"])))\n",
    "    accs_test.append(accuracy_score(labels[\"test\"], clf.predict(datasets[\"test\"])))\n",
    "\n",
    "accs_train_df = pd.DataFrame({\n",
    "    \"C\": Cs,\n",
    "    \"Accuracy\": accs_train,\n",
    "    \"Legend\": \"Train\"})\n",
    "\n",
    "accs_valid_df = pd.DataFrame({\n",
    "    \"C\": Cs,\n",
    "    \"Accuracy\": accs_valid,\n",
    "    \"Legend\": \"Valid\"})\n",
    "\n",
    "accs_test_df = pd.DataFrame({\n",
    "    \"C\": Cs,\n",
    "    \"Accuracy\": accs_test,\n",
    "    \"Legend\": \"Test\"})\n",
    "\n",
    "data = pd.concat([accs_train_df, accs_valid_df, accs_test_df])\n",
    "\n",
    "ax = sns.pointplot(x=\"C\", y=\"Accuracy\", data=data, hue=\"Legend\")\n",
    "ax.set(xlabel=\"C\", ylabel=\"Accuracy\")\n",
    "plt.show()"
   ]
  },
  {
   "cell_type": "code",
   "execution_count": null,
   "metadata": {},
   "outputs": [],
   "source": []
  }
 ],
 "metadata": {
  "kernelspec": {
   "display_name": "Python 3",
   "language": "python",
   "name": "python3"
  },
  "language_info": {
   "codemirror_mode": {
    "name": "ipython",
    "version": 3
   },
   "file_extension": ".py",
   "mimetype": "text/x-python",
   "name": "python",
   "nbconvert_exporter": "python",
   "pygments_lexer": "ipython3",
   "version": "3.8.5"
  }
 },
 "nbformat": 4,
 "nbformat_minor": 4
}
