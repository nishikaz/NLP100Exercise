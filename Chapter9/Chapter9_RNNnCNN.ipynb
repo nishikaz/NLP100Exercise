{
 "cells": [
  {
   "cell_type": "markdown",
   "id": "37d65fca-7d10-425e-868f-1faba630e110",
   "metadata": {},
   "source": [
    "# 第9章: RNN, CNN\n",
    "\n",
    "[https://nlp100.github.io/ja/ch09.html](https://nlp100.github.io/ja/ch09.html)"
   ]
  },
  {
   "cell_type": "markdown",
   "id": "af322d32-6715-44b5-b398-9bb7eb24ed7b",
   "metadata": {},
   "source": [
    "## 80. ID番号への変換"
   ]
  },
  {
   "cell_type": "code",
   "execution_count": 1,
   "id": "e5e395fe-3246-4f83-98e6-4a14484ced19",
   "metadata": {},
   "outputs": [],
   "source": [
    "from collections import defaultdict\n",
    "import pandas as pd\n",
    "\n",
    "dataset_types = ['train', 'valid', 'test']\n",
    "dfs = {\n",
    "    dataset: pd.read_csv('../Chapter6/' + dataset + '.feature.txt', sep='\\t') for dataset in dataset_types\n",
    "}\n",
    "\n",
    "tokens = defaultdict(int)\n",
    "for column in dfs['train'].columns[:-6]:\n",
    "    tokens[column] += dfs['train'][column].sum()\n",
    "    \n",
    "token2id, id2token = {'UNK': 0}, {0: 'UNK'}\n",
    "id_ = 1\n",
    "for token, count in sorted(tokens.items(), key=lambda k_v: k_v[1], reverse=True):\n",
    "    if count > 1:\n",
    "        token2id[token] = id_\n",
    "        id2token[id_] = token\n",
    "        id_ += 1\n",
    "\n",
    "def token_to_id(token):\n",
    "    if not token in token2id.keys():\n",
    "        token = 'UNK' \n",
    "    return token2id[token]"
   ]
  },
  {
   "cell_type": "code",
   "execution_count": null,
   "id": "01b30732-1bc0-4856-a7f4-181d666909cf",
   "metadata": {},
   "outputs": [],
   "source": []
  }
 ],
 "metadata": {
  "kernelspec": {
   "display_name": "Python 3",
   "language": "python",
   "name": "python3"
  },
  "language_info": {
   "codemirror_mode": {
    "name": "ipython",
    "version": 3
   },
   "file_extension": ".py",
   "mimetype": "text/x-python",
   "name": "python",
   "nbconvert_exporter": "python",
   "pygments_lexer": "ipython3",
   "version": "3.8.9"
  }
 },
 "nbformat": 4,
 "nbformat_minor": 5
}
