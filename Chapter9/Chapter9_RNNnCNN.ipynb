{
 "cells": [
  {
   "cell_type": "markdown",
   "id": "37d65fca-7d10-425e-868f-1faba630e110",
   "metadata": {},
   "source": [
    "# 第9章: RNN, CNN\n",
    "\n",
    "[https://nlp100.github.io/ja/ch09.html](https://nlp100.github.io/ja/ch09.html)"
   ]
  },
  {
   "cell_type": "code",
   "execution_count": null,
   "id": "dc937e91-dc3a-4c1c-8ca4-15047c1330da",
   "metadata": {},
   "outputs": [],
   "source": []
  }
 ],
 "metadata": {
  "kernelspec": {
   "display_name": "Python 3",
   "language": "python",
   "name": "python3"
  },
  "language_info": {
   "codemirror_mode": {
    "name": "ipython",
    "version": 3
   },
   "file_extension": ".py",
   "mimetype": "text/x-python",
   "name": "python",
   "nbconvert_exporter": "python",
   "pygments_lexer": "ipython3",
   "version": "3.8.9"
  }
 },
 "nbformat": 4,
 "nbformat_minor": 5
}
