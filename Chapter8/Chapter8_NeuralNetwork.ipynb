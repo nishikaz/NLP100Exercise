{
  "nbformat": 4,
  "nbformat_minor": 0,
  "metadata": {
    "language_info": {
      "codemirror_mode": {
        "name": "ipython",
        "version": 3
      },
      "file_extension": ".py",
      "mimetype": "text/x-python",
      "name": "python",
      "nbconvert_exporter": "python",
      "pygments_lexer": "ipython3",
      "version": "3.8.9"
    },
    "orig_nbformat": 2,
    "kernelspec": {
      "name": "python389jvsc74a57bd04cd7ab41f5fca4b9b44701077e38c5ffd31fe66a6cab21e0214b68d958d0e462",
      "display_name": "Python 3.8.9 64-bit"
    },
    "colab": {
      "name": "Chapter8_NeuralNetwork.ipynb",
      "provenance": [],
      "toc_visible": true
    },
    "accelerator": "GPU"
  },
  "cells": [
    {
      "cell_type": "markdown",
      "metadata": {
        "id": "75LFaYZnpW_V"
      },
      "source": [
        "# 第8章: ニューラルネット\n",
        "\n",
        "[https://nlp100.github.io/ja/ch08.html](https://nlp100.github.io/ja/ch08.html)\n",
        "\n",
        "第6章で取り組んだニュース記事のカテゴリ分類を題材として，ニューラルネットワークでカテゴリ分類モデルを実装する．なお，この章ではPyTorch, TensorFlow, Chainerなどの機械学習プラットフォームを活用せよ．"
      ]
    },
    {
      "cell_type": "markdown",
      "metadata": {
        "id": "nNS5cxqSpW_k"
      },
      "source": [
        "## 70. 単語ベクトルの和による特徴量"
      ]
    },
    {
      "cell_type": "code",
      "metadata": {
        "tags": [],
        "id": "tyNDpN6bpW_m",
        "outputId": "ea1ef68d-5370-4d00-ef90-7652a167f9b3"
      },
      "source": [
        "import gensim\n",
        "import numpy as np\n",
        "import pandas as pd\n",
        "import spacy\n",
        "import torch\n",
        "import tqdm\n",
        "\n",
        "# global variables\n",
        "dataset_types = ['train', 'valid', 'test']\n",
        "label2int = {\n",
        "    \"b\": 0,\n",
        "    \"t\": 1,\n",
        "    \"e\": 2,\n",
        "    \"m\": 3\n",
        "}\n",
        "Xs, ys = {}, {}\n",
        "device = torch.device('cuda') if torch.cuda.is_available() else torch.device('cpu')\n",
        "print('Using {} device'.format(device.type))\n",
        "\n",
        "\n",
        "def makeDatasetFiles():\n",
        "    nlp = spacy.load(\"en_core_web_sm\")\n",
        "\n",
        "    # Word2Vec\n",
        "    w2v = gensim.models.KeyedVectors.load_word2vec_format(\n",
        "        '../Chapter7/GoogleNews-vectors-negative300.bin', \n",
        "        binary=True)\n",
        "\n",
        "    for dataset in dataset_types:\n",
        "        tmp_x, tmp_y = [], []\n",
        "        tmp_df = pd.read_table('../Chapter6/{:}.txt'.format(dataset))\n",
        "\n",
        "        for each in tmp_df.itertuples():\n",
        "\n",
        "            # make X\n",
        "            tokens = [token for token in nlp(each.TITLE)]\n",
        "            num_tokens = len(tokens)\n",
        "\n",
        "            x_i = np.zeros(300)\n",
        "            for token in tokens:\n",
        "                try:\n",
        "                    token_embedding = w2v[str(token)]\n",
        "                    x_i = np.add(x_i, token_embedding)\n",
        "\n",
        "                except KeyError:\n",
        "                    num_tokens -= 1\n",
        "                    continue\n",
        "\n",
        "            x_i = np.divide(x_i, num_tokens)\n",
        "            tmp_x.append(x_i)\n",
        "\n",
        "            # make y\n",
        "            tmp_y.append(label2int[each.CATEGORY])\n",
        "        \n",
        "        # convert to torch.Tensor\n",
        "        Xs[dataset] = torch.Tensor([tmp_x]).float()\n",
        "        ys[dataset] = torch.Tensor([tmp_y]).long()\n",
        "\n",
        "        # pickle\n",
        "        torch.save(Xs[dataset], 'X_{:}.pickle'.format(dataset))\n",
        "        torch.save(ys[dataset], 'y_{:}.pickle'.format(dataset))\n",
        "    \n",
        "    return Xs, ys"
      ],
      "execution_count": null,
      "outputs": [
        {
          "output_type": "stream",
          "text": [
            "/usr/local/lib/python3.8/site-packages/gensim/similarities/__init__.py:15: UserWarning: The gensim.similarities.levenshtein submodule is disabled, because the optional Levenshtein package <https://pypi.org/project/python-Levenshtein/> is unavailable. Install Levenhstein (e.g. `pip install python-Levenshtein`) to suppress this warning.\n",
            "  warnings.warn(msg)\n",
            "Using cpu device\n"
          ],
          "name": "stderr"
        }
      ]
    },
    {
      "cell_type": "markdown",
      "metadata": {
        "id": "zmkE4ZUNpW_s"
      },
      "source": [
        "## 71. 単層ニューラルネットワークによる予測"
      ]
    },
    {
      "cell_type": "code",
      "metadata": {
        "id": "IuuLcinbpW_u"
      },
      "source": [
        "# Data load\n",
        "try:\n",
        "    for dataset in dataset_types:\n",
        "        Xs[dataset] = torch.load(\n",
        "            'X_{:}.pickle'.format(dataset),\n",
        "            map_location=device)\n",
        "        ys[dataset] = torch.load(\n",
        "            'y_{:}.pickle'.format(dataset),\n",
        "            map_location=device)\n",
        "except FileNotFoundError:\n",
        "    Xs, ys = makeDatasetFiles()\n",
        "    assert Xs != {} and ys != {}"
      ],
      "execution_count": null,
      "outputs": []
    },
    {
      "cell_type": "code",
      "metadata": {
        "id": "-mLY6H77pW_v",
        "outputId": "39969902-5784-4b0c-b4bb-d6c4ccd19716"
      },
      "source": [
        "import torch.nn as nn\n",
        "import torch.nn.functional as F\n",
        "\n",
        "# Define network\n",
        "torch.manual_seed(46)\n",
        "single_layer_network = nn.Sequential(\n",
        "    nn.Linear(300, 4)\n",
        ")\n",
        "\n",
        "hat_Y, x_i, logits, probs = [], [], [], []\n",
        "for i in range(4):\n",
        "    x_i.append(torch.index_select(Xs['train'], dim=1, index=torch.tensor([i])))\n",
        "    logits.append(single_layer_network(x_i[-1]))\n",
        "    probs.append(F.softmax(logits[-1], dim=2))\n",
        "    hat_Y.append(probs[-1].detach())\n",
        "\n",
        "print('hat_y_1 = {:}'.format(hat_Y[0]))\n",
        "print('hat_Y = {:}'.format(hat_Y))"
      ],
      "execution_count": null,
      "outputs": [
        {
          "output_type": "stream",
          "text": [
            "hat_y_1 = tensor([[[0.2525, 0.2487, 0.2648, 0.2341]]])\n",
            "hat_Y = [tensor([[[0.2525, 0.2487, 0.2648, 0.2341]]]), tensor([[[0.2490, 0.2528, 0.2500, 0.2482]]]), tensor([[[0.2359, 0.2576, 0.2604, 0.2460]]]), tensor([[[0.2497, 0.2551, 0.2544, 0.2408]]])]\n"
          ],
          "name": "stdout"
        }
      ]
    },
    {
      "cell_type": "markdown",
      "metadata": {
        "id": "NZcvx9DxpW_w"
      },
      "source": [
        "## 72. 損失と勾配の計算"
      ]
    },
    {
      "cell_type": "code",
      "metadata": {
        "id": "fTwW1bKOpW_w",
        "outputId": "305cdff6-0697-4331-8d5e-85d4e854c49e"
      },
      "source": [
        "targets, losses = [], []\n",
        "for i in range(4):\n",
        "    targets.append(int(torch.index_select(ys['train'], dim=1, index=torch.tensor([i]))))\n",
        "    losses.append(-torch.log(torch.index_select(probs[i], dim=2, index=torch.tensor([targets[-1]]))))\n",
        "\n",
        "print('=== Losses ===========')\n",
        "print('x_1 loss = {:}'.format(losses[0]))\n",
        "print('average loss = {:}'.format(torch.mean(torch.Tensor(losses))))\n",
        "\n",
        "print('=== Grads ===========')\n",
        "for loss_ in losses:\n",
        "    loss_.backward()\n",
        "    print(single_layer_network[0].weight.grad)"
      ],
      "execution_count": null,
      "outputs": [
        {
          "output_type": "stream",
          "text": [
            "=== Losses ===========\n",
            "x_1 loss = tensor([[[1.3289]]], grad_fn=<NegBackward>)\n",
            "average loss = 1.3831130266189575\n",
            "=== Grads ===========\n",
            "tensor([[ 0.0302,  0.0053, -0.0058,  ..., -0.0229, -0.0055, -0.0250],\n",
            "        [ 0.0298,  0.0053, -0.0057,  ..., -0.0225, -0.0055, -0.0246],\n",
            "        [-0.0881, -0.0156,  0.0168,  ...,  0.0666,  0.0162,  0.0727],\n",
            "        [ 0.0280,  0.0050, -0.0054,  ..., -0.0212, -0.0051, -0.0231]])\n",
            "tensor([[-0.0532,  0.0070,  0.0091,  ..., -0.0758, -0.0147,  0.0010],\n",
            "        [ 0.0579,  0.0047, -0.0107,  ..., -0.0047, -0.0024, -0.0333],\n",
            "        [-0.0603, -0.0161,  0.0119,  ...,  0.0842,  0.0192,  0.0640],\n",
            "        [ 0.0556,  0.0044, -0.0103,  ..., -0.0037, -0.0021, -0.0317]])\n",
            "tensor([[-0.0126, -0.0036,  0.0129,  ..., -0.1097, -0.0855, -0.0159],\n",
            "        [ 0.0442,  0.0083, -0.0120,  ...,  0.0067,  0.0215, -0.0276],\n",
            "        [-0.0741, -0.0125,  0.0106,  ...,  0.0957,  0.0433,  0.0698],\n",
            "        [ 0.0425,  0.0078, -0.0115,  ...,  0.0072,  0.0207, -0.0263]])\n",
            "tensor([[-0.0080, -0.0007,  0.0022,  ..., -0.1139, -0.0879, -0.0106],\n",
            "        [ 0.0488,  0.0113, -0.0229,  ...,  0.0024,  0.0191, -0.0222],\n",
            "        [-0.0877, -0.0213,  0.0426,  ...,  0.1085,  0.0505,  0.0540],\n",
            "        [ 0.0469,  0.0107, -0.0218,  ...,  0.0031,  0.0184, -0.0212]])\n"
          ],
          "name": "stdout"
        }
      ]
    },
    {
      "cell_type": "markdown",
      "metadata": {
        "id": "3A2xCmAKpW_w"
      },
      "source": [
        "## 73. 確率的勾配降下法による学習"
      ]
    },
    {
      "cell_type": "code",
      "metadata": {
        "id": "XITTb48upW_x",
        "outputId": "840b732a-c1d6-4a4d-e730-0df66fb08f56"
      },
      "source": [
        "from torch.optim import SGD\n",
        "\n",
        "cross_entropy_loss = nn.CrossEntropyLoss()\n",
        "optimizer = SGD(single_layer_network.parameters(), lr=0.1)\n",
        "\n",
        "for epoch in tqdm.tqdm(range(100)):\n",
        "    optimizer.zero_grad()\n",
        "    logits = single_layer_network(Xs['train'])\n",
        "    loss = cross_entropy_loss(logits.squeeze(), ys['train'].squeeze())\n",
        "    loss.backward()\n",
        "    optimizer.step()"
      ],
      "execution_count": null,
      "outputs": [
        {
          "output_type": "stream",
          "text": [
            "100%|██████████| 100/100 [00:00<00:00, 465.04it/s]\n"
          ],
          "name": "stderr"
        }
      ]
    },
    {
      "cell_type": "markdown",
      "metadata": {
        "id": "2wCTyudtpW_x"
      },
      "source": [
        "## 74. 正解率の計測"
      ]
    },
    {
      "cell_type": "code",
      "metadata": {
        "id": "HNGn6m5zpW_z",
        "outputId": "357fd008-76cb-4db2-ea98-1acf19a2c558"
      },
      "source": [
        "from sklearn.metrics import accuracy_score\n",
        "\n",
        "single_layer_network.eval()\n",
        "pred_train = single_layer_network(Xs['train']).argmax(dim=2).detach()\n",
        "pred_valid = single_layer_network(Xs['valid']).argmax(dim=2).detach()\n",
        "\n",
        "print('Accuracy on training data = {:.3f}'.format(accuracy_score(ys['train'].squeeze(), pred_train.squeeze())))\n",
        "print('Accuracy on validation data = {:.3f}'.format(accuracy_score(ys['valid'].squeeze(), pred_valid.squeeze())))"
      ],
      "execution_count": null,
      "outputs": [
        {
          "output_type": "stream",
          "text": [
            "Accuracy on training data = 0.778\n",
            "Accuracy on validation data = 0.756\n"
          ],
          "name": "stdout"
        }
      ]
    },
    {
      "cell_type": "markdown",
      "metadata": {
        "id": "HWOAOyn6pW_z"
      },
      "source": [
        "## 75. 損失と正解率のプロット"
      ]
    },
    {
      "cell_type": "code",
      "metadata": {
        "id": "iGO-tcCCpW_0",
        "outputId": "15c27b7c-4a27-4298-ff2a-104b10071167"
      },
      "source": [
        "from torch.optim import SGD\n",
        "\n",
        "# Define new network\n",
        "torch.manual_seed(46)\n",
        "single_layer_network = nn.Sequential(\n",
        "    nn.Linear(300, 4)\n",
        ")\n",
        "\n",
        "cross_entropy_loss = nn.CrossEntropyLoss()\n",
        "optimizer = SGD(single_layer_network.parameters(), lr=0.1)\n",
        "\n",
        "train_losses, valid_losses = [], []\n",
        "train_accs, valid_accs = [], []\n",
        "\n",
        "for epoch in tqdm.tqdm(range(100)):\n",
        "    optimizer.zero_grad()\n",
        "    \n",
        "    # get losses\n",
        "    logits = single_layer_network(Xs['train'])\n",
        "    train_losses.append(cross_entropy_loss(logits.squeeze(), ys['train'].squeeze()))\n",
        "    pred_train = logits.argmax(dim=2).detach()\n",
        "\n",
        "    logits = single_layer_network(Xs['valid'])\n",
        "    valid_losses.append(cross_entropy_loss(logits.squeeze(), ys['valid'].squeeze()))\n",
        "    pred_valid = logits.argmax(dim=2).detach()\n",
        "\n",
        "    # get accuracies\n",
        "    train_accs.append(accuracy_score(ys['train'].squeeze(), pred_train.squeeze()))\n",
        "    valid_accs.append(accuracy_score(ys['valid'].squeeze(), pred_valid.squeeze()))\n",
        "\n",
        "    # backward\n",
        "    train_losses[-1].backward()\n",
        "    optimizer.step()"
      ],
      "execution_count": null,
      "outputs": [
        {
          "output_type": "stream",
          "text": [
            "100%|██████████| 100/100 [00:00<00:00, 243.09it/s]\n"
          ],
          "name": "stderr"
        }
      ]
    },
    {
      "cell_type": "code",
      "metadata": {
        "id": "fFkqbcDKpW_0",
        "outputId": "fbae8f97-b0d6-4b92-edb7-3e78b5642d09"
      },
      "source": [
        "%matplotlib inline\n",
        "\n",
        "import matplotlib.pyplot as plt\n",
        "import seaborn as sns\n",
        "from sklearn.metrics import accuracy_score\n",
        "\n",
        "sns.set()\n",
        "\n",
        "plot_train_df = pd.DataFrame({\n",
        "    'Epoch': range(1, 101),\n",
        "    'Loss': [train_loss.item() for train_loss in train_losses],\n",
        "    'Accuracy': [train_acc.item() for train_acc in train_accs],\n",
        "    'Legend': 'Train'\n",
        "})\n",
        "\n",
        "plot_valid_df = pd.DataFrame({\n",
        "    'Epoch': range(1, 101),\n",
        "    'Loss': [valid_loss.item() for valid_loss in valid_losses],\n",
        "    'Accuracy': [valid_acc.item() for valid_acc in valid_accs],\n",
        "    'Legend': 'Valid'\n",
        "})\n",
        "\n",
        "data = pd.concat([plot_train_df, plot_valid_df])\n",
        "\n",
        "# plot losses\n",
        "ax1 = sns.lineplot(x=\"Epoch\", y=\"Loss\", data=data, hue=\"Legend\")\n",
        "ax1.set(xlabel=\"Epoch\", ylabel=\"Loss\")\n",
        "plt.show()\n",
        "\n",
        "# plot accuracies\n",
        "ax2 = sns.lineplot(x=\"Epoch\", y=\"Accuracy\", data=data, hue=\"Legend\")\n",
        "ax2.set(xlabel=\"Epoch\", ylabel=\"Accuracy\")\n",
        "plt.show()"
      ],
      "execution_count": null,
      "outputs": [
        {
          "output_type": "display_data",
          "data": {
            "text/plain": [
              "<Figure size 432x288 with 1 Axes>"
            ],
            "image/svg+xml": "<?xml version=\"1.0\" encoding=\"utf-8\" standalone=\"no\"?>\n<!DOCTYPE svg PUBLIC \"-//W3C//DTD SVG 1.1//EN\"\n  \"http://www.w3.org/Graphics/SVG/1.1/DTD/svg11.dtd\">\n<svg height=\"267.750526pt\" version=\"1.1\" viewBox=\"0 0 391.807187 267.750526\" width=\"391.807187pt\" xmlns=\"http://www.w3.org/2000/svg\" xmlns:xlink=\"http://www.w3.org/1999/xlink\">\n <metadata>\n  <rdf:RDF xmlns:cc=\"http://creativecommons.org/ns#\" xmlns:dc=\"http://purl.org/dc/elements/1.1/\" xmlns:rdf=\"http://www.w3.org/1999/02/22-rdf-syntax-ns#\">\n   <cc:Work>\n    <dc:type rdf:resource=\"http://purl.org/dc/dcmitype/StillImage\"/>\n    <dc:date>2021-04-27T23:00:20.874033</dc:date>\n    <dc:format>image/svg+xml</dc:format>\n    <dc:creator>\n     <cc:Agent>\n      <dc:title>Matplotlib v3.4.1, https://matplotlib.org/</dc:title>\n     </cc:Agent>\n    </dc:creator>\n   </cc:Work>\n  </rdf:RDF>\n </metadata>\n <defs>\n  <style type=\"text/css\">*{stroke-linecap:butt;stroke-linejoin:round;}</style>\n </defs>\n <g id=\"figure_1\">\n  <g id=\"patch_1\">\n   <path d=\"M 0 267.750526 \nL 391.807187 267.750526 \nL 391.807187 0 \nL 0 0 \nz\n\" style=\"fill:#ffffff;\"/>\n  </g>\n  <g id=\"axes_1\">\n   <g id=\"patch_2\">\n    <path d=\"M 49.807187 224.790839 \nL 384.607188 224.790839 \nL 384.607188 7.350839 \nL 49.807187 7.350839 \nz\n\" style=\"fill:#eaeaf2;\"/>\n   </g>\n   <g id=\"matplotlib.axis_1\">\n    <g id=\"xtick_1\">\n     <g id=\"line2d_1\">\n      <path clip-path=\"url(#p8beb83e9d3)\" d=\"M 61.950989 224.790839 \nL 61.950989 7.350839 \n\" style=\"fill:none;stroke:#ffffff;stroke-linecap:round;\"/>\n     </g>\n     <g id=\"text_1\">\n      <!-- 0 -->\n      <g style=\"fill:#262626;\" transform=\"translate(58.451614 242.64912)scale(0.11 -0.11)\">\n       <defs>\n        <path d=\"M 2034 4250 \nQ 1547 4250 1301 3770 \nQ 1056 3291 1056 2328 \nQ 1056 1369 1301 889 \nQ 1547 409 2034 409 \nQ 2525 409 2770 889 \nQ 3016 1369 3016 2328 \nQ 3016 3291 2770 3770 \nQ 2525 4250 2034 4250 \nz\nM 2034 4750 \nQ 2819 4750 3233 4129 \nQ 3647 3509 3647 2328 \nQ 3647 1150 3233 529 \nQ 2819 -91 2034 -91 \nQ 1250 -91 836 529 \nQ 422 1150 422 2328 \nQ 422 3509 836 4129 \nQ 1250 4750 2034 4750 \nz\n\" id=\"DejaVuSans-30\" transform=\"scale(0.015625)\"/>\n       </defs>\n       <use xlink:href=\"#DejaVuSans-30\"/>\n      </g>\n     </g>\n    </g>\n    <g id=\"xtick_2\">\n     <g id=\"line2d_2\">\n      <path clip-path=\"url(#p8beb83e9d3)\" d=\"M 123.438592 224.790839 \nL 123.438592 7.350839 \n\" style=\"fill:none;stroke:#ffffff;stroke-linecap:round;\"/>\n     </g>\n     <g id=\"text_2\">\n      <!-- 20 -->\n      <g style=\"fill:#262626;\" transform=\"translate(116.439842 242.64912)scale(0.11 -0.11)\">\n       <defs>\n        <path d=\"M 1228 531 \nL 3431 531 \nL 3431 0 \nL 469 0 \nL 469 531 \nQ 828 903 1448 1529 \nQ 2069 2156 2228 2338 \nQ 2531 2678 2651 2914 \nQ 2772 3150 2772 3378 \nQ 2772 3750 2511 3984 \nQ 2250 4219 1831 4219 \nQ 1534 4219 1204 4116 \nQ 875 4013 500 3803 \nL 500 4441 \nQ 881 4594 1212 4672 \nQ 1544 4750 1819 4750 \nQ 2544 4750 2975 4387 \nQ 3406 4025 3406 3419 \nQ 3406 3131 3298 2873 \nQ 3191 2616 2906 2266 \nQ 2828 2175 2409 1742 \nQ 1991 1309 1228 531 \nz\n\" id=\"DejaVuSans-32\" transform=\"scale(0.015625)\"/>\n       </defs>\n       <use xlink:href=\"#DejaVuSans-32\"/>\n       <use x=\"63.623047\" xlink:href=\"#DejaVuSans-30\"/>\n      </g>\n     </g>\n    </g>\n    <g id=\"xtick_3\">\n     <g id=\"line2d_3\">\n      <path clip-path=\"url(#p8beb83e9d3)\" d=\"M 184.926196 224.790839 \nL 184.926196 7.350839 \n\" style=\"fill:none;stroke:#ffffff;stroke-linecap:round;\"/>\n     </g>\n     <g id=\"text_3\">\n      <!-- 40 -->\n      <g style=\"fill:#262626;\" transform=\"translate(177.927446 242.64912)scale(0.11 -0.11)\">\n       <defs>\n        <path d=\"M 2419 4116 \nL 825 1625 \nL 2419 1625 \nL 2419 4116 \nz\nM 2253 4666 \nL 3047 4666 \nL 3047 1625 \nL 3713 1625 \nL 3713 1100 \nL 3047 1100 \nL 3047 0 \nL 2419 0 \nL 2419 1100 \nL 313 1100 \nL 313 1709 \nL 2253 4666 \nz\n\" id=\"DejaVuSans-34\" transform=\"scale(0.015625)\"/>\n       </defs>\n       <use xlink:href=\"#DejaVuSans-34\"/>\n       <use x=\"63.623047\" xlink:href=\"#DejaVuSans-30\"/>\n      </g>\n     </g>\n    </g>\n    <g id=\"xtick_4\">\n     <g id=\"line2d_4\">\n      <path clip-path=\"url(#p8beb83e9d3)\" d=\"M 246.413799 224.790839 \nL 246.413799 7.350839 \n\" style=\"fill:none;stroke:#ffffff;stroke-linecap:round;\"/>\n     </g>\n     <g id=\"text_4\">\n      <!-- 60 -->\n      <g style=\"fill:#262626;\" transform=\"translate(239.415049 242.64912)scale(0.11 -0.11)\">\n       <defs>\n        <path d=\"M 2113 2584 \nQ 1688 2584 1439 2293 \nQ 1191 2003 1191 1497 \nQ 1191 994 1439 701 \nQ 1688 409 2113 409 \nQ 2538 409 2786 701 \nQ 3034 994 3034 1497 \nQ 3034 2003 2786 2293 \nQ 2538 2584 2113 2584 \nz\nM 3366 4563 \nL 3366 3988 \nQ 3128 4100 2886 4159 \nQ 2644 4219 2406 4219 \nQ 1781 4219 1451 3797 \nQ 1122 3375 1075 2522 \nQ 1259 2794 1537 2939 \nQ 1816 3084 2150 3084 \nQ 2853 3084 3261 2657 \nQ 3669 2231 3669 1497 \nQ 3669 778 3244 343 \nQ 2819 -91 2113 -91 \nQ 1303 -91 875 529 \nQ 447 1150 447 2328 \nQ 447 3434 972 4092 \nQ 1497 4750 2381 4750 \nQ 2619 4750 2861 4703 \nQ 3103 4656 3366 4563 \nz\n\" id=\"DejaVuSans-36\" transform=\"scale(0.015625)\"/>\n       </defs>\n       <use xlink:href=\"#DejaVuSans-36\"/>\n       <use x=\"63.623047\" xlink:href=\"#DejaVuSans-30\"/>\n      </g>\n     </g>\n    </g>\n    <g id=\"xtick_5\">\n     <g id=\"line2d_5\">\n      <path clip-path=\"url(#p8beb83e9d3)\" d=\"M 307.901402 224.790839 \nL 307.901402 7.350839 \n\" style=\"fill:none;stroke:#ffffff;stroke-linecap:round;\"/>\n     </g>\n     <g id=\"text_5\">\n      <!-- 80 -->\n      <g style=\"fill:#262626;\" transform=\"translate(300.902652 242.64912)scale(0.11 -0.11)\">\n       <defs>\n        <path d=\"M 2034 2216 \nQ 1584 2216 1326 1975 \nQ 1069 1734 1069 1313 \nQ 1069 891 1326 650 \nQ 1584 409 2034 409 \nQ 2484 409 2743 651 \nQ 3003 894 3003 1313 \nQ 3003 1734 2745 1975 \nQ 2488 2216 2034 2216 \nz\nM 1403 2484 \nQ 997 2584 770 2862 \nQ 544 3141 544 3541 \nQ 544 4100 942 4425 \nQ 1341 4750 2034 4750 \nQ 2731 4750 3128 4425 \nQ 3525 4100 3525 3541 \nQ 3525 3141 3298 2862 \nQ 3072 2584 2669 2484 \nQ 3125 2378 3379 2068 \nQ 3634 1759 3634 1313 \nQ 3634 634 3220 271 \nQ 2806 -91 2034 -91 \nQ 1263 -91 848 271 \nQ 434 634 434 1313 \nQ 434 1759 690 2068 \nQ 947 2378 1403 2484 \nz\nM 1172 3481 \nQ 1172 3119 1398 2916 \nQ 1625 2713 2034 2713 \nQ 2441 2713 2670 2916 \nQ 2900 3119 2900 3481 \nQ 2900 3844 2670 4047 \nQ 2441 4250 2034 4250 \nQ 1625 4250 1398 4047 \nQ 1172 3844 1172 3481 \nz\n\" id=\"DejaVuSans-38\" transform=\"scale(0.015625)\"/>\n       </defs>\n       <use xlink:href=\"#DejaVuSans-38\"/>\n       <use x=\"63.623047\" xlink:href=\"#DejaVuSans-30\"/>\n      </g>\n     </g>\n    </g>\n    <g id=\"xtick_6\">\n     <g id=\"line2d_6\">\n      <path clip-path=\"url(#p8beb83e9d3)\" d=\"M 369.389006 224.790839 \nL 369.389006 7.350839 \n\" style=\"fill:none;stroke:#ffffff;stroke-linecap:round;\"/>\n     </g>\n     <g id=\"text_6\">\n      <!-- 100 -->\n      <g style=\"fill:#262626;\" transform=\"translate(358.890881 242.64912)scale(0.11 -0.11)\">\n       <defs>\n        <path d=\"M 794 531 \nL 1825 531 \nL 1825 4091 \nL 703 3866 \nL 703 4441 \nL 1819 4666 \nL 2450 4666 \nL 2450 531 \nL 3481 531 \nL 3481 0 \nL 794 0 \nL 794 531 \nz\n\" id=\"DejaVuSans-31\" transform=\"scale(0.015625)\"/>\n       </defs>\n       <use xlink:href=\"#DejaVuSans-31\"/>\n       <use x=\"63.623047\" xlink:href=\"#DejaVuSans-30\"/>\n       <use x=\"127.246094\" xlink:href=\"#DejaVuSans-30\"/>\n      </g>\n     </g>\n    </g>\n    <g id=\"text_7\">\n     <!-- Epoch -->\n     <g style=\"fill:#262626;\" transform=\"translate(198.834063 258.054901)scale(0.12 -0.12)\">\n      <defs>\n       <path d=\"M 628 4666 \nL 3578 4666 \nL 3578 4134 \nL 1259 4134 \nL 1259 2753 \nL 3481 2753 \nL 3481 2222 \nL 1259 2222 \nL 1259 531 \nL 3634 531 \nL 3634 0 \nL 628 0 \nL 628 4666 \nz\n\" id=\"DejaVuSans-45\" transform=\"scale(0.015625)\"/>\n       <path d=\"M 1159 525 \nL 1159 -1331 \nL 581 -1331 \nL 581 3500 \nL 1159 3500 \nL 1159 2969 \nQ 1341 3281 1617 3432 \nQ 1894 3584 2278 3584 \nQ 2916 3584 3314 3078 \nQ 3713 2572 3713 1747 \nQ 3713 922 3314 415 \nQ 2916 -91 2278 -91 \nQ 1894 -91 1617 61 \nQ 1341 213 1159 525 \nz\nM 3116 1747 \nQ 3116 2381 2855 2742 \nQ 2594 3103 2138 3103 \nQ 1681 3103 1420 2742 \nQ 1159 2381 1159 1747 \nQ 1159 1113 1420 752 \nQ 1681 391 2138 391 \nQ 2594 391 2855 752 \nQ 3116 1113 3116 1747 \nz\n\" id=\"DejaVuSans-70\" transform=\"scale(0.015625)\"/>\n       <path d=\"M 1959 3097 \nQ 1497 3097 1228 2736 \nQ 959 2375 959 1747 \nQ 959 1119 1226 758 \nQ 1494 397 1959 397 \nQ 2419 397 2687 759 \nQ 2956 1122 2956 1747 \nQ 2956 2369 2687 2733 \nQ 2419 3097 1959 3097 \nz\nM 1959 3584 \nQ 2709 3584 3137 3096 \nQ 3566 2609 3566 1747 \nQ 3566 888 3137 398 \nQ 2709 -91 1959 -91 \nQ 1206 -91 779 398 \nQ 353 888 353 1747 \nQ 353 2609 779 3096 \nQ 1206 3584 1959 3584 \nz\n\" id=\"DejaVuSans-6f\" transform=\"scale(0.015625)\"/>\n       <path d=\"M 3122 3366 \nL 3122 2828 \nQ 2878 2963 2633 3030 \nQ 2388 3097 2138 3097 \nQ 1578 3097 1268 2742 \nQ 959 2388 959 1747 \nQ 959 1106 1268 751 \nQ 1578 397 2138 397 \nQ 2388 397 2633 464 \nQ 2878 531 3122 666 \nL 3122 134 \nQ 2881 22 2623 -34 \nQ 2366 -91 2075 -91 \nQ 1284 -91 818 406 \nQ 353 903 353 1747 \nQ 353 2603 823 3093 \nQ 1294 3584 2113 3584 \nQ 2378 3584 2631 3529 \nQ 2884 3475 3122 3366 \nz\n\" id=\"DejaVuSans-63\" transform=\"scale(0.015625)\"/>\n       <path d=\"M 3513 2113 \nL 3513 0 \nL 2938 0 \nL 2938 2094 \nQ 2938 2591 2744 2837 \nQ 2550 3084 2163 3084 \nQ 1697 3084 1428 2787 \nQ 1159 2491 1159 1978 \nL 1159 0 \nL 581 0 \nL 581 4863 \nL 1159 4863 \nL 1159 2956 \nQ 1366 3272 1645 3428 \nQ 1925 3584 2291 3584 \nQ 2894 3584 3203 3211 \nQ 3513 2838 3513 2113 \nz\n\" id=\"DejaVuSans-68\" transform=\"scale(0.015625)\"/>\n      </defs>\n      <use xlink:href=\"#DejaVuSans-45\"/>\n      <use x=\"63.183594\" xlink:href=\"#DejaVuSans-70\"/>\n      <use x=\"126.660156\" xlink:href=\"#DejaVuSans-6f\"/>\n      <use x=\"187.841797\" xlink:href=\"#DejaVuSans-63\"/>\n      <use x=\"242.822266\" xlink:href=\"#DejaVuSans-68\"/>\n     </g>\n    </g>\n   </g>\n   <g id=\"matplotlib.axis_2\">\n    <g id=\"ytick_1\">\n     <g id=\"line2d_7\">\n      <path clip-path=\"url(#p8beb83e9d3)\" d=\"M 49.807187 218.401063 \nL 384.607188 218.401063 \n\" style=\"fill:none;stroke:#ffffff;stroke-linecap:round;\"/>\n     </g>\n     <g id=\"text_8\">\n      <!-- 0.9 -->\n      <g style=\"fill:#262626;\" transform=\"translate(22.81375 222.580204)scale(0.11 -0.11)\">\n       <defs>\n        <path d=\"M 684 794 \nL 1344 794 \nL 1344 0 \nL 684 0 \nL 684 794 \nz\n\" id=\"DejaVuSans-2e\" transform=\"scale(0.015625)\"/>\n        <path d=\"M 703 97 \nL 703 672 \nQ 941 559 1184 500 \nQ 1428 441 1663 441 \nQ 2288 441 2617 861 \nQ 2947 1281 2994 2138 \nQ 2813 1869 2534 1725 \nQ 2256 1581 1919 1581 \nQ 1219 1581 811 2004 \nQ 403 2428 403 3163 \nQ 403 3881 828 4315 \nQ 1253 4750 1959 4750 \nQ 2769 4750 3195 4129 \nQ 3622 3509 3622 2328 \nQ 3622 1225 3098 567 \nQ 2575 -91 1691 -91 \nQ 1453 -91 1209 -44 \nQ 966 3 703 97 \nz\nM 1959 2075 \nQ 2384 2075 2632 2365 \nQ 2881 2656 2881 3163 \nQ 2881 3666 2632 3958 \nQ 2384 4250 1959 4250 \nQ 1534 4250 1286 3958 \nQ 1038 3666 1038 3163 \nQ 1038 2656 1286 2365 \nQ 1534 2075 1959 2075 \nz\n\" id=\"DejaVuSans-39\" transform=\"scale(0.015625)\"/>\n       </defs>\n       <use xlink:href=\"#DejaVuSans-30\"/>\n       <use x=\"63.623047\" xlink:href=\"#DejaVuSans-2e\"/>\n       <use x=\"95.410156\" xlink:href=\"#DejaVuSans-39\"/>\n      </g>\n     </g>\n    </g>\n    <g id=\"ytick_2\">\n     <g id=\"line2d_8\">\n      <path clip-path=\"url(#p8beb83e9d3)\" d=\"M 49.807187 176.996679 \nL 384.607188 176.996679 \n\" style=\"fill:none;stroke:#ffffff;stroke-linecap:round;\"/>\n     </g>\n     <g id=\"text_9\">\n      <!-- 1.0 -->\n      <g style=\"fill:#262626;\" transform=\"translate(22.81375 181.175819)scale(0.11 -0.11)\">\n       <use xlink:href=\"#DejaVuSans-31\"/>\n       <use x=\"63.623047\" xlink:href=\"#DejaVuSans-2e\"/>\n       <use x=\"95.410156\" xlink:href=\"#DejaVuSans-30\"/>\n      </g>\n     </g>\n    </g>\n    <g id=\"ytick_3\">\n     <g id=\"line2d_9\">\n      <path clip-path=\"url(#p8beb83e9d3)\" d=\"M 49.807187 135.592294 \nL 384.607188 135.592294 \n\" style=\"fill:none;stroke:#ffffff;stroke-linecap:round;\"/>\n     </g>\n     <g id=\"text_10\">\n      <!-- 1.1 -->\n      <g style=\"fill:#262626;\" transform=\"translate(22.81375 139.771435)scale(0.11 -0.11)\">\n       <use xlink:href=\"#DejaVuSans-31\"/>\n       <use x=\"63.623047\" xlink:href=\"#DejaVuSans-2e\"/>\n       <use x=\"95.410156\" xlink:href=\"#DejaVuSans-31\"/>\n      </g>\n     </g>\n    </g>\n    <g id=\"ytick_4\">\n     <g id=\"line2d_10\">\n      <path clip-path=\"url(#p8beb83e9d3)\" d=\"M 49.807187 94.18791 \nL 384.607188 94.18791 \n\" style=\"fill:none;stroke:#ffffff;stroke-linecap:round;\"/>\n     </g>\n     <g id=\"text_11\">\n      <!-- 1.2 -->\n      <g style=\"fill:#262626;\" transform=\"translate(22.81375 98.36705)scale(0.11 -0.11)\">\n       <use xlink:href=\"#DejaVuSans-31\"/>\n       <use x=\"63.623047\" xlink:href=\"#DejaVuSans-2e\"/>\n       <use x=\"95.410156\" xlink:href=\"#DejaVuSans-32\"/>\n      </g>\n     </g>\n    </g>\n    <g id=\"ytick_5\">\n     <g id=\"line2d_11\">\n      <path clip-path=\"url(#p8beb83e9d3)\" d=\"M 49.807187 52.783525 \nL 384.607188 52.783525 \n\" style=\"fill:none;stroke:#ffffff;stroke-linecap:round;\"/>\n     </g>\n     <g id=\"text_12\">\n      <!-- 1.3 -->\n      <g style=\"fill:#262626;\" transform=\"translate(22.81375 56.962666)scale(0.11 -0.11)\">\n       <defs>\n        <path d=\"M 2597 2516 \nQ 3050 2419 3304 2112 \nQ 3559 1806 3559 1356 \nQ 3559 666 3084 287 \nQ 2609 -91 1734 -91 \nQ 1441 -91 1130 -33 \nQ 819 25 488 141 \nL 488 750 \nQ 750 597 1062 519 \nQ 1375 441 1716 441 \nQ 2309 441 2620 675 \nQ 2931 909 2931 1356 \nQ 2931 1769 2642 2001 \nQ 2353 2234 1838 2234 \nL 1294 2234 \nL 1294 2753 \nL 1863 2753 \nQ 2328 2753 2575 2939 \nQ 2822 3125 2822 3475 \nQ 2822 3834 2567 4026 \nQ 2313 4219 1838 4219 \nQ 1578 4219 1281 4162 \nQ 984 4106 628 3988 \nL 628 4550 \nQ 988 4650 1302 4700 \nQ 1616 4750 1894 4750 \nQ 2613 4750 3031 4423 \nQ 3450 4097 3450 3541 \nQ 3450 3153 3228 2886 \nQ 3006 2619 2597 2516 \nz\n\" id=\"DejaVuSans-33\" transform=\"scale(0.015625)\"/>\n       </defs>\n       <use xlink:href=\"#DejaVuSans-31\"/>\n       <use x=\"63.623047\" xlink:href=\"#DejaVuSans-2e\"/>\n       <use x=\"95.410156\" xlink:href=\"#DejaVuSans-33\"/>\n      </g>\n     </g>\n    </g>\n    <g id=\"ytick_6\">\n     <g id=\"line2d_12\">\n      <path clip-path=\"url(#p8beb83e9d3)\" d=\"M 49.807187 11.379141 \nL 384.607188 11.379141 \n\" style=\"fill:none;stroke:#ffffff;stroke-linecap:round;\"/>\n     </g>\n     <g id=\"text_13\">\n      <!-- 1.4 -->\n      <g style=\"fill:#262626;\" transform=\"translate(22.81375 15.558281)scale(0.11 -0.11)\">\n       <use xlink:href=\"#DejaVuSans-31\"/>\n       <use x=\"63.623047\" xlink:href=\"#DejaVuSans-2e\"/>\n       <use x=\"95.410156\" xlink:href=\"#DejaVuSans-34\"/>\n      </g>\n     </g>\n    </g>\n    <g id=\"text_14\">\n     <!-- Loss -->\n     <g style=\"fill:#262626;\" transform=\"translate(16.318125 129.231464)rotate(-90)scale(0.12 -0.12)\">\n      <defs>\n       <path d=\"M 628 4666 \nL 1259 4666 \nL 1259 531 \nL 3531 531 \nL 3531 0 \nL 628 0 \nL 628 4666 \nz\n\" id=\"DejaVuSans-4c\" transform=\"scale(0.015625)\"/>\n       <path d=\"M 2834 3397 \nL 2834 2853 \nQ 2591 2978 2328 3040 \nQ 2066 3103 1784 3103 \nQ 1356 3103 1142 2972 \nQ 928 2841 928 2578 \nQ 928 2378 1081 2264 \nQ 1234 2150 1697 2047 \nL 1894 2003 \nQ 2506 1872 2764 1633 \nQ 3022 1394 3022 966 \nQ 3022 478 2636 193 \nQ 2250 -91 1575 -91 \nQ 1294 -91 989 -36 \nQ 684 19 347 128 \nL 347 722 \nQ 666 556 975 473 \nQ 1284 391 1588 391 \nQ 1994 391 2212 530 \nQ 2431 669 2431 922 \nQ 2431 1156 2273 1281 \nQ 2116 1406 1581 1522 \nL 1381 1569 \nQ 847 1681 609 1914 \nQ 372 2147 372 2553 \nQ 372 3047 722 3315 \nQ 1072 3584 1716 3584 \nQ 2034 3584 2315 3537 \nQ 2597 3491 2834 3397 \nz\n\" id=\"DejaVuSans-73\" transform=\"scale(0.015625)\"/>\n      </defs>\n      <use xlink:href=\"#DejaVuSans-4c\"/>\n      <use x=\"53.962891\" xlink:href=\"#DejaVuSans-6f\"/>\n      <use x=\"115.144531\" xlink:href=\"#DejaVuSans-73\"/>\n      <use x=\"167.244141\" xlink:href=\"#DejaVuSans-73\"/>\n     </g>\n    </g>\n   </g>\n   <g id=\"line2d_13\">\n    <path clip-path=\"url(#p8beb83e9d3)\" d=\"M 65.025369 17.234475 \nL 68.099749 25.758974 \nL 71.17413 33.70421 \nL 74.24851 41.116627 \nL 77.32289 48.041092 \nL 80.39727 54.514624 \nL 83.47165 60.578239 \nL 86.54603 66.264907 \nL 89.620411 71.605084 \nL 92.694791 76.628333 \nL 95.769171 81.361803 \nL 98.843551 85.825827 \nL 101.917931 90.047801 \nL 104.992311 94.042877 \nL 108.066692 97.829662 \nL 111.141072 101.426864 \nL 114.215452 104.848499 \nL 117.289832 108.105428 \nL 120.364212 111.215764 \nL 123.438592 114.186022 \nL 126.512973 117.029776 \nL 129.587353 119.752948 \nL 132.661733 122.367188 \nL 135.736113 124.877875 \nL 138.810493 127.296263 \nL 141.884873 129.625263 \nL 144.959254 131.872231 \nL 148.033634 134.041904 \nL 151.108014 136.140157 \nL 154.182394 138.168272 \nL 157.256774 140.138095 \nL 160.331154 142.046122 \nL 163.405535 143.899066 \nL 166.479915 145.699987 \nL 169.554295 147.451451 \nL 172.628675 149.157654 \nL 175.703055 150.817954 \nL 178.777435 152.439163 \nL 181.851816 154.021379 \nL 184.926196 155.564405 \nL 188.000576 157.074657 \nL 191.074956 158.549766 \nL 194.149336 159.993632 \nL 197.223716 161.407883 \nL 200.298097 162.793902 \nL 203.372477 164.149516 \nL 206.446857 165.481536 \nL 209.521237 166.78799 \nL 212.595617 168.071245 \nL 215.669997 169.331006 \nL 218.744378 170.569395 \nL 221.818758 171.784586 \nL 224.893138 172.980774 \nL 227.967518 174.158256 \nL 231.041898 175.316537 \nL 234.116278 176.455815 \nL 237.190659 177.578485 \nL 240.265039 178.685532 \nL 243.339419 179.774244 \nL 246.413799 180.848246 \nL 249.488179 181.906578 \nL 252.562559 182.950349 \nL 255.63694 183.981657 \nL 258.71132 184.997096 \nL 261.7857 186.000295 \nL 264.86008 186.991006 \nL 267.93446 187.967799 \nL 271.00884 188.931931 \nL 274.083221 189.887647 \nL 277.157601 190.828334 \nL 280.231981 191.760334 \nL 283.306361 192.681525 \nL 286.380741 193.588056 \nL 289.455121 194.488122 \nL 292.529502 195.376884 \nL 295.603882 196.256985 \nL 298.678262 197.125905 \nL 301.752642 197.986386 \nL 304.827022 198.837414 \nL 307.901402 199.679287 \nL 310.975783 200.512719 \nL 314.050163 201.337045 \nL 317.124543 202.153671 \nL 320.198923 202.962202 \nL 323.273303 203.762318 \nL 326.347683 204.554981 \nL 329.422064 205.339722 \nL 332.496444 206.118145 \nL 335.570824 206.887165 \nL 338.645204 207.649966 \nL 341.719584 208.406252 \nL 344.793964 209.154024 \nL 347.868345 209.895922 \nL 350.942725 210.630417 \nL 354.017105 211.359309 \nL 357.091485 212.082007 \nL 360.165865 212.798091 \nL 363.240245 213.507043 \nL 366.314626 214.210318 \nL 369.389006 214.907202 \n\" style=\"fill:none;stroke:#4c72b0;stroke-linecap:round;stroke-width:1.5;\"/>\n   </g>\n   <g id=\"line2d_14\">\n    <path clip-path=\"url(#p8beb83e9d3)\" d=\"M 65.025369 17.511471 \nL 68.099749 25.238446 \nL 71.17413 32.421201 \nL 74.24851 39.106182 \nL 77.32289 45.3348 \nL 80.39727 51.14669 \nL 83.47165 56.576747 \nL 86.54603 61.658041 \nL 89.620411 66.420434 \nL 92.694791 70.891813 \nL 95.769171 75.095722 \nL 98.843551 79.055556 \nL 101.917931 82.793773 \nL 104.992311 86.325724 \nL 108.066692 89.670855 \nL 111.141072 92.844073 \nL 114.215452 95.858654 \nL 117.289832 98.728025 \nL 120.364212 101.464178 \nL 123.438592 104.076542 \nL 126.512973 106.57568 \nL 129.587353 108.970178 \nL 132.661733 111.267392 \nL 135.736113 113.475022 \nL 138.810493 115.599779 \nL 141.884873 117.646996 \nL 144.959254 119.622347 \nL 148.033634 121.531411 \nL 151.108014 123.378037 \nL 154.182394 125.166865 \nL 157.256774 126.901153 \nL 160.331154 128.584503 \nL 163.405535 130.220865 \nL 166.479915 131.813594 \nL 169.554295 133.362246 \nL 172.628675 134.873041 \nL 175.703055 136.346818 \nL 178.777435 137.784317 \nL 181.851816 139.190177 \nL 184.926196 140.564103 \nL 188.000576 141.908661 \nL 191.074956 143.224936 \nL 194.149336 144.514756 \nL 197.223716 145.779749 \nL 200.298097 147.019619 \nL 203.372477 148.236982 \nL 206.446857 149.432183 \nL 209.521237 150.607245 \nL 212.595617 151.761627 \nL 215.669997 152.897352 \nL 218.744378 154.014962 \nL 221.818758 155.114656 \nL 224.893138 156.197567 \nL 227.967518 157.264783 \nL 231.041898 158.315464 \nL 234.116278 159.351239 \nL 237.190659 160.373095 \nL 240.265039 161.381033 \nL 243.339419 162.375643 \nL 246.413799 163.356187 \nL 249.488179 164.324884 \nL 252.562559 165.281538 \nL 255.63694 166.226594 \nL 258.71132 167.159556 \nL 261.7857 168.082252 \nL 264.86008 168.993102 \nL 267.93446 169.894377 \nL 271.00884 170.785385 \nL 274.083221 171.666325 \nL 277.157601 172.537837 \nL 280.231981 173.399773 \nL 283.306361 174.25322 \nL 286.380741 175.097339 \nL 289.455121 175.932622 \nL 292.529502 176.759514 \nL 295.603882 177.578115 \nL 298.678262 178.388867 \nL 301.752642 179.191648 \nL 304.827022 179.986754 \nL 307.901402 180.774407 \nL 310.975783 181.554508 \nL 314.050163 182.327477 \nL 317.124543 183.093413 \nL 320.198923 183.852339 \nL 323.273303 184.604158 \nL 326.347683 185.349561 \nL 329.422064 186.08909 \nL 332.496444 186.821092 \nL 335.570824 187.547615 \nL 338.645204 188.267993 \nL 341.719584 188.982029 \nL 344.793964 189.690068 \nL 347.868345 190.392109 \nL 350.942725 191.088894 \nL 354.017105 191.779337 \nL 357.091485 192.46514 \nL 360.165865 193.144428 \nL 363.240245 193.819175 \nL 366.314626 194.488196 \nL 369.389006 195.151763 \n\" style=\"fill:none;stroke:#dd8452;stroke-linecap:round;stroke-width:1.5;\"/>\n   </g>\n   <g id=\"line2d_15\"/>\n   <g id=\"line2d_16\"/>\n   <g id=\"patch_3\">\n    <path d=\"M 49.807187 224.790839 \nL 49.807187 7.350839 \n\" style=\"fill:none;stroke:#ffffff;stroke-linecap:square;stroke-linejoin:miter;stroke-width:1.25;\"/>\n   </g>\n   <g id=\"patch_4\">\n    <path d=\"M 384.607188 224.790839 \nL 384.607188 7.350839 \n\" style=\"fill:none;stroke:#ffffff;stroke-linecap:square;stroke-linejoin:miter;stroke-width:1.25;\"/>\n   </g>\n   <g id=\"patch_5\">\n    <path d=\"M 49.807187 224.790839 \nL 384.607188 224.790839 \n\" style=\"fill:none;stroke:#ffffff;stroke-linecap:square;stroke-linejoin:miter;stroke-width:1.25;\"/>\n   </g>\n   <g id=\"patch_6\">\n    <path d=\"M 49.807187 7.350839 \nL 384.607188 7.350839 \n\" style=\"fill:none;stroke:#ffffff;stroke-linecap:square;stroke-linejoin:miter;stroke-width:1.25;\"/>\n   </g>\n   <g id=\"legend_1\">\n    <g id=\"patch_7\">\n     <path d=\"M 315.198906 65.556464 \nL 376.907188 65.556464 \nQ 379.107188 65.556464 379.107188 63.356464 \nL 379.107188 15.050839 \nQ 379.107188 12.850839 376.907188 12.850839 \nL 315.198906 12.850839 \nQ 312.998906 12.850839 312.998906 15.050839 \nL 312.998906 63.356464 \nQ 312.998906 65.556464 315.198906 65.556464 \nz\n\" style=\"fill:#eaeaf2;opacity:0.8;stroke:#cccccc;stroke-linejoin:miter;\"/>\n    </g>\n    <g id=\"text_15\">\n     <!-- Legend -->\n     <g style=\"fill:#262626;\" transform=\"translate(324.010547 26.368964)scale(0.12 -0.12)\">\n      <defs>\n       <path d=\"M 3597 1894 \nL 3597 1613 \nL 953 1613 \nQ 991 1019 1311 708 \nQ 1631 397 2203 397 \nQ 2534 397 2845 478 \nQ 3156 559 3463 722 \nL 3463 178 \nQ 3153 47 2828 -22 \nQ 2503 -91 2169 -91 \nQ 1331 -91 842 396 \nQ 353 884 353 1716 \nQ 353 2575 817 3079 \nQ 1281 3584 2069 3584 \nQ 2775 3584 3186 3129 \nQ 3597 2675 3597 1894 \nz\nM 3022 2063 \nQ 3016 2534 2758 2815 \nQ 2500 3097 2075 3097 \nQ 1594 3097 1305 2825 \nQ 1016 2553 972 2059 \nL 3022 2063 \nz\n\" id=\"DejaVuSans-65\" transform=\"scale(0.015625)\"/>\n       <path d=\"M 2906 1791 \nQ 2906 2416 2648 2759 \nQ 2391 3103 1925 3103 \nQ 1463 3103 1205 2759 \nQ 947 2416 947 1791 \nQ 947 1169 1205 825 \nQ 1463 481 1925 481 \nQ 2391 481 2648 825 \nQ 2906 1169 2906 1791 \nz\nM 3481 434 \nQ 3481 -459 3084 -895 \nQ 2688 -1331 1869 -1331 \nQ 1566 -1331 1297 -1286 \nQ 1028 -1241 775 -1147 \nL 775 -588 \nQ 1028 -725 1275 -790 \nQ 1522 -856 1778 -856 \nQ 2344 -856 2625 -561 \nQ 2906 -266 2906 331 \nL 2906 616 \nQ 2728 306 2450 153 \nQ 2172 0 1784 0 \nQ 1141 0 747 490 \nQ 353 981 353 1791 \nQ 353 2603 747 3093 \nQ 1141 3584 1784 3584 \nQ 2172 3584 2450 3431 \nQ 2728 3278 2906 2969 \nL 2906 3500 \nL 3481 3500 \nL 3481 434 \nz\n\" id=\"DejaVuSans-67\" transform=\"scale(0.015625)\"/>\n       <path d=\"M 3513 2113 \nL 3513 0 \nL 2938 0 \nL 2938 2094 \nQ 2938 2591 2744 2837 \nQ 2550 3084 2163 3084 \nQ 1697 3084 1428 2787 \nQ 1159 2491 1159 1978 \nL 1159 0 \nL 581 0 \nL 581 3500 \nL 1159 3500 \nL 1159 2956 \nQ 1366 3272 1645 3428 \nQ 1925 3584 2291 3584 \nQ 2894 3584 3203 3211 \nQ 3513 2838 3513 2113 \nz\n\" id=\"DejaVuSans-6e\" transform=\"scale(0.015625)\"/>\n       <path d=\"M 2906 2969 \nL 2906 4863 \nL 3481 4863 \nL 3481 0 \nL 2906 0 \nL 2906 525 \nQ 2725 213 2448 61 \nQ 2172 -91 1784 -91 \nQ 1150 -91 751 415 \nQ 353 922 353 1747 \nQ 353 2572 751 3078 \nQ 1150 3584 1784 3584 \nQ 2172 3584 2448 3432 \nQ 2725 3281 2906 2969 \nz\nM 947 1747 \nQ 947 1113 1208 752 \nQ 1469 391 1925 391 \nQ 2381 391 2643 752 \nQ 2906 1113 2906 1747 \nQ 2906 2381 2643 2742 \nQ 2381 3103 1925 3103 \nQ 1469 3103 1208 2742 \nQ 947 2381 947 1747 \nz\n\" id=\"DejaVuSans-64\" transform=\"scale(0.015625)\"/>\n      </defs>\n      <use xlink:href=\"#DejaVuSans-4c\"/>\n      <use x=\"53.962891\" xlink:href=\"#DejaVuSans-65\"/>\n      <use x=\"115.486328\" xlink:href=\"#DejaVuSans-67\"/>\n      <use x=\"178.962891\" xlink:href=\"#DejaVuSans-65\"/>\n      <use x=\"240.486328\" xlink:href=\"#DejaVuSans-6e\"/>\n      <use x=\"303.865234\" xlink:href=\"#DejaVuSans-64\"/>\n     </g>\n    </g>\n    <g id=\"line2d_17\">\n     <path d=\"M 317.398906 38.87287 \nL 339.398906 38.87287 \n\" style=\"fill:none;stroke:#4c72b0;stroke-linecap:round;stroke-width:1.5;\"/>\n    </g>\n    <g id=\"line2d_18\"/>\n    <g id=\"text_16\">\n     <!-- Train -->\n     <g style=\"fill:#262626;\" transform=\"translate(348.198906 42.72287)scale(0.11 -0.11)\">\n      <defs>\n       <path d=\"M -19 4666 \nL 3928 4666 \nL 3928 4134 \nL 2272 4134 \nL 2272 0 \nL 1638 0 \nL 1638 4134 \nL -19 4134 \nL -19 4666 \nz\n\" id=\"DejaVuSans-54\" transform=\"scale(0.015625)\"/>\n       <path d=\"M 2631 2963 \nQ 2534 3019 2420 3045 \nQ 2306 3072 2169 3072 \nQ 1681 3072 1420 2755 \nQ 1159 2438 1159 1844 \nL 1159 0 \nL 581 0 \nL 581 3500 \nL 1159 3500 \nL 1159 2956 \nQ 1341 3275 1631 3429 \nQ 1922 3584 2338 3584 \nQ 2397 3584 2469 3576 \nQ 2541 3569 2628 3553 \nL 2631 2963 \nz\n\" id=\"DejaVuSans-72\" transform=\"scale(0.015625)\"/>\n       <path d=\"M 2194 1759 \nQ 1497 1759 1228 1600 \nQ 959 1441 959 1056 \nQ 959 750 1161 570 \nQ 1363 391 1709 391 \nQ 2188 391 2477 730 \nQ 2766 1069 2766 1631 \nL 2766 1759 \nL 2194 1759 \nz\nM 3341 1997 \nL 3341 0 \nL 2766 0 \nL 2766 531 \nQ 2569 213 2275 61 \nQ 1981 -91 1556 -91 \nQ 1019 -91 701 211 \nQ 384 513 384 1019 \nQ 384 1609 779 1909 \nQ 1175 2209 1959 2209 \nL 2766 2209 \nL 2766 2266 \nQ 2766 2663 2505 2880 \nQ 2244 3097 1772 3097 \nQ 1472 3097 1187 3025 \nQ 903 2953 641 2809 \nL 641 3341 \nQ 956 3463 1253 3523 \nQ 1550 3584 1831 3584 \nQ 2591 3584 2966 3190 \nQ 3341 2797 3341 1997 \nz\n\" id=\"DejaVuSans-61\" transform=\"scale(0.015625)\"/>\n       <path d=\"M 603 3500 \nL 1178 3500 \nL 1178 0 \nL 603 0 \nL 603 3500 \nz\nM 603 4863 \nL 1178 4863 \nL 1178 4134 \nL 603 4134 \nL 603 4863 \nz\n\" id=\"DejaVuSans-69\" transform=\"scale(0.015625)\"/>\n      </defs>\n      <use xlink:href=\"#DejaVuSans-54\"/>\n      <use x=\"46.333984\" xlink:href=\"#DejaVuSans-72\"/>\n      <use x=\"87.447266\" xlink:href=\"#DejaVuSans-61\"/>\n      <use x=\"148.726562\" xlink:href=\"#DejaVuSans-69\"/>\n      <use x=\"176.509766\" xlink:href=\"#DejaVuSans-6e\"/>\n     </g>\n    </g>\n    <g id=\"line2d_19\">\n     <path d=\"M 317.398906 55.018807 \nL 339.398906 55.018807 \n\" style=\"fill:none;stroke:#dd8452;stroke-linecap:round;stroke-width:1.5;\"/>\n    </g>\n    <g id=\"line2d_20\"/>\n    <g id=\"text_17\">\n     <!-- Valid -->\n     <g style=\"fill:#262626;\" transform=\"translate(348.198906 58.868807)scale(0.11 -0.11)\">\n      <defs>\n       <path d=\"M 1831 0 \nL 50 4666 \nL 709 4666 \nL 2188 738 \nL 3669 4666 \nL 4325 4666 \nL 2547 0 \nL 1831 0 \nz\n\" id=\"DejaVuSans-56\" transform=\"scale(0.015625)\"/>\n       <path d=\"M 603 4863 \nL 1178 4863 \nL 1178 0 \nL 603 0 \nL 603 4863 \nz\n\" id=\"DejaVuSans-6c\" transform=\"scale(0.015625)\"/>\n      </defs>\n      <use xlink:href=\"#DejaVuSans-56\"/>\n      <use x=\"60.658203\" xlink:href=\"#DejaVuSans-61\"/>\n      <use x=\"121.9375\" xlink:href=\"#DejaVuSans-6c\"/>\n      <use x=\"149.720703\" xlink:href=\"#DejaVuSans-69\"/>\n      <use x=\"177.503906\" xlink:href=\"#DejaVuSans-64\"/>\n     </g>\n    </g>\n   </g>\n  </g>\n </g>\n <defs>\n  <clipPath id=\"p8beb83e9d3\">\n   <rect height=\"217.44\" width=\"334.8\" x=\"49.807187\" y=\"7.350839\"/>\n  </clipPath>\n </defs>\n</svg>\n",
            "image/png": "[encoded data removed]"
          },
          "metadata": {
            "tags": []
          }
        },
        {
          "output_type": "display_data",
          "data": {
            "text/plain": [
              "<Figure size 432x288 with 1 Axes>"
            ],
            "image/svg+xml": "<?xml version=\"1.0\" encoding=\"utf-8\" standalone=\"no\"?>\n<!DOCTYPE svg PUBLIC \"-//W3C//DTD SVG 1.1//EN\"\n  \"http://www.w3.org/Graphics/SVG/1.1/DTD/svg11.dtd\">\n<svg height=\"270.800983pt\" version=\"1.1\" viewBox=\"0 0 391.807187 270.800983\" width=\"391.807187pt\" xmlns=\"http://www.w3.org/2000/svg\" xmlns:xlink=\"http://www.w3.org/1999/xlink\">\n <metadata>\n  <rdf:RDF xmlns:cc=\"http://creativecommons.org/ns#\" xmlns:dc=\"http://purl.org/dc/elements/1.1/\" xmlns:rdf=\"http://www.w3.org/1999/02/22-rdf-syntax-ns#\">\n   <cc:Work>\n    <dc:type rdf:resource=\"http://purl.org/dc/dcmitype/StillImage\"/>\n    <dc:date>2021-04-27T23:00:21.177258</dc:date>\n    <dc:format>image/svg+xml</dc:format>\n    <dc:creator>\n     <cc:Agent>\n      <dc:title>Matplotlib v3.4.1, https://matplotlib.org/</dc:title>\n     </cc:Agent>\n    </dc:creator>\n   </cc:Work>\n  </rdf:RDF>\n </metadata>\n <defs>\n  <style type=\"text/css\">*{stroke-linecap:butt;stroke-linejoin:round;}</style>\n </defs>\n <g id=\"figure_1\">\n  <g id=\"patch_1\">\n   <path d=\"M 0 270.800983 \nL 391.807187 270.800983 \nL 391.807187 0 \nL 0 0 \nz\n\" style=\"fill:#ffffff;\"/>\n  </g>\n  <g id=\"axes_1\">\n   <g id=\"patch_2\">\n    <path d=\"M 49.807187 227.841296 \nL 384.607188 227.841296 \nL 384.607188 10.401296 \nL 49.807187 10.401296 \nz\n\" style=\"fill:#eaeaf2;\"/>\n   </g>\n   <g id=\"matplotlib.axis_1\">\n    <g id=\"xtick_1\">\n     <g id=\"line2d_1\">\n      <path clip-path=\"url(#pda292f71be)\" d=\"M 61.950989 227.841296 \nL 61.950989 10.401296 \n\" style=\"fill:none;stroke:#ffffff;stroke-linecap:round;\"/>\n     </g>\n     <g id=\"text_1\">\n      <!-- 0 -->\n      <g style=\"fill:#262626;\" transform=\"translate(58.451614 245.699577)scale(0.11 -0.11)\">\n       <defs>\n        <path d=\"M 2034 4250 \nQ 1547 4250 1301 3770 \nQ 1056 3291 1056 2328 \nQ 1056 1369 1301 889 \nQ 1547 409 2034 409 \nQ 2525 409 2770 889 \nQ 3016 1369 3016 2328 \nQ 3016 3291 2770 3770 \nQ 2525 4250 2034 4250 \nz\nM 2034 4750 \nQ 2819 4750 3233 4129 \nQ 3647 3509 3647 2328 \nQ 3647 1150 3233 529 \nQ 2819 -91 2034 -91 \nQ 1250 -91 836 529 \nQ 422 1150 422 2328 \nQ 422 3509 836 4129 \nQ 1250 4750 2034 4750 \nz\n\" id=\"DejaVuSans-30\" transform=\"scale(0.015625)\"/>\n       </defs>\n       <use xlink:href=\"#DejaVuSans-30\"/>\n      </g>\n     </g>\n    </g>\n    <g id=\"xtick_2\">\n     <g id=\"line2d_2\">\n      <path clip-path=\"url(#pda292f71be)\" d=\"M 123.438592 227.841296 \nL 123.438592 10.401296 \n\" style=\"fill:none;stroke:#ffffff;stroke-linecap:round;\"/>\n     </g>\n     <g id=\"text_2\">\n      <!-- 20 -->\n      <g style=\"fill:#262626;\" transform=\"translate(116.439842 245.699577)scale(0.11 -0.11)\">\n       <defs>\n        <path d=\"M 1228 531 \nL 3431 531 \nL 3431 0 \nL 469 0 \nL 469 531 \nQ 828 903 1448 1529 \nQ 2069 2156 2228 2338 \nQ 2531 2678 2651 2914 \nQ 2772 3150 2772 3378 \nQ 2772 3750 2511 3984 \nQ 2250 4219 1831 4219 \nQ 1534 4219 1204 4116 \nQ 875 4013 500 3803 \nL 500 4441 \nQ 881 4594 1212 4672 \nQ 1544 4750 1819 4750 \nQ 2544 4750 2975 4387 \nQ 3406 4025 3406 3419 \nQ 3406 3131 3298 2873 \nQ 3191 2616 2906 2266 \nQ 2828 2175 2409 1742 \nQ 1991 1309 1228 531 \nz\n\" id=\"DejaVuSans-32\" transform=\"scale(0.015625)\"/>\n       </defs>\n       <use xlink:href=\"#DejaVuSans-32\"/>\n       <use x=\"63.623047\" xlink:href=\"#DejaVuSans-30\"/>\n      </g>\n     </g>\n    </g>\n    <g id=\"xtick_3\">\n     <g id=\"line2d_3\">\n      <path clip-path=\"url(#pda292f71be)\" d=\"M 184.926196 227.841296 \nL 184.926196 10.401296 \n\" style=\"fill:none;stroke:#ffffff;stroke-linecap:round;\"/>\n     </g>\n     <g id=\"text_3\">\n      <!-- 40 -->\n      <g style=\"fill:#262626;\" transform=\"translate(177.927446 245.699577)scale(0.11 -0.11)\">\n       <defs>\n        <path d=\"M 2419 4116 \nL 825 1625 \nL 2419 1625 \nL 2419 4116 \nz\nM 2253 4666 \nL 3047 4666 \nL 3047 1625 \nL 3713 1625 \nL 3713 1100 \nL 3047 1100 \nL 3047 0 \nL 2419 0 \nL 2419 1100 \nL 313 1100 \nL 313 1709 \nL 2253 4666 \nz\n\" id=\"DejaVuSans-34\" transform=\"scale(0.015625)\"/>\n       </defs>\n       <use xlink:href=\"#DejaVuSans-34\"/>\n       <use x=\"63.623047\" xlink:href=\"#DejaVuSans-30\"/>\n      </g>\n     </g>\n    </g>\n    <g id=\"xtick_4\">\n     <g id=\"line2d_4\">\n      <path clip-path=\"url(#pda292f71be)\" d=\"M 246.413799 227.841296 \nL 246.413799 10.401296 \n\" style=\"fill:none;stroke:#ffffff;stroke-linecap:round;\"/>\n     </g>\n     <g id=\"text_4\">\n      <!-- 60 -->\n      <g style=\"fill:#262626;\" transform=\"translate(239.415049 245.699577)scale(0.11 -0.11)\">\n       <defs>\n        <path d=\"M 2113 2584 \nQ 1688 2584 1439 2293 \nQ 1191 2003 1191 1497 \nQ 1191 994 1439 701 \nQ 1688 409 2113 409 \nQ 2538 409 2786 701 \nQ 3034 994 3034 1497 \nQ 3034 2003 2786 2293 \nQ 2538 2584 2113 2584 \nz\nM 3366 4563 \nL 3366 3988 \nQ 3128 4100 2886 4159 \nQ 2644 4219 2406 4219 \nQ 1781 4219 1451 3797 \nQ 1122 3375 1075 2522 \nQ 1259 2794 1537 2939 \nQ 1816 3084 2150 3084 \nQ 2853 3084 3261 2657 \nQ 3669 2231 3669 1497 \nQ 3669 778 3244 343 \nQ 2819 -91 2113 -91 \nQ 1303 -91 875 529 \nQ 447 1150 447 2328 \nQ 447 3434 972 4092 \nQ 1497 4750 2381 4750 \nQ 2619 4750 2861 4703 \nQ 3103 4656 3366 4563 \nz\n\" id=\"DejaVuSans-36\" transform=\"scale(0.015625)\"/>\n       </defs>\n       <use xlink:href=\"#DejaVuSans-36\"/>\n       <use x=\"63.623047\" xlink:href=\"#DejaVuSans-30\"/>\n      </g>\n     </g>\n    </g>\n    <g id=\"xtick_5\">\n     <g id=\"line2d_5\">\n      <path clip-path=\"url(#pda292f71be)\" d=\"M 307.901402 227.841296 \nL 307.901402 10.401296 \n\" style=\"fill:none;stroke:#ffffff;stroke-linecap:round;\"/>\n     </g>\n     <g id=\"text_5\">\n      <!-- 80 -->\n      <g style=\"fill:#262626;\" transform=\"translate(300.902652 245.699577)scale(0.11 -0.11)\">\n       <defs>\n        <path d=\"M 2034 2216 \nQ 1584 2216 1326 1975 \nQ 1069 1734 1069 1313 \nQ 1069 891 1326 650 \nQ 1584 409 2034 409 \nQ 2484 409 2743 651 \nQ 3003 894 3003 1313 \nQ 3003 1734 2745 1975 \nQ 2488 2216 2034 2216 \nz\nM 1403 2484 \nQ 997 2584 770 2862 \nQ 544 3141 544 3541 \nQ 544 4100 942 4425 \nQ 1341 4750 2034 4750 \nQ 2731 4750 3128 4425 \nQ 3525 4100 3525 3541 \nQ 3525 3141 3298 2862 \nQ 3072 2584 2669 2484 \nQ 3125 2378 3379 2068 \nQ 3634 1759 3634 1313 \nQ 3634 634 3220 271 \nQ 2806 -91 2034 -91 \nQ 1263 -91 848 271 \nQ 434 634 434 1313 \nQ 434 1759 690 2068 \nQ 947 2378 1403 2484 \nz\nM 1172 3481 \nQ 1172 3119 1398 2916 \nQ 1625 2713 2034 2713 \nQ 2441 2713 2670 2916 \nQ 2900 3119 2900 3481 \nQ 2900 3844 2670 4047 \nQ 2441 4250 2034 4250 \nQ 1625 4250 1398 4047 \nQ 1172 3844 1172 3481 \nz\n\" id=\"DejaVuSans-38\" transform=\"scale(0.015625)\"/>\n       </defs>\n       <use xlink:href=\"#DejaVuSans-38\"/>\n       <use x=\"63.623047\" xlink:href=\"#DejaVuSans-30\"/>\n      </g>\n     </g>\n    </g>\n    <g id=\"xtick_6\">\n     <g id=\"line2d_6\">\n      <path clip-path=\"url(#pda292f71be)\" d=\"M 369.389006 227.841296 \nL 369.389006 10.401296 \n\" style=\"fill:none;stroke:#ffffff;stroke-linecap:round;\"/>\n     </g>\n     <g id=\"text_6\">\n      <!-- 100 -->\n      <g style=\"fill:#262626;\" transform=\"translate(358.890881 245.699577)scale(0.11 -0.11)\">\n       <defs>\n        <path d=\"M 794 531 \nL 1825 531 \nL 1825 4091 \nL 703 3866 \nL 703 4441 \nL 1819 4666 \nL 2450 4666 \nL 2450 531 \nL 3481 531 \nL 3481 0 \nL 794 0 \nL 794 531 \nz\n\" id=\"DejaVuSans-31\" transform=\"scale(0.015625)\"/>\n       </defs>\n       <use xlink:href=\"#DejaVuSans-31\"/>\n       <use x=\"63.623047\" xlink:href=\"#DejaVuSans-30\"/>\n       <use x=\"127.246094\" xlink:href=\"#DejaVuSans-30\"/>\n      </g>\n     </g>\n    </g>\n    <g id=\"text_7\">\n     <!-- Epoch -->\n     <g style=\"fill:#262626;\" transform=\"translate(198.834063 261.105358)scale(0.12 -0.12)\">\n      <defs>\n       <path d=\"M 628 4666 \nL 3578 4666 \nL 3578 4134 \nL 1259 4134 \nL 1259 2753 \nL 3481 2753 \nL 3481 2222 \nL 1259 2222 \nL 1259 531 \nL 3634 531 \nL 3634 0 \nL 628 0 \nL 628 4666 \nz\n\" id=\"DejaVuSans-45\" transform=\"scale(0.015625)\"/>\n       <path d=\"M 1159 525 \nL 1159 -1331 \nL 581 -1331 \nL 581 3500 \nL 1159 3500 \nL 1159 2969 \nQ 1341 3281 1617 3432 \nQ 1894 3584 2278 3584 \nQ 2916 3584 3314 3078 \nQ 3713 2572 3713 1747 \nQ 3713 922 3314 415 \nQ 2916 -91 2278 -91 \nQ 1894 -91 1617 61 \nQ 1341 213 1159 525 \nz\nM 3116 1747 \nQ 3116 2381 2855 2742 \nQ 2594 3103 2138 3103 \nQ 1681 3103 1420 2742 \nQ 1159 2381 1159 1747 \nQ 1159 1113 1420 752 \nQ 1681 391 2138 391 \nQ 2594 391 2855 752 \nQ 3116 1113 3116 1747 \nz\n\" id=\"DejaVuSans-70\" transform=\"scale(0.015625)\"/>\n       <path d=\"M 1959 3097 \nQ 1497 3097 1228 2736 \nQ 959 2375 959 1747 \nQ 959 1119 1226 758 \nQ 1494 397 1959 397 \nQ 2419 397 2687 759 \nQ 2956 1122 2956 1747 \nQ 2956 2369 2687 2733 \nQ 2419 3097 1959 3097 \nz\nM 1959 3584 \nQ 2709 3584 3137 3096 \nQ 3566 2609 3566 1747 \nQ 3566 888 3137 398 \nQ 2709 -91 1959 -91 \nQ 1206 -91 779 398 \nQ 353 888 353 1747 \nQ 353 2609 779 3096 \nQ 1206 3584 1959 3584 \nz\n\" id=\"DejaVuSans-6f\" transform=\"scale(0.015625)\"/>\n       <path d=\"M 3122 3366 \nL 3122 2828 \nQ 2878 2963 2633 3030 \nQ 2388 3097 2138 3097 \nQ 1578 3097 1268 2742 \nQ 959 2388 959 1747 \nQ 959 1106 1268 751 \nQ 1578 397 2138 397 \nQ 2388 397 2633 464 \nQ 2878 531 3122 666 \nL 3122 134 \nQ 2881 22 2623 -34 \nQ 2366 -91 2075 -91 \nQ 1284 -91 818 406 \nQ 353 903 353 1747 \nQ 353 2603 823 3093 \nQ 1294 3584 2113 3584 \nQ 2378 3584 2631 3529 \nQ 2884 3475 3122 3366 \nz\n\" id=\"DejaVuSans-63\" transform=\"scale(0.015625)\"/>\n       <path d=\"M 3513 2113 \nL 3513 0 \nL 2938 0 \nL 2938 2094 \nQ 2938 2591 2744 2837 \nQ 2550 3084 2163 3084 \nQ 1697 3084 1428 2787 \nQ 1159 2491 1159 1978 \nL 1159 0 \nL 581 0 \nL 581 4863 \nL 1159 4863 \nL 1159 2956 \nQ 1366 3272 1645 3428 \nQ 1925 3584 2291 3584 \nQ 2894 3584 3203 3211 \nQ 3513 2838 3513 2113 \nz\n\" id=\"DejaVuSans-68\" transform=\"scale(0.015625)\"/>\n      </defs>\n      <use xlink:href=\"#DejaVuSans-45\"/>\n      <use x=\"63.183594\" xlink:href=\"#DejaVuSans-70\"/>\n      <use x=\"126.660156\" xlink:href=\"#DejaVuSans-6f\"/>\n      <use x=\"187.841797\" xlink:href=\"#DejaVuSans-63\"/>\n      <use x=\"242.822266\" xlink:href=\"#DejaVuSans-68\"/>\n     </g>\n    </g>\n   </g>\n   <g id=\"matplotlib.axis_2\">\n    <g id=\"ytick_1\">\n     <g id=\"line2d_7\">\n      <path clip-path=\"url(#pda292f71be)\" d=\"M 49.807187 219.258855 \nL 384.607188 219.258855 \n\" style=\"fill:none;stroke:#ffffff;stroke-linecap:round;\"/>\n     </g>\n     <g id=\"text_8\">\n      <!-- 0.3 -->\n      <g style=\"fill:#262626;\" transform=\"translate(22.81375 223.437996)scale(0.11 -0.11)\">\n       <defs>\n        <path d=\"M 684 794 \nL 1344 794 \nL 1344 0 \nL 684 0 \nL 684 794 \nz\n\" id=\"DejaVuSans-2e\" transform=\"scale(0.015625)\"/>\n        <path d=\"M 2597 2516 \nQ 3050 2419 3304 2112 \nQ 3559 1806 3559 1356 \nQ 3559 666 3084 287 \nQ 2609 -91 1734 -91 \nQ 1441 -91 1130 -33 \nQ 819 25 488 141 \nL 488 750 \nQ 750 597 1062 519 \nQ 1375 441 1716 441 \nQ 2309 441 2620 675 \nQ 2931 909 2931 1356 \nQ 2931 1769 2642 2001 \nQ 2353 2234 1838 2234 \nL 1294 2234 \nL 1294 2753 \nL 1863 2753 \nQ 2328 2753 2575 2939 \nQ 2822 3125 2822 3475 \nQ 2822 3834 2567 4026 \nQ 2313 4219 1838 4219 \nQ 1578 4219 1281 4162 \nQ 984 4106 628 3988 \nL 628 4550 \nQ 988 4650 1302 4700 \nQ 1616 4750 1894 4750 \nQ 2613 4750 3031 4423 \nQ 3450 4097 3450 3541 \nQ 3450 3153 3228 2886 \nQ 3006 2619 2597 2516 \nz\n\" id=\"DejaVuSans-33\" transform=\"scale(0.015625)\"/>\n       </defs>\n       <use xlink:href=\"#DejaVuSans-30\"/>\n       <use x=\"63.623047\" xlink:href=\"#DejaVuSans-2e\"/>\n       <use x=\"95.410156\" xlink:href=\"#DejaVuSans-33\"/>\n      </g>\n     </g>\n    </g>\n    <g id=\"ytick_2\">\n     <g id=\"line2d_8\">\n      <path clip-path=\"url(#pda292f71be)\" d=\"M 49.807187 177.682912 \nL 384.607188 177.682912 \n\" style=\"fill:none;stroke:#ffffff;stroke-linecap:round;\"/>\n     </g>\n     <g id=\"text_9\">\n      <!-- 0.4 -->\n      <g style=\"fill:#262626;\" transform=\"translate(22.81375 181.862053)scale(0.11 -0.11)\">\n       <use xlink:href=\"#DejaVuSans-30\"/>\n       <use x=\"63.623047\" xlink:href=\"#DejaVuSans-2e\"/>\n       <use x=\"95.410156\" xlink:href=\"#DejaVuSans-34\"/>\n      </g>\n     </g>\n    </g>\n    <g id=\"ytick_3\">\n     <g id=\"line2d_9\">\n      <path clip-path=\"url(#pda292f71be)\" d=\"M 49.807187 136.106969 \nL 384.607188 136.106969 \n\" style=\"fill:none;stroke:#ffffff;stroke-linecap:round;\"/>\n     </g>\n     <g id=\"text_10\">\n      <!-- 0.5 -->\n      <g style=\"fill:#262626;\" transform=\"translate(22.81375 140.28611)scale(0.11 -0.11)\">\n       <defs>\n        <path d=\"M 691 4666 \nL 3169 4666 \nL 3169 4134 \nL 1269 4134 \nL 1269 2991 \nQ 1406 3038 1543 3061 \nQ 1681 3084 1819 3084 \nQ 2600 3084 3056 2656 \nQ 3513 2228 3513 1497 \nQ 3513 744 3044 326 \nQ 2575 -91 1722 -91 \nQ 1428 -91 1123 -41 \nQ 819 9 494 109 \nL 494 744 \nQ 775 591 1075 516 \nQ 1375 441 1709 441 \nQ 2250 441 2565 725 \nQ 2881 1009 2881 1497 \nQ 2881 1984 2565 2268 \nQ 2250 2553 1709 2553 \nQ 1456 2553 1204 2497 \nQ 953 2441 691 2322 \nL 691 4666 \nz\n\" id=\"DejaVuSans-35\" transform=\"scale(0.015625)\"/>\n       </defs>\n       <use xlink:href=\"#DejaVuSans-30\"/>\n       <use x=\"63.623047\" xlink:href=\"#DejaVuSans-2e\"/>\n       <use x=\"95.410156\" xlink:href=\"#DejaVuSans-35\"/>\n      </g>\n     </g>\n    </g>\n    <g id=\"ytick_4\">\n     <g id=\"line2d_10\">\n      <path clip-path=\"url(#pda292f71be)\" d=\"M 49.807187 94.531027 \nL 384.607188 94.531027 \n\" style=\"fill:none;stroke:#ffffff;stroke-linecap:round;\"/>\n     </g>\n     <g id=\"text_11\">\n      <!-- 0.6 -->\n      <g style=\"fill:#262626;\" transform=\"translate(22.81375 98.710167)scale(0.11 -0.11)\">\n       <use xlink:href=\"#DejaVuSans-30\"/>\n       <use x=\"63.623047\" xlink:href=\"#DejaVuSans-2e\"/>\n       <use x=\"95.410156\" xlink:href=\"#DejaVuSans-36\"/>\n      </g>\n     </g>\n    </g>\n    <g id=\"ytick_5\">\n     <g id=\"line2d_11\">\n      <path clip-path=\"url(#pda292f71be)\" d=\"M 49.807187 52.955084 \nL 384.607188 52.955084 \n\" style=\"fill:none;stroke:#ffffff;stroke-linecap:round;\"/>\n     </g>\n     <g id=\"text_12\">\n      <!-- 0.7 -->\n      <g style=\"fill:#262626;\" transform=\"translate(22.81375 57.134224)scale(0.11 -0.11)\">\n       <defs>\n        <path d=\"M 525 4666 \nL 3525 4666 \nL 3525 4397 \nL 1831 0 \nL 1172 0 \nL 2766 4134 \nL 525 4134 \nL 525 4666 \nz\n\" id=\"DejaVuSans-37\" transform=\"scale(0.015625)\"/>\n       </defs>\n       <use xlink:href=\"#DejaVuSans-30\"/>\n       <use x=\"63.623047\" xlink:href=\"#DejaVuSans-2e\"/>\n       <use x=\"95.410156\" xlink:href=\"#DejaVuSans-37\"/>\n      </g>\n     </g>\n    </g>\n    <g id=\"ytick_6\">\n     <g id=\"line2d_12\">\n      <path clip-path=\"url(#pda292f71be)\" d=\"M 49.807187 11.379141 \nL 384.607188 11.379141 \n\" style=\"fill:none;stroke:#ffffff;stroke-linecap:round;\"/>\n     </g>\n     <g id=\"text_13\">\n      <!-- 0.8 -->\n      <g style=\"fill:#262626;\" transform=\"translate(22.81375 15.558281)scale(0.11 -0.11)\">\n       <use xlink:href=\"#DejaVuSans-30\"/>\n       <use x=\"63.623047\" xlink:href=\"#DejaVuSans-2e\"/>\n       <use x=\"95.410156\" xlink:href=\"#DejaVuSans-38\"/>\n      </g>\n     </g>\n    </g>\n    <g id=\"text_14\">\n     <!-- Accuracy -->\n     <g style=\"fill:#262626;\" transform=\"translate(16.318125 146.515046)rotate(-90)scale(0.12 -0.12)\">\n      <defs>\n       <path d=\"M 2188 4044 \nL 1331 1722 \nL 3047 1722 \nL 2188 4044 \nz\nM 1831 4666 \nL 2547 4666 \nL 4325 0 \nL 3669 0 \nL 3244 1197 \nL 1141 1197 \nL 716 0 \nL 50 0 \nL 1831 4666 \nz\n\" id=\"DejaVuSans-41\" transform=\"scale(0.015625)\"/>\n       <path d=\"M 544 1381 \nL 544 3500 \nL 1119 3500 \nL 1119 1403 \nQ 1119 906 1312 657 \nQ 1506 409 1894 409 \nQ 2359 409 2629 706 \nQ 2900 1003 2900 1516 \nL 2900 3500 \nL 3475 3500 \nL 3475 0 \nL 2900 0 \nL 2900 538 \nQ 2691 219 2414 64 \nQ 2138 -91 1772 -91 \nQ 1169 -91 856 284 \nQ 544 659 544 1381 \nz\nM 1991 3584 \nL 1991 3584 \nz\n\" id=\"DejaVuSans-75\" transform=\"scale(0.015625)\"/>\n       <path d=\"M 2631 2963 \nQ 2534 3019 2420 3045 \nQ 2306 3072 2169 3072 \nQ 1681 3072 1420 2755 \nQ 1159 2438 1159 1844 \nL 1159 0 \nL 581 0 \nL 581 3500 \nL 1159 3500 \nL 1159 2956 \nQ 1341 3275 1631 3429 \nQ 1922 3584 2338 3584 \nQ 2397 3584 2469 3576 \nQ 2541 3569 2628 3553 \nL 2631 2963 \nz\n\" id=\"DejaVuSans-72\" transform=\"scale(0.015625)\"/>\n       <path d=\"M 2194 1759 \nQ 1497 1759 1228 1600 \nQ 959 1441 959 1056 \nQ 959 750 1161 570 \nQ 1363 391 1709 391 \nQ 2188 391 2477 730 \nQ 2766 1069 2766 1631 \nL 2766 1759 \nL 2194 1759 \nz\nM 3341 1997 \nL 3341 0 \nL 2766 0 \nL 2766 531 \nQ 2569 213 2275 61 \nQ 1981 -91 1556 -91 \nQ 1019 -91 701 211 \nQ 384 513 384 1019 \nQ 384 1609 779 1909 \nQ 1175 2209 1959 2209 \nL 2766 2209 \nL 2766 2266 \nQ 2766 2663 2505 2880 \nQ 2244 3097 1772 3097 \nQ 1472 3097 1187 3025 \nQ 903 2953 641 2809 \nL 641 3341 \nQ 956 3463 1253 3523 \nQ 1550 3584 1831 3584 \nQ 2591 3584 2966 3190 \nQ 3341 2797 3341 1997 \nz\n\" id=\"DejaVuSans-61\" transform=\"scale(0.015625)\"/>\n       <path d=\"M 2059 -325 \nQ 1816 -950 1584 -1140 \nQ 1353 -1331 966 -1331 \nL 506 -1331 \nL 506 -850 \nL 844 -850 \nQ 1081 -850 1212 -737 \nQ 1344 -625 1503 -206 \nL 1606 56 \nL 191 3500 \nL 800 3500 \nL 1894 763 \nL 2988 3500 \nL 3597 3500 \nL 2059 -325 \nz\n\" id=\"DejaVuSans-79\" transform=\"scale(0.015625)\"/>\n      </defs>\n      <use xlink:href=\"#DejaVuSans-41\"/>\n      <use x=\"66.658203\" xlink:href=\"#DejaVuSans-63\"/>\n      <use x=\"121.638672\" xlink:href=\"#DejaVuSans-63\"/>\n      <use x=\"176.619141\" xlink:href=\"#DejaVuSans-75\"/>\n      <use x=\"239.998047\" xlink:href=\"#DejaVuSans-72\"/>\n      <use x=\"281.111328\" xlink:href=\"#DejaVuSans-61\"/>\n      <use x=\"342.390625\" xlink:href=\"#DejaVuSans-63\"/>\n      <use x=\"397.371094\" xlink:href=\"#DejaVuSans-79\"/>\n     </g>\n    </g>\n   </g>\n   <g id=\"line2d_13\">\n    <path clip-path=\"url(#pda292f71be)\" d=\"M 65.025369 217.957659 \nL 68.099749 185.700462 \nL 71.17413 165.169613 \nL 74.24851 144.91147 \nL 77.32289 123.289798 \nL 80.39727 103.927688 \nL 83.47165 87.40951 \nL 86.54603 74.826087 \nL 89.620411 64.073688 \nL 92.694791 56.437926 \nL 95.769171 51.412348 \nL 98.843551 47.555509 \nL 101.917931 44.166166 \nL 104.992311 41.906604 \nL 108.066692 39.569126 \nL 111.141072 37.58227 \nL 114.215452 35.984993 \nL 117.289832 34.89417 \nL 120.364212 33.998137 \nL 123.438592 32.673566 \nL 126.512973 31.933364 \nL 129.587353 30.569835 \nL 132.661733 29.673802 \nL 135.736113 28.855685 \nL 138.810493 28.232357 \nL 141.884873 27.647988 \nL 144.959254 27.180492 \nL 148.033634 26.751955 \nL 151.108014 26.362375 \nL 154.182394 25.778005 \nL 157.256774 25.427384 \nL 160.331154 25.11572 \nL 163.405535 24.765098 \nL 166.479915 24.570308 \nL 169.554295 24.336561 \nL 172.628675 24.024897 \nL 175.703055 23.830107 \nL 178.777435 23.713233 \nL 181.851816 23.752191 \nL 184.926196 23.596359 \nL 188.000576 23.284696 \nL 191.074956 23.050948 \nL 194.149336 22.934074 \nL 197.223716 22.661368 \nL 200.298097 22.544494 \nL 203.372477 22.23283 \nL 206.446857 22.076999 \nL 209.521237 22.038041 \nL 212.595617 22.038041 \nL 215.669997 21.999083 \nL 218.744378 21.921167 \nL 221.818758 21.843251 \nL 224.893138 21.726377 \nL 227.967518 21.570545 \nL 231.041898 21.531587 \nL 234.116278 21.531587 \nL 237.190659 21.492629 \nL 240.265039 21.336797 \nL 243.339419 21.297839 \nL 246.413799 21.180965 \nL 249.488179 21.103049 \nL 252.562559 21.142007 \nL 255.63694 21.103049 \nL 258.71132 21.180965 \nL 261.7857 21.180965 \nL 264.86008 21.103049 \nL 267.93446 21.064091 \nL 271.00884 21.025133 \nL 274.083221 20.986175 \nL 277.157601 20.986175 \nL 280.231981 21.064091 \nL 283.306361 21.025133 \nL 286.380741 21.103049 \nL 289.455121 21.142007 \nL 292.529502 21.103049 \nL 295.603882 21.103049 \nL 298.678262 20.986175 \nL 301.752642 20.986175 \nL 304.827022 20.986175 \nL 307.901402 20.947217 \nL 310.975783 20.869302 \nL 314.050163 20.674512 \nL 317.124543 20.596596 \nL 320.198923 20.596596 \nL 323.273303 20.674512 \nL 326.347683 20.596596 \nL 329.422064 20.596596 \nL 332.496444 20.51868 \nL 335.570824 20.362848 \nL 338.645204 20.362848 \nL 341.719584 20.284932 \nL 344.793964 20.32389 \nL 347.868345 20.32389 \nL 350.942725 20.362848 \nL 354.017105 20.362848 \nL 357.091485 20.362848 \nL 360.165865 20.401806 \nL 363.240245 20.401806 \nL 366.314626 20.440764 \nL 369.389006 20.362848 \n\" style=\"fill:none;stroke:#4c72b0;stroke-linecap:round;stroke-width:1.5;\"/>\n   </g>\n   <g id=\"line2d_14\">\n    <path clip-path=\"url(#pda292f71be)\" d=\"M 65.025369 217.451206 \nL 68.099749 189.089805 \nL 71.17413 170.078317 \nL 74.24851 153.248475 \nL 77.32289 128.315376 \nL 80.39727 109.615552 \nL 83.47165 94.655692 \nL 86.54603 83.747461 \nL 89.620411 73.774221 \nL 92.694791 67.85261 \nL 95.769171 64.735973 \nL 98.843551 61.619336 \nL 101.917931 57.567707 \nL 104.992311 55.074397 \nL 108.066692 54.139406 \nL 111.141072 53.516078 \nL 114.215452 51.022768 \nL 117.289832 50.711105 \nL 120.364212 49.776113 \nL 123.438592 49.152786 \nL 126.512973 47.594467 \nL 129.587353 46.659476 \nL 132.661733 46.347812 \nL 135.736113 45.412821 \nL 138.810493 42.919511 \nL 141.884873 41.361192 \nL 144.959254 40.737865 \nL 148.033634 39.179546 \nL 151.108014 39.179546 \nL 154.182394 37.309564 \nL 157.256774 36.9979 \nL 160.331154 36.686236 \nL 163.405535 36.062909 \nL 166.479915 36.686236 \nL 169.554295 36.374573 \nL 172.628675 36.062909 \nL 175.703055 35.439581 \nL 178.777435 34.50459 \nL 181.851816 34.816254 \nL 184.926196 35.127918 \nL 188.000576 34.816254 \nL 191.074956 34.50459 \nL 194.149336 34.192926 \nL 197.223716 34.192926 \nL 200.298097 33.569599 \nL 203.372477 33.257935 \nL 206.446857 32.946271 \nL 209.521237 32.946271 \nL 212.595617 32.634608 \nL 215.669997 32.634608 \nL 218.744378 32.634608 \nL 221.818758 32.322944 \nL 224.893138 32.01128 \nL 227.967518 31.699616 \nL 231.041898 31.699616 \nL 234.116278 31.699616 \nL 237.190659 31.387953 \nL 240.265039 31.387953 \nL 243.339419 31.387953 \nL 246.413799 31.387953 \nL 249.488179 31.387953 \nL 252.562559 31.699616 \nL 255.63694 31.076289 \nL 258.71132 30.764625 \nL 261.7857 30.764625 \nL 264.86008 30.452962 \nL 267.93446 30.452962 \nL 271.00884 30.141298 \nL 274.083221 30.141298 \nL 277.157601 30.141298 \nL 280.231981 29.829634 \nL 283.306361 29.829634 \nL 286.380741 29.829634 \nL 289.455121 29.829634 \nL 292.529502 29.829634 \nL 295.603882 29.829634 \nL 298.678262 29.829634 \nL 301.752642 29.829634 \nL 304.827022 29.829634 \nL 307.901402 29.829634 \nL 310.975783 29.51797 \nL 314.050163 29.51797 \nL 317.124543 29.51797 \nL 320.198923 29.51797 \nL 323.273303 29.51797 \nL 326.347683 29.829634 \nL 329.422064 29.829634 \nL 332.496444 29.829634 \nL 335.570824 29.829634 \nL 338.645204 29.829634 \nL 341.719584 29.829634 \nL 344.793964 29.829634 \nL 347.868345 29.829634 \nL 350.942725 29.829634 \nL 354.017105 29.829634 \nL 357.091485 29.829634 \nL 360.165865 29.829634 \nL 363.240245 29.829634 \nL 366.314626 29.829634 \nL 369.389006 29.51797 \n\" style=\"fill:none;stroke:#dd8452;stroke-linecap:round;stroke-width:1.5;\"/>\n   </g>\n   <g id=\"line2d_15\"/>\n   <g id=\"line2d_16\"/>\n   <g id=\"patch_3\">\n    <path d=\"M 49.807187 227.841296 \nL 49.807187 10.401296 \n\" style=\"fill:none;stroke:#ffffff;stroke-linecap:square;stroke-linejoin:miter;stroke-width:1.25;\"/>\n   </g>\n   <g id=\"patch_4\">\n    <path d=\"M 384.607188 227.841296 \nL 384.607188 10.401296 \n\" style=\"fill:none;stroke:#ffffff;stroke-linecap:square;stroke-linejoin:miter;stroke-width:1.25;\"/>\n   </g>\n   <g id=\"patch_5\">\n    <path d=\"M 49.807187 227.841296 \nL 384.607188 227.841296 \n\" style=\"fill:none;stroke:#ffffff;stroke-linecap:square;stroke-linejoin:miter;stroke-width:1.25;\"/>\n   </g>\n   <g id=\"patch_6\">\n    <path d=\"M 49.807187 10.401296 \nL 384.607188 10.401296 \n\" style=\"fill:none;stroke:#ffffff;stroke-linecap:square;stroke-linejoin:miter;stroke-width:1.25;\"/>\n   </g>\n   <g id=\"legend_1\">\n    <g id=\"patch_7\">\n     <path d=\"M 315.198906 222.341296 \nL 376.907188 222.341296 \nQ 379.107188 222.341296 379.107188 220.141296 \nL 379.107188 171.835671 \nQ 379.107188 169.635671 376.907188 169.635671 \nL 315.198906 169.635671 \nQ 312.998906 169.635671 312.998906 171.835671 \nL 312.998906 220.141296 \nQ 312.998906 222.341296 315.198906 222.341296 \nz\n\" style=\"fill:#eaeaf2;opacity:0.8;stroke:#cccccc;stroke-linejoin:miter;\"/>\n    </g>\n    <g id=\"text_15\">\n     <!-- Legend -->\n     <g style=\"fill:#262626;\" transform=\"translate(324.010547 183.153796)scale(0.12 -0.12)\">\n      <defs>\n       <path d=\"M 628 4666 \nL 1259 4666 \nL 1259 531 \nL 3531 531 \nL 3531 0 \nL 628 0 \nL 628 4666 \nz\n\" id=\"DejaVuSans-4c\" transform=\"scale(0.015625)\"/>\n       <path d=\"M 3597 1894 \nL 3597 1613 \nL 953 1613 \nQ 991 1019 1311 708 \nQ 1631 397 2203 397 \nQ 2534 397 2845 478 \nQ 3156 559 3463 722 \nL 3463 178 \nQ 3153 47 2828 -22 \nQ 2503 -91 2169 -91 \nQ 1331 -91 842 396 \nQ 353 884 353 1716 \nQ 353 2575 817 3079 \nQ 1281 3584 2069 3584 \nQ 2775 3584 3186 3129 \nQ 3597 2675 3597 1894 \nz\nM 3022 2063 \nQ 3016 2534 2758 2815 \nQ 2500 3097 2075 3097 \nQ 1594 3097 1305 2825 \nQ 1016 2553 972 2059 \nL 3022 2063 \nz\n\" id=\"DejaVuSans-65\" transform=\"scale(0.015625)\"/>\n       <path d=\"M 2906 1791 \nQ 2906 2416 2648 2759 \nQ 2391 3103 1925 3103 \nQ 1463 3103 1205 2759 \nQ 947 2416 947 1791 \nQ 947 1169 1205 825 \nQ 1463 481 1925 481 \nQ 2391 481 2648 825 \nQ 2906 1169 2906 1791 \nz\nM 3481 434 \nQ 3481 -459 3084 -895 \nQ 2688 -1331 1869 -1331 \nQ 1566 -1331 1297 -1286 \nQ 1028 -1241 775 -1147 \nL 775 -588 \nQ 1028 -725 1275 -790 \nQ 1522 -856 1778 -856 \nQ 2344 -856 2625 -561 \nQ 2906 -266 2906 331 \nL 2906 616 \nQ 2728 306 2450 153 \nQ 2172 0 1784 0 \nQ 1141 0 747 490 \nQ 353 981 353 1791 \nQ 353 2603 747 3093 \nQ 1141 3584 1784 3584 \nQ 2172 3584 2450 3431 \nQ 2728 3278 2906 2969 \nL 2906 3500 \nL 3481 3500 \nL 3481 434 \nz\n\" id=\"DejaVuSans-67\" transform=\"scale(0.015625)\"/>\n       <path d=\"M 3513 2113 \nL 3513 0 \nL 2938 0 \nL 2938 2094 \nQ 2938 2591 2744 2837 \nQ 2550 3084 2163 3084 \nQ 1697 3084 1428 2787 \nQ 1159 2491 1159 1978 \nL 1159 0 \nL 581 0 \nL 581 3500 \nL 1159 3500 \nL 1159 2956 \nQ 1366 3272 1645 3428 \nQ 1925 3584 2291 3584 \nQ 2894 3584 3203 3211 \nQ 3513 2838 3513 2113 \nz\n\" id=\"DejaVuSans-6e\" transform=\"scale(0.015625)\"/>\n       <path d=\"M 2906 2969 \nL 2906 4863 \nL 3481 4863 \nL 3481 0 \nL 2906 0 \nL 2906 525 \nQ 2725 213 2448 61 \nQ 2172 -91 1784 -91 \nQ 1150 -91 751 415 \nQ 353 922 353 1747 \nQ 353 2572 751 3078 \nQ 1150 3584 1784 3584 \nQ 2172 3584 2448 3432 \nQ 2725 3281 2906 2969 \nz\nM 947 1747 \nQ 947 1113 1208 752 \nQ 1469 391 1925 391 \nQ 2381 391 2643 752 \nQ 2906 1113 2906 1747 \nQ 2906 2381 2643 2742 \nQ 2381 3103 1925 3103 \nQ 1469 3103 1208 2742 \nQ 947 2381 947 1747 \nz\n\" id=\"DejaVuSans-64\" transform=\"scale(0.015625)\"/>\n      </defs>\n      <use xlink:href=\"#DejaVuSans-4c\"/>\n      <use x=\"53.962891\" xlink:href=\"#DejaVuSans-65\"/>\n      <use x=\"115.486328\" xlink:href=\"#DejaVuSans-67\"/>\n      <use x=\"178.962891\" xlink:href=\"#DejaVuSans-65\"/>\n      <use x=\"240.486328\" xlink:href=\"#DejaVuSans-6e\"/>\n      <use x=\"303.865234\" xlink:href=\"#DejaVuSans-64\"/>\n     </g>\n    </g>\n    <g id=\"line2d_17\">\n     <path d=\"M 317.398906 195.657702 \nL 339.398906 195.657702 \n\" style=\"fill:none;stroke:#4c72b0;stroke-linecap:round;stroke-width:1.5;\"/>\n    </g>\n    <g id=\"line2d_18\"/>\n    <g id=\"text_16\">\n     <!-- Train -->\n     <g style=\"fill:#262626;\" transform=\"translate(348.198906 199.507702)scale(0.11 -0.11)\">\n      <defs>\n       <path d=\"M -19 4666 \nL 3928 4666 \nL 3928 4134 \nL 2272 4134 \nL 2272 0 \nL 1638 0 \nL 1638 4134 \nL -19 4134 \nL -19 4666 \nz\n\" id=\"DejaVuSans-54\" transform=\"scale(0.015625)\"/>\n       <path d=\"M 603 3500 \nL 1178 3500 \nL 1178 0 \nL 603 0 \nL 603 3500 \nz\nM 603 4863 \nL 1178 4863 \nL 1178 4134 \nL 603 4134 \nL 603 4863 \nz\n\" id=\"DejaVuSans-69\" transform=\"scale(0.015625)\"/>\n      </defs>\n      <use xlink:href=\"#DejaVuSans-54\"/>\n      <use x=\"46.333984\" xlink:href=\"#DejaVuSans-72\"/>\n      <use x=\"87.447266\" xlink:href=\"#DejaVuSans-61\"/>\n      <use x=\"148.726562\" xlink:href=\"#DejaVuSans-69\"/>\n      <use x=\"176.509766\" xlink:href=\"#DejaVuSans-6e\"/>\n     </g>\n    </g>\n    <g id=\"line2d_19\">\n     <path d=\"M 317.398906 211.803639 \nL 339.398906 211.803639 \n\" style=\"fill:none;stroke:#dd8452;stroke-linecap:round;stroke-width:1.5;\"/>\n    </g>\n    <g id=\"line2d_20\"/>\n    <g id=\"text_17\">\n     <!-- Valid -->\n     <g style=\"fill:#262626;\" transform=\"translate(348.198906 215.653639)scale(0.11 -0.11)\">\n      <defs>\n       <path d=\"M 1831 0 \nL 50 4666 \nL 709 4666 \nL 2188 738 \nL 3669 4666 \nL 4325 4666 \nL 2547 0 \nL 1831 0 \nz\n\" id=\"DejaVuSans-56\" transform=\"scale(0.015625)\"/>\n       <path d=\"M 603 4863 \nL 1178 4863 \nL 1178 0 \nL 603 0 \nL 603 4863 \nz\n\" id=\"DejaVuSans-6c\" transform=\"scale(0.015625)\"/>\n      </defs>\n      <use xlink:href=\"#DejaVuSans-56\"/>\n      <use x=\"60.658203\" xlink:href=\"#DejaVuSans-61\"/>\n      <use x=\"121.9375\" xlink:href=\"#DejaVuSans-6c\"/>\n      <use x=\"149.720703\" xlink:href=\"#DejaVuSans-69\"/>\n      <use x=\"177.503906\" xlink:href=\"#DejaVuSans-64\"/>\n     </g>\n    </g>\n   </g>\n  </g>\n </g>\n <defs>\n  <clipPath id=\"pda292f71be\">\n   <rect height=\"217.44\" width=\"334.8\" x=\"49.807187\" y=\"10.401296\"/>\n  </clipPath>\n </defs>\n</svg>\n",
            "image/png": "[encoded data removed]"
          },
          "metadata": {
            "tags": []
          }
        }
      ]
    },
    {
      "cell_type": "markdown",
      "metadata": {
        "id": "03sBkcqCpW_1"
      },
      "source": [
        "## 76. チェックポイント"
      ]
    },
    {
      "cell_type": "code",
      "metadata": {
        "id": "iIWenl5FpW_1",
        "outputId": "54a76618-d69d-44e8-e422-3f9c8becd172"
      },
      "source": [
        "import pathlib\n",
        "\n",
        "# mkdir\n",
        "pathlib.Path('checkpoint').mkdir(exist_ok=True)\n",
        "\n",
        "# Define new network\n",
        "torch.manual_seed(46)\n",
        "single_layer_network = nn.Sequential(\n",
        "    nn.Linear(300, 4)\n",
        ")\n",
        "\n",
        "cross_entropy_loss = nn.CrossEntropyLoss()\n",
        "optimizer = SGD(single_layer_network.parameters(), lr=0.1)\n",
        "\n",
        "train_losses, valid_losses = [], []\n",
        "train_accs, valid_accs = [], []\n",
        "\n",
        "for epoch in tqdm.tqdm(range(1, 101)):\n",
        "    optimizer.zero_grad()\n",
        "    \n",
        "    # get losses\n",
        "    logits = single_layer_network(Xs['train'])\n",
        "    train_losses.append(cross_entropy_loss(logits.squeeze(), ys['train'].squeeze()))\n",
        "    pred_train = logits.argmax(dim=2).detach()\n",
        "\n",
        "    logits = single_layer_network(Xs['valid'])\n",
        "    valid_losses.append(cross_entropy_loss(logits.squeeze(), ys['valid'].squeeze()))\n",
        "    pred_valid = logits.argmax(dim=2).detach()\n",
        "\n",
        "    # get accuracies\n",
        "    train_accs.append(accuracy_score(ys['train'].squeeze(), pred_train.squeeze()))\n",
        "    valid_accs.append(accuracy_score(ys['valid'].squeeze(), pred_valid.squeeze()))\n",
        "\n",
        "    # backward\n",
        "    train_losses[-1].backward()\n",
        "    optimizer.step()\n",
        "\n",
        "    # save checkpoint\n",
        "    torch.save({\n",
        "        'epoch': epoch,\n",
        "        'model_state_dict': single_layer_network.state_dict(),\n",
        "        'optimizer_state_dict': optimizer.state_dict(),\n",
        "        'loss': train_losses[-1],\n",
        "        }, 'checkpoint/epoch_{:}.pt'.format(epoch))"
      ],
      "execution_count": null,
      "outputs": [
        {
          "output_type": "stream",
          "text": [
            "100%|██████████| 100/100 [00:00<00:00, 117.60it/s]\n"
          ],
          "name": "stderr"
        }
      ]
    },
    {
      "cell_type": "markdown",
      "metadata": {
        "id": "aOmw6IespW_2"
      },
      "source": [
        "## 77. ミニバッチ化"
      ]
    },
    {
      "cell_type": "code",
      "metadata": {
        "id": "Of0cYNwKpW_3"
      },
      "source": [
        "# define DataSet\n",
        "class DataSet:\n",
        "    def __init__(self, X, y):\n",
        "        self.X = X.squeeze()\n",
        "        self.y = y.squeeze()\n",
        "\n",
        "    def __len__(self):\n",
        "        return len(self.X)\n",
        "\n",
        "    def __getitem__(self, index):\n",
        "        return {'X': self.X[index], 'y': self.y[index]}\n",
        "\n",
        "train_dataset = DataSet(Xs['train'], ys['train'])"
      ],
      "execution_count": null,
      "outputs": []
    },
    {
      "cell_type": "code",
      "metadata": {
        "tags": [],
        "id": "ZWj44SQcpW_3",
        "outputId": "17f4731a-ef53-4411-e2cc-9fdaf1345890"
      },
      "source": [
        "import time\n",
        "from torch.utils.data import DataLoader\n",
        "\n",
        "cross_entropy_loss = nn.CrossEntropyLoss()\n",
        "\n",
        "for batch_size in [2**i for i in range(1, 11)]:\n",
        "    \n",
        "    # Define new network\n",
        "    torch.manual_seed(46)\n",
        "    single_layer_network = nn.Sequential(\n",
        "        nn.Linear(300, 4)\n",
        "    )\n",
        "    train_losses, train_accs = [], []\n",
        "\n",
        "    optimizer = SGD(single_layer_network.parameters(), lr=0.1)\n",
        "\n",
        "    # time\n",
        "    start = time.time()\n",
        "\n",
        "    dataloader = torch.utils.data.DataLoader(train_dataset, batch_size=batch_size)\n",
        "    for data in dataloader:\n",
        "        optimizer.zero_grad()\n",
        "        \n",
        "        # get losses\n",
        "        logits = single_layer_network(data['X'])\n",
        "        train_losses.append(cross_entropy_loss(logits.squeeze(), data['y'].squeeze()))\n",
        "        pred_train = logits.argmax(dim=1).detach()\n",
        "\n",
        "        # get accuracies\n",
        "        train_accs.append(accuracy_score(data['y'].squeeze(), pred_train.squeeze()))\n",
        "\n",
        "        # backward\n",
        "        train_losses[-1].backward()\n",
        "        optimizer.step()\n",
        "\n",
        "    t = time.time() - start\n",
        "    print('Time={:.3f}sec. (batch_size={:})'.format(t, batch_size))\n",
        "\n",
        "    # save checkpoint\n",
        "    torch.save({\n",
        "        'epoch': 1,\n",
        "        'model_state_dict': single_layer_network.state_dict(),\n",
        "        'optimizer_state_dict': optimizer.state_dict(),\n",
        "        'loss': train_losses[-1],\n",
        "        }, 'checkpoint/batch_size_{:}.pt'.format(batch_size))"
      ],
      "execution_count": null,
      "outputs": [
        {
          "output_type": "stream",
          "text": [
            "Time=2.607sec. (batch_size=2)\n",
            "Time=1.298sec. (batch_size=4)\n",
            "Time=0.673sec. (batch_size=8)\n",
            "Time=0.360sec. (batch_size=16)\n",
            "Time=0.201sec. (batch_size=32)\n",
            "Time=0.129sec. (batch_size=64)\n",
            "Time=0.106sec. (batch_size=128)\n",
            "Time=0.073sec. (batch_size=256)\n",
            "Time=0.059sec. (batch_size=512)\n",
            "Time=0.051sec. (batch_size=1024)\n"
          ],
          "name": "stdout"
        }
      ]
    },
    {
      "cell_type": "markdown",
      "metadata": {
        "id": "MQ8iumxlpW_4"
      },
      "source": [
        "## 78. GPU上での学習"
      ]
    },
    {
      "cell_type": "code",
      "metadata": {
        "id": "RcMJnLsSpW_4",
        "outputId": "4cfb10e6-2593-447f-c754-02a475727a9d",
        "colab": {
          "resources": {
            "http://localhost:8080/nbextensions/google.colab/files.js": {
              "data": "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",
              "ok": true,
              "headers": [
                [
                  "content-type",
                  "application/javascript"
                ]
              ],
              "status": 200,
              "status_text": "OK"
            }
          },
          "base_uri": "https://localhost:8080/",
          "height": 236
        }
      },
      "source": [
        "import time\n",
        "\n",
        "import torch\n",
        "import torch.nn as nn\n",
        "from torch.optim import SGD\n",
        "from torch.utils.data import DataLoader\n",
        "from sklearn.metrics import accuracy_score\n",
        "\n",
        "from google.colab import files\n",
        "\n",
        "# define DataSet\n",
        "class DataSet:\n",
        "    def __init__(self, X, y):\n",
        "        self.X = X.squeeze()\n",
        "        self.y = y.squeeze()\n",
        "\n",
        "    def __len__(self):\n",
        "        return len(self.X)\n",
        "\n",
        "    def __getitem__(self, index):\n",
        "        return {'X': self.X[index], 'y': self.y[index]}\n",
        "\n",
        "device = torch.device('cuda') if torch.cuda.is_available() else torch.device('cpu')\n",
        "print('Using {} device'.format(device.type))\n",
        "\n",
        "# upload dataset\n",
        "files.upload()\n",
        "\n",
        "X = torch.load(\n",
        "    'X_train.pickle',\n",
        "    map_location=device)\n",
        "y = torch.load(\n",
        "    'y_train.pickle',\n",
        "    map_location=device)\n",
        "\n",
        "train_dataset = DataSet(X, y)\n",
        "\n",
        "cross_entropy_loss = nn.CrossEntropyLoss()\n",
        "\n",
        "for batch_size in [2**i for i in range(1, 11)]:\n",
        "    \n",
        "    # Define new network\n",
        "    torch.manual_seed(46)\n",
        "    single_layer_network = nn.Sequential(\n",
        "        nn.Linear(300, 4)\n",
        "    )\n",
        "    single_layer_network.to(device)\n",
        "    train_losses, train_accs = [], []\n",
        "\n",
        "    optimizer = SGD(single_layer_network.parameters(), lr=0.1)\n",
        "\n",
        "    # time\n",
        "    start = time.time()\n",
        "\n",
        "    dataloader = torch.utils.data.DataLoader(train_dataset, batch_size=batch_size)\n",
        "    for data in dataloader:\n",
        "        optimizer.zero_grad()\n",
        "        \n",
        "        # get losses\n",
        "        logits = single_layer_network(data['X'])\n",
        "        train_losses.append(cross_entropy_loss(logits.squeeze(), data['y'].squeeze()))\n",
        "        pred_train = logits.argmax(dim=1).detach()\n",
        "\n",
        "        # get accuracies\n",
        "        data_y_cpu = data['y'].clone().squeeze().cpu()\n",
        "        pred_train_cpu = pred_train.clone().squeeze().cpu()\n",
        "        train_accs.append(accuracy_score(data_y_cpu, pred_train_cpu))\n",
        "\n",
        "        # backward\n",
        "        train_losses[-1].backward()\n",
        "        optimizer.step()\n",
        "\n",
        "    t = time.time() - start\n",
        "    print('Time={:.3f}sec. (batch_size={:})'.format(t, batch_size))\n",
        "\n",
        "    # save checkpoint\n",
        "    torch.save({\n",
        "        'epoch': 1,\n",
        "        'model_state_dict': single_layer_network.state_dict(),\n",
        "        'optimizer_state_dict': optimizer.state_dict(),\n",
        "        'loss': train_losses[-1],\n",
        "        }, 'checkpoint/gpu_batch_size_{:}.pt'.format(batch_size))"
      ],
      "execution_count": 6,
      "outputs": [
        {
          "output_type": "stream",
          "text": [
            "Using cuda device\n"
          ],
          "name": "stdout"
        },
        {
          "output_type": "display_data",
          "data": {
            "text/html": [
              "\n",
              "     <input type=\"file\" id=\"files-543c043a-d85c-40fe-970c-f9d4b54de0a9\" name=\"files[]\" multiple disabled\n",
              "        style=\"border:none\" />\n",
              "     <output id=\"result-543c043a-d85c-40fe-970c-f9d4b54de0a9\">\n",
              "      Upload widget is only available when the cell has been executed in the\n",
              "      current browser session. Please rerun this cell to enable.\n",
              "      </output>\n",
              "      <script src=\"/nbextensions/google.colab/files.js\"></script> "
            ],
            "text/plain": [
              "<IPython.core.display.HTML object>"
            ]
          },
          "metadata": {
            "tags": []
          }
        },
        {
          "output_type": "stream",
          "text": [
            "Time=7.088sec. (batch_size=2)\n",
            "Time=3.510sec. (batch_size=4)\n",
            "Time=1.760sec. (batch_size=8)\n",
            "Time=0.877sec. (batch_size=16)\n",
            "Time=0.497sec. (batch_size=32)\n",
            "Time=0.287sec. (batch_size=64)\n",
            "Time=0.164sec. (batch_size=128)\n",
            "Time=0.114sec. (batch_size=256)\n",
            "Time=0.092sec. (batch_size=512)\n",
            "Time=0.073sec. (batch_size=1024)\n"
          ],
          "name": "stdout"
        }
      ]
    },
    {
      "cell_type": "code",
      "metadata": {
        "id": "bxyYcOm9pW_4"
      },
      "source": [
        ""
      ],
      "execution_count": null,
      "outputs": []
    }
  ]
}