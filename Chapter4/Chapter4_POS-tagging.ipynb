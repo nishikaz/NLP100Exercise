{
 "cells": [
  {
   "cell_type": "markdown",
   "metadata": {},
   "source": [
    "# 第4章: 形態素解析\n",
    "夏目漱石の小説『吾輩は猫である』の文章（neko.txt）をMeCabを使って形態素解析し，その結果をneko.txt.mecabというファイルに保存せよ．このファイルを用いて，以下の問に対応するプログラムを実装せよ．\n",
    "\n",
    "なお，問題37, 38, 39はmatplotlibもしくはGnuplotを用いるとよい"
   ]
  },
  {
   "cell_type": "code",
   "execution_count": 1,
   "metadata": {},
   "outputs": [],
   "source": [
    "import MeCab\n",
    "mecab = MeCab.Tagger ('-d /usr/local/lib/mecab/dic/mecab-ipadic-neologd')"
   ]
  },
  {
   "cell_type": "code",
   "execution_count": 31,
   "metadata": {},
   "outputs": [],
   "source": [
    "result = []\n",
    "with open('neko.txt', 'r') as f:\n",
    "    l_strip = [s.strip() for s in f.readlines() if s != '\\n']\n",
    "\n",
    "with open('neko.txt.mecab', mode='w') as f:\n",
    "    for each in l_strip:\n",
    "        f.write(mecab.parse(each))"
   ]
  },
  {
   "cell_type": "markdown",
   "metadata": {},
   "source": [
    "## 30. 形態素解析結果の読み込み\n",
    "形態素解析結果（neko.txt.mecab）を読み込むプログラムを実装せよ．ただし，各形態素は表層形（surface），基本形（base），品詞（pos），品詞細分類1（pos1）をキーとするマッピング型に格納し，1文を形態素（マッピング型）のリストとして表現せよ．第4章の残りの問題では，ここで作ったプログラムを活用せよ．"
   ]
  },
  {
   "cell_type": "code",
   "execution_count": 45,
   "metadata": {},
   "outputs": [
    {
     "data": {
      "text/plain": [
       "[[{'surface': '一', 'pos': '名詞', 'base': '一', 'pos1': '数'}],\n",
       " [{'surface': '吾輩は猫である', 'pos': '名詞', 'base': '吾輩は猫である', 'pos1': '固有名詞'},\n",
       "  {'surface': '。', 'pos': '記号', 'base': '。', 'pos1': '句点'}],\n",
       " [{'surface': '名前', 'pos': '名詞', 'base': '名前', 'pos1': '一般'},\n",
       "  {'surface': 'は', 'pos': '助詞', 'base': 'は', 'pos1': '係助詞'},\n",
       "  {'surface': 'まだ', 'pos': '副詞', 'base': 'まだ', 'pos1': '助詞類接続'},\n",
       "  {'surface': '無い', 'pos': '形容詞', 'base': '無い', 'pos1': '自立'},\n",
       "  {'surface': '。', 'pos': '記号', 'base': '。', 'pos1': '句点'}]]"
      ]
     },
     "execution_count": 45,
     "metadata": {},
     "output_type": "execute_result"
    }
   ],
   "source": [
    "import csv\n",
    "\n",
    "with open('neko.txt.mecab', 'r') as f:\n",
    "    reader = csv.reader(f)\n",
    "    l_morpheme = [row for row in reader]\n",
    "\n",
    "neko_morphemes, sentence_morphemes = [], []\n",
    "\n",
    "for each_morpheme in l_morpheme:\n",
    "    if each_morpheme[0] != 'EOS':\n",
    "        \n",
    "        d_morphemes = {}\n",
    "        d_morphemes['surface'], d_morphemes['pos'] = each_morpheme[0].split('\\t')\n",
    "        d_morphemes['base'] = each_morpheme[6]\n",
    "        d_morphemes['pos1'] = each_morpheme[1]\n",
    "        \n",
    "        sentence_morphemes.append(d_morphemes)\n",
    "    else:\n",
    "        neko_morphemes.append(sentence_morphemes)\n",
    "        sentence_morphemes = []\n",
    "\n",
    "neko_morphemes[:3]"
   ]
  },
  {
   "cell_type": "markdown",
   "metadata": {},
   "source": [
    "## 31. 動詞\n",
    "動詞の表層形をすべて抽出せよ．\n"
   ]
  },
  {
   "cell_type": "code",
   "execution_count": 46,
   "metadata": {},
   "outputs": [
    {
     "data": {
      "text/plain": [
       "['生れ', 'つか', '泣い', 'し', 'いる', '始め', '見', '聞く', '捕え', '煮']"
      ]
     },
     "execution_count": 46,
     "metadata": {},
     "output_type": "execute_result"
    }
   ],
   "source": [
    "verbs = []\n",
    "\n",
    "for sentence in neko_morphemes:\n",
    "    for word in sentence:\n",
    "        if word['pos'] == '動詞':\n",
    "            verbs.append(word['surface'])\n",
    "\n",
    "verbs[:10]"
   ]
  },
  {
   "cell_type": "code",
   "execution_count": null,
   "metadata": {},
   "outputs": [],
   "source": []
  }
 ],
 "metadata": {
  "kernelspec": {
   "display_name": "Python 3",
   "language": "python",
   "name": "python3"
  },
  "language_info": {
   "codemirror_mode": {
    "name": "ipython",
    "version": 3
   },
   "file_extension": ".py",
   "mimetype": "text/x-python",
   "name": "python",
   "nbconvert_exporter": "python",
   "pygments_lexer": "ipython3",
   "version": "3.6.9"
  }
 },
 "nbformat": 4,
 "nbformat_minor": 4
}
